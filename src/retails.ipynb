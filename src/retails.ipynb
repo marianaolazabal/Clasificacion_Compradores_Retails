{
 "cells": [
  {
   "cell_type": "code",
   "execution_count": 1,
   "metadata": {},
   "outputs": [],
   "source": [
    "import pandas as pd\n",
    "import numpy as np\n",
    "import matplotlib.pyplot as plt\n",
    "import seaborn as sns\n",
    "from pandas.plotting import scatter_matrix\n",
    "from sklearn.model_selection import train_test_split # División del dataset\n",
    "from sklearn.tree import DecisionTreeClassifier\n",
    "from sklearn.metrics import accuracy_score, classification_report, confusion_matrix\n",
    "from matplotlib.cm import ScalarMappable\n",
    "from matplotlib.lines import Line2D"
   ]
  },
  {
   "cell_type": "code",
   "execution_count": 3,
   "metadata": {},
   "outputs": [],
   "source": [
    "df_Retail = pd.read_csv('../data/new_retail_data.csv')"
   ]
  },
  {
   "cell_type": "code",
   "execution_count": 4,
   "metadata": {},
   "outputs": [
    {
     "data": {
      "text/html": [
       "<div>\n",
       "<style scoped>\n",
       "    .dataframe tbody tr th:only-of-type {\n",
       "        vertical-align: middle;\n",
       "    }\n",
       "\n",
       "    .dataframe tbody tr th {\n",
       "        vertical-align: top;\n",
       "    }\n",
       "\n",
       "    .dataframe thead th {\n",
       "        text-align: right;\n",
       "    }\n",
       "</style>\n",
       "<table border=\"1\" class=\"dataframe\">\n",
       "  <thead>\n",
       "    <tr style=\"text-align: right;\">\n",
       "      <th></th>\n",
       "      <th>Transaction_ID</th>\n",
       "      <th>Customer_ID</th>\n",
       "      <th>Name</th>\n",
       "      <th>Email</th>\n",
       "      <th>Phone</th>\n",
       "      <th>Address</th>\n",
       "      <th>City</th>\n",
       "      <th>State</th>\n",
       "      <th>Zipcode</th>\n",
       "      <th>Country</th>\n",
       "      <th>...</th>\n",
       "      <th>Total_Amount</th>\n",
       "      <th>Product_Category</th>\n",
       "      <th>Product_Brand</th>\n",
       "      <th>Product_Type</th>\n",
       "      <th>Feedback</th>\n",
       "      <th>Shipping_Method</th>\n",
       "      <th>Payment_Method</th>\n",
       "      <th>Order_Status</th>\n",
       "      <th>Ratings</th>\n",
       "      <th>products</th>\n",
       "    </tr>\n",
       "  </thead>\n",
       "  <tbody>\n",
       "    <tr>\n",
       "      <th>0</th>\n",
       "      <td>8691788.0</td>\n",
       "      <td>37249.0</td>\n",
       "      <td>Michelle Harrington</td>\n",
       "      <td>Ebony39@gmail.com</td>\n",
       "      <td>1.414787e+09</td>\n",
       "      <td>3959 Amanda Burgs</td>\n",
       "      <td>Dortmund</td>\n",
       "      <td>Berlin</td>\n",
       "      <td>77985.0</td>\n",
       "      <td>Germany</td>\n",
       "      <td>...</td>\n",
       "      <td>324.086270</td>\n",
       "      <td>Clothing</td>\n",
       "      <td>Nike</td>\n",
       "      <td>Shorts</td>\n",
       "      <td>Excellent</td>\n",
       "      <td>Same-Day</td>\n",
       "      <td>Debit Card</td>\n",
       "      <td>Shipped</td>\n",
       "      <td>5.0</td>\n",
       "      <td>Cycling shorts</td>\n",
       "    </tr>\n",
       "    <tr>\n",
       "      <th>1</th>\n",
       "      <td>2174773.0</td>\n",
       "      <td>69749.0</td>\n",
       "      <td>Kelsey Hill</td>\n",
       "      <td>Mark36@gmail.com</td>\n",
       "      <td>6.852900e+09</td>\n",
       "      <td>82072 Dawn Centers</td>\n",
       "      <td>Nottingham</td>\n",
       "      <td>England</td>\n",
       "      <td>99071.0</td>\n",
       "      <td>UK</td>\n",
       "      <td>...</td>\n",
       "      <td>806.707815</td>\n",
       "      <td>Electronics</td>\n",
       "      <td>Samsung</td>\n",
       "      <td>Tablet</td>\n",
       "      <td>Excellent</td>\n",
       "      <td>Standard</td>\n",
       "      <td>Credit Card</td>\n",
       "      <td>Processing</td>\n",
       "      <td>4.0</td>\n",
       "      <td>Lenovo Tab</td>\n",
       "    </tr>\n",
       "    <tr>\n",
       "      <th>2</th>\n",
       "      <td>6679610.0</td>\n",
       "      <td>30192.0</td>\n",
       "      <td>Scott Jensen</td>\n",
       "      <td>Shane85@gmail.com</td>\n",
       "      <td>8.362160e+09</td>\n",
       "      <td>4133 Young Canyon</td>\n",
       "      <td>Geelong</td>\n",
       "      <td>New South Wales</td>\n",
       "      <td>75929.0</td>\n",
       "      <td>Australia</td>\n",
       "      <td>...</td>\n",
       "      <td>1063.432799</td>\n",
       "      <td>Books</td>\n",
       "      <td>Penguin Books</td>\n",
       "      <td>Children's</td>\n",
       "      <td>Average</td>\n",
       "      <td>Same-Day</td>\n",
       "      <td>Credit Card</td>\n",
       "      <td>Processing</td>\n",
       "      <td>2.0</td>\n",
       "      <td>Sports equipment</td>\n",
       "    </tr>\n",
       "    <tr>\n",
       "      <th>3</th>\n",
       "      <td>7232460.0</td>\n",
       "      <td>62101.0</td>\n",
       "      <td>Joseph Miller</td>\n",
       "      <td>Mary34@gmail.com</td>\n",
       "      <td>2.776752e+09</td>\n",
       "      <td>8148 Thomas Creek Suite 100</td>\n",
       "      <td>Edmonton</td>\n",
       "      <td>Ontario</td>\n",
       "      <td>88420.0</td>\n",
       "      <td>Canada</td>\n",
       "      <td>...</td>\n",
       "      <td>2466.854021</td>\n",
       "      <td>Home Decor</td>\n",
       "      <td>Home Depot</td>\n",
       "      <td>Tools</td>\n",
       "      <td>Excellent</td>\n",
       "      <td>Standard</td>\n",
       "      <td>PayPal</td>\n",
       "      <td>Processing</td>\n",
       "      <td>4.0</td>\n",
       "      <td>Utility knife</td>\n",
       "    </tr>\n",
       "    <tr>\n",
       "      <th>4</th>\n",
       "      <td>4983775.0</td>\n",
       "      <td>27901.0</td>\n",
       "      <td>Debra Coleman</td>\n",
       "      <td>Charles30@gmail.com</td>\n",
       "      <td>9.098268e+09</td>\n",
       "      <td>5813 Lori Ports Suite 269</td>\n",
       "      <td>Bristol</td>\n",
       "      <td>England</td>\n",
       "      <td>48704.0</td>\n",
       "      <td>UK</td>\n",
       "      <td>...</td>\n",
       "      <td>248.553049</td>\n",
       "      <td>Grocery</td>\n",
       "      <td>Nestle</td>\n",
       "      <td>Chocolate</td>\n",
       "      <td>Bad</td>\n",
       "      <td>Standard</td>\n",
       "      <td>Cash</td>\n",
       "      <td>Shipped</td>\n",
       "      <td>1.0</td>\n",
       "      <td>Chocolate cookies</td>\n",
       "    </tr>\n",
       "  </tbody>\n",
       "</table>\n",
       "<p>5 rows × 30 columns</p>\n",
       "</div>"
      ],
      "text/plain": [
       "   Transaction_ID  Customer_ID                 Name                Email  \\\n",
       "0       8691788.0      37249.0  Michelle Harrington    Ebony39@gmail.com   \n",
       "1       2174773.0      69749.0          Kelsey Hill     Mark36@gmail.com   \n",
       "2       6679610.0      30192.0         Scott Jensen    Shane85@gmail.com   \n",
       "3       7232460.0      62101.0        Joseph Miller     Mary34@gmail.com   \n",
       "4       4983775.0      27901.0        Debra Coleman  Charles30@gmail.com   \n",
       "\n",
       "          Phone                      Address        City            State  \\\n",
       "0  1.414787e+09            3959 Amanda Burgs    Dortmund           Berlin   \n",
       "1  6.852900e+09           82072 Dawn Centers  Nottingham          England   \n",
       "2  8.362160e+09            4133 Young Canyon     Geelong  New South Wales   \n",
       "3  2.776752e+09  8148 Thomas Creek Suite 100    Edmonton          Ontario   \n",
       "4  9.098268e+09    5813 Lori Ports Suite 269     Bristol          England   \n",
       "\n",
       "   Zipcode    Country  ...  Total_Amount Product_Category  Product_Brand  \\\n",
       "0  77985.0    Germany  ...    324.086270         Clothing           Nike   \n",
       "1  99071.0         UK  ...    806.707815      Electronics        Samsung   \n",
       "2  75929.0  Australia  ...   1063.432799            Books  Penguin Books   \n",
       "3  88420.0     Canada  ...   2466.854021       Home Decor     Home Depot   \n",
       "4  48704.0         UK  ...    248.553049          Grocery         Nestle   \n",
       "\n",
       "  Product_Type   Feedback  Shipping_Method Payment_Method Order_Status  \\\n",
       "0       Shorts  Excellent         Same-Day     Debit Card      Shipped   \n",
       "1       Tablet  Excellent         Standard    Credit Card   Processing   \n",
       "2   Children's    Average         Same-Day    Credit Card   Processing   \n",
       "3        Tools  Excellent         Standard         PayPal   Processing   \n",
       "4    Chocolate        Bad         Standard           Cash      Shipped   \n",
       "\n",
       "   Ratings           products  \n",
       "0      5.0     Cycling shorts  \n",
       "1      4.0         Lenovo Tab  \n",
       "2      2.0   Sports equipment  \n",
       "3      4.0      Utility knife  \n",
       "4      1.0  Chocolate cookies  \n",
       "\n",
       "[5 rows x 30 columns]"
      ]
     },
     "execution_count": 4,
     "metadata": {},
     "output_type": "execute_result"
    }
   ],
   "source": [
    "df_Retail.head()"
   ]
  },
  {
   "cell_type": "code",
   "execution_count": 5,
   "metadata": {},
   "outputs": [
    {
     "data": {
      "text/plain": [
       "(302010, 30)"
      ]
     },
     "execution_count": 5,
     "metadata": {},
     "output_type": "execute_result"
    }
   ],
   "source": [
    "df_Retail.shape"
   ]
  },
  {
   "cell_type": "code",
   "execution_count": 6,
   "metadata": {},
   "outputs": [
    {
     "data": {
      "text/plain": [
       "Transaction_ID      float64\n",
       "Customer_ID         float64\n",
       "Name                 object\n",
       "Email                object\n",
       "Phone               float64\n",
       "Address              object\n",
       "City                 object\n",
       "State                object\n",
       "Zipcode             float64\n",
       "Country              object\n",
       "Age                 float64\n",
       "Gender               object\n",
       "Income               object\n",
       "Customer_Segment     object\n",
       "Date                 object\n",
       "Year                float64\n",
       "Month                object\n",
       "Time                 object\n",
       "Total_Purchases     float64\n",
       "Amount              float64\n",
       "Total_Amount        float64\n",
       "Product_Category     object\n",
       "Product_Brand        object\n",
       "Product_Type         object\n",
       "Feedback             object\n",
       "Shipping_Method      object\n",
       "Payment_Method       object\n",
       "Order_Status         object\n",
       "Ratings             float64\n",
       "products             object\n",
       "dtype: object"
      ]
     },
     "execution_count": 6,
     "metadata": {},
     "output_type": "execute_result"
    }
   ],
   "source": [
    "df_Retail.dtypes"
   ]
  },
  {
   "cell_type": "markdown",
   "metadata": {},
   "source": [
    "##Analizar si hay missing values o valores nulos"
   ]
  },
  {
   "cell_type": "code",
   "execution_count": 8,
   "metadata": {},
   "outputs": [
    {
     "data": {
      "text/plain": [
       "0.1"
      ]
     },
     "execution_count": 8,
     "metadata": {},
     "output_type": "execute_result"
    }
   ],
   "source": [
    "df_Retail.isna().sum().sum() # number of missing cells\n",
    "round(df_Retail.isna().sum().sum() / df_Retail.size * 100, 1) # percentage of missing cells"
   ]
  },
  {
   "cell_type": "markdown",
   "metadata": {},
   "source": [
    "EL 10% tiene datos faltantes"
   ]
  },
  {
   "cell_type": "code",
   "execution_count": 9,
   "metadata": {},
   "outputs": [
    {
     "data": {
      "text/plain": [
       "Transaction_ID      333\n",
       "Customer_ID         308\n",
       "Name                382\n",
       "Email               347\n",
       "Phone               362\n",
       "Address             315\n",
       "City                248\n",
       "State               281\n",
       "Zipcode             340\n",
       "Country             271\n",
       "Age                 173\n",
       "Gender              317\n",
       "Income              290\n",
       "Customer_Segment    215\n",
       "Date                359\n",
       "Year                350\n",
       "Month               273\n",
       "Time                350\n",
       "Total_Purchases     361\n",
       "Amount              357\n",
       "Total_Amount        350\n",
       "Product_Category    283\n",
       "Product_Brand       281\n",
       "Product_Type          0\n",
       "Feedback            184\n",
       "Shipping_Method     337\n",
       "Payment_Method      297\n",
       "Order_Status        235\n",
       "Ratings             184\n",
       "products              0\n",
       "dtype: int64"
      ]
     },
     "execution_count": 9,
     "metadata": {},
     "output_type": "execute_result"
    }
   ],
   "source": [
    "df_Retail.isna().sum()"
   ]
  },
  {
   "cell_type": "markdown",
   "metadata": {},
   "source": [
    "Por mayor comodidad, transformo todas las variables a category menos las numericas"
   ]
  },
  {
   "cell_type": "code",
   "execution_count": 10,
   "metadata": {},
   "outputs": [],
   "source": [
    "columns_not_to_convert = ['Age', 'Zipcode','Total_Purchases', 'Amount', 'Total_Amount', 'Ratings', 'Customer_ID', 'Transaction_ID']\n",
    "all_columns = set(df_Retail.columns)\n",
    "\n",
    "columns_not_to_convert_set = set(columns_not_to_convert)\n",
    "columns_to_skip = list(all_columns - columns_not_to_convert_set)\n",
    "\n",
    "# Convertir las columnas restantes a tipo 'category'\n",
    "for col in columns_to_skip:\n",
    "    df_Retail[col] = df_Retail[col].astype('category')"
   ]
  },
  {
   "cell_type": "code",
   "execution_count": 13,
   "metadata": {},
   "outputs": [
    {
     "data": {
      "text/plain": [
       "array([21, 19, 48, 56, 22, 58, 29, 46, 25, 64, 31, 53, 32, 43, 69, 49, 61,\n",
       "       41, 38, 59, 20, 67, 50, 26, 66, 24, 54, 28, 34, 65, 40, 68, 36, 57,\n",
       "       27, 35, 70, 37, 30, 39, 47, 18, 60, 33, 42, 44, 51, 63, 55, 23, 62,\n",
       "       52, 45])"
      ]
     },
     "execution_count": 13,
     "metadata": {},
     "output_type": "execute_result"
    }
   ],
   "source": [
    "df_Retail['Age'].unique()"
   ]
  },
  {
   "cell_type": "markdown",
   "metadata": {},
   "source": [
    "La edad esta en float, la transformo a entero"
   ]
  },
  {
   "cell_type": "code",
   "execution_count": 11,
   "metadata": {},
   "outputs": [],
   "source": [
    "df_Retail = df_Retail.dropna(subset=['Age'])\n",
    "df_Retail = df_Retail.dropna(subset=['Zipcode'])\n",
    "df_Retail = df_Retail.dropna(subset=['Year'])"
   ]
  },
  {
   "cell_type": "code",
   "execution_count": 12,
   "metadata": {},
   "outputs": [],
   "source": [
    "df_Retail['Age'] = df_Retail['Age'].astype('int')\n",
    "df_Retail['Year'] = df_Retail['Year'].astype('int')\n",
    "df_Retail['Zipcode'] = df_Retail['Zipcode'].astype('int')"
   ]
  },
  {
   "cell_type": "markdown",
   "metadata": {},
   "source": [
    "Quiero borrar todos los valores nulos o nan pero quiero estudiar primero si me conviene borrar las filas o una columna entera, porque si los datos faltantes es tan en su mayoria en una columna puede ser mejor deshacerme de esa columna en lugar de borrar registros.\n",
    "A continuacion estudio cual es la variable que tiene la mayor cantidad de nulos o valores nan"
   ]
  },
  {
   "cell_type": "code",
   "execution_count": 14,
   "metadata": {},
   "outputs": [
    {
     "name": "stdout",
     "output_type": "stream",
     "text": [
      "La columna con la mayor cantidad de NaN es: Name\n",
      "Número de NaN en esta columna: 382\n"
     ]
    }
   ],
   "source": [
    "# Calcular el número de valores NaN por columna\n",
    "nan_counts = df_Retail.isna().sum()\n",
    "\n",
    "# Encontrar la columna con el mayor número de NaN\n",
    "column_with_most_nan = nan_counts.idxmax()\n",
    "max_nan_count = nan_counts.max()\n",
    "\n",
    "# Mostrar resultados\n",
    "print(\"La columna con la mayor cantidad de NaN es:\", column_with_most_nan)\n",
    "print(\"Número de NaN en esta columna:\", max_nan_count)"
   ]
  },
  {
   "cell_type": "markdown",
   "metadata": {},
   "source": [
    "Siendo que Name es la columna con la mayor cantidad de nulos y que esta no tiene valor estadistico para mi estudio, la elimino"
   ]
  },
  {
   "cell_type": "code",
   "execution_count": 15,
   "metadata": {},
   "outputs": [],
   "source": [
    "df_Retail = df_Retail.drop(columns=['Name'])"
   ]
  },
  {
   "cell_type": "code",
   "execution_count": 16,
   "metadata": {},
   "outputs": [],
   "source": [
    "df_Retail['Total_Amount'] = df_Retail['Total_Amount'].round(2)\n",
    "df_Retail['Amount'] = df_Retail['Amount'].round(2)\n",
    "df_Retail['Total_Purchases'] = df_Retail['Total_Purchases'].round(2)"
   ]
  },
  {
   "cell_type": "code",
   "execution_count": 17,
   "metadata": {},
   "outputs": [
    {
     "name": "stdout",
     "output_type": "stream",
     "text": [
      "Número total de filas antes de eliminar NaN: 301147\n",
      "Número total de filas después de eliminar NaN: 294280\n",
      "Número de filas eliminadas: 6867\n"
     ]
    }
   ],
   "source": [
    "# Quiero eliminar las filas que contengan NAN, pero no quiero quedarme con pocos datos por lo que cuento primero cuantas filas se borrarian\n",
    "\n",
    "total_rows_before = df_Retail.shape[0]\n",
    "\n",
    "# Eliminar todas las filas que contienen al menos un NaN en alguna columna\n",
    "df_clean = df_Retail.dropna()\n",
    "\n",
    "# Contar las filas después de eliminar NaN\n",
    "total_rows_after = df_clean.shape[0]\n",
    "\n",
    "# Calcular cuántas filas se eliminaron\n",
    "rows_deleted = total_rows_before - total_rows_after\n",
    "\n",
    "# Mostrar resultados\n",
    "print(\"Número total de filas antes de eliminar NaN:\", total_rows_before)\n",
    "print(\"Número total de filas después de eliminar NaN:\", total_rows_after)\n",
    "print(\"Número de filas eliminadas:\", rows_deleted)"
   ]
  },
  {
   "cell_type": "markdown",
   "metadata": {},
   "source": [
    "Estudio la consistencia de la variable edad"
   ]
  },
  {
   "cell_type": "code",
   "execution_count": 19,
   "metadata": {},
   "outputs": [
    {
     "name": "stdout",
     "output_type": "stream",
     "text": [
      "No hay clientes cuya edad sea menor a 18.\n"
     ]
    }
   ],
   "source": [
    "# Verificar si hay clientes con edad menor a 18\n",
    "underage_clients = (df_clean['Age'] < 18).any()\n",
    "\n",
    "# Mostrar resultado\n",
    "if underage_clients:\n",
    "    print(\"Hay clientes cuya edad es menor a 18.\")\n",
    "else:\n",
    "    print(\"No hay clientes cuya edad sea menor a 18.\")"
   ]
  },
  {
   "cell_type": "code",
   "execution_count": 20,
   "metadata": {},
   "outputs": [],
   "source": [
    "df_clean = df_clean.drop(columns=['Phone'])"
   ]
  },
  {
   "cell_type": "code",
   "execution_count": 21,
   "metadata": {},
   "outputs": [],
   "source": [
    "df_clean['Customer_ID'] = df_clean['Customer_ID'].astype('int')\n",
    "df_clean['Transaction_ID'] = df_clean['Transaction_ID'].astype('int')"
   ]
  },
  {
   "cell_type": "code",
   "execution_count": 22,
   "metadata": {},
   "outputs": [
    {
     "data": {
      "text/html": [
       "<div>\n",
       "<style scoped>\n",
       "    .dataframe tbody tr th:only-of-type {\n",
       "        vertical-align: middle;\n",
       "    }\n",
       "\n",
       "    .dataframe tbody tr th {\n",
       "        vertical-align: top;\n",
       "    }\n",
       "\n",
       "    .dataframe thead th {\n",
       "        text-align: right;\n",
       "    }\n",
       "</style>\n",
       "<table border=\"1\" class=\"dataframe\">\n",
       "  <thead>\n",
       "    <tr style=\"text-align: right;\">\n",
       "      <th></th>\n",
       "      <th>Transaction_ID</th>\n",
       "      <th>Customer_ID</th>\n",
       "      <th>Email</th>\n",
       "      <th>Address</th>\n",
       "      <th>City</th>\n",
       "      <th>State</th>\n",
       "      <th>Zipcode</th>\n",
       "      <th>Country</th>\n",
       "      <th>Age</th>\n",
       "      <th>Gender</th>\n",
       "      <th>...</th>\n",
       "      <th>Total_Amount</th>\n",
       "      <th>Product_Category</th>\n",
       "      <th>Product_Brand</th>\n",
       "      <th>Product_Type</th>\n",
       "      <th>Feedback</th>\n",
       "      <th>Shipping_Method</th>\n",
       "      <th>Payment_Method</th>\n",
       "      <th>Order_Status</th>\n",
       "      <th>Ratings</th>\n",
       "      <th>products</th>\n",
       "    </tr>\n",
       "  </thead>\n",
       "  <tbody>\n",
       "    <tr>\n",
       "      <th>0</th>\n",
       "      <td>8691788</td>\n",
       "      <td>37249</td>\n",
       "      <td>Ebony39@gmail.com</td>\n",
       "      <td>3959 Amanda Burgs</td>\n",
       "      <td>Dortmund</td>\n",
       "      <td>Berlin</td>\n",
       "      <td>77985</td>\n",
       "      <td>Germany</td>\n",
       "      <td>21</td>\n",
       "      <td>Male</td>\n",
       "      <td>...</td>\n",
       "      <td>324.09</td>\n",
       "      <td>Clothing</td>\n",
       "      <td>Nike</td>\n",
       "      <td>Shorts</td>\n",
       "      <td>Excellent</td>\n",
       "      <td>Same-Day</td>\n",
       "      <td>Debit Card</td>\n",
       "      <td>Shipped</td>\n",
       "      <td>5.0</td>\n",
       "      <td>Cycling shorts</td>\n",
       "    </tr>\n",
       "    <tr>\n",
       "      <th>32</th>\n",
       "      <td>8973612</td>\n",
       "      <td>65701</td>\n",
       "      <td>Derrick51@gmail.com</td>\n",
       "      <td>57136 Martha Common Apt. 654</td>\n",
       "      <td>Portsmouth</td>\n",
       "      <td>England</td>\n",
       "      <td>11531</td>\n",
       "      <td>UK</td>\n",
       "      <td>66</td>\n",
       "      <td>Male</td>\n",
       "      <td>...</td>\n",
       "      <td>2412.75</td>\n",
       "      <td>Home Decor</td>\n",
       "      <td>IKEA</td>\n",
       "      <td>Decorations</td>\n",
       "      <td>Excellent</td>\n",
       "      <td>Same-Day</td>\n",
       "      <td>Debit Card</td>\n",
       "      <td>Processing</td>\n",
       "      <td>5.0</td>\n",
       "      <td>Curtains</td>\n",
       "    </tr>\n",
       "    <tr>\n",
       "      <th>42</th>\n",
       "      <td>3902930</td>\n",
       "      <td>77572</td>\n",
       "      <td>Amber67@gmail.com</td>\n",
       "      <td>02936 Roy Village</td>\n",
       "      <td>Portsmouth</td>\n",
       "      <td>England</td>\n",
       "      <td>98771</td>\n",
       "      <td>UK</td>\n",
       "      <td>68</td>\n",
       "      <td>Female</td>\n",
       "      <td>...</td>\n",
       "      <td>2004.99</td>\n",
       "      <td>Electronics</td>\n",
       "      <td>Apple</td>\n",
       "      <td>Laptop</td>\n",
       "      <td>Bad</td>\n",
       "      <td>Same-Day</td>\n",
       "      <td>Debit Card</td>\n",
       "      <td>Shipped</td>\n",
       "      <td>1.0</td>\n",
       "      <td>Microsoft Surface Laptop</td>\n",
       "    </tr>\n",
       "    <tr>\n",
       "      <th>72</th>\n",
       "      <td>9534452</td>\n",
       "      <td>20500</td>\n",
       "      <td>Kara43@gmail.com</td>\n",
       "      <td>51720 Rachael Spurs Suite 283</td>\n",
       "      <td>Portsmouth</td>\n",
       "      <td>England</td>\n",
       "      <td>94447</td>\n",
       "      <td>UK</td>\n",
       "      <td>61</td>\n",
       "      <td>Female</td>\n",
       "      <td>...</td>\n",
       "      <td>807.81</td>\n",
       "      <td>Clothing</td>\n",
       "      <td>Zara</td>\n",
       "      <td>Dress</td>\n",
       "      <td>Average</td>\n",
       "      <td>Standard</td>\n",
       "      <td>PayPal</td>\n",
       "      <td>Processing</td>\n",
       "      <td>2.0</td>\n",
       "      <td>Maxi dress</td>\n",
       "    </tr>\n",
       "    <tr>\n",
       "      <th>93</th>\n",
       "      <td>1874788</td>\n",
       "      <td>74649</td>\n",
       "      <td>Tina32@gmail.com</td>\n",
       "      <td>571 Samuel Wall Apt. 895</td>\n",
       "      <td>Portsmouth</td>\n",
       "      <td>England</td>\n",
       "      <td>24895</td>\n",
       "      <td>UK</td>\n",
       "      <td>18</td>\n",
       "      <td>Male</td>\n",
       "      <td>...</td>\n",
       "      <td>1445.58</td>\n",
       "      <td>Grocery</td>\n",
       "      <td>Nestle</td>\n",
       "      <td>Chocolate</td>\n",
       "      <td>Average</td>\n",
       "      <td>Express</td>\n",
       "      <td>Debit Card</td>\n",
       "      <td>Delivered</td>\n",
       "      <td>2.0</td>\n",
       "      <td>Chocolate-covered fruits</td>\n",
       "    </tr>\n",
       "  </tbody>\n",
       "</table>\n",
       "<p>5 rows × 28 columns</p>\n",
       "</div>"
      ],
      "text/plain": [
       "    Transaction_ID  Customer_ID                Email  \\\n",
       "0          8691788        37249    Ebony39@gmail.com   \n",
       "32         8973612        65701  Derrick51@gmail.com   \n",
       "42         3902930        77572    Amber67@gmail.com   \n",
       "72         9534452        20500     Kara43@gmail.com   \n",
       "93         1874788        74649     Tina32@gmail.com   \n",
       "\n",
       "                          Address        City    State  Zipcode  Country  Age  \\\n",
       "0               3959 Amanda Burgs    Dortmund   Berlin    77985  Germany   21   \n",
       "32   57136 Martha Common Apt. 654  Portsmouth  England    11531       UK   66   \n",
       "42              02936 Roy Village  Portsmouth  England    98771       UK   68   \n",
       "72  51720 Rachael Spurs Suite 283  Portsmouth  England    94447       UK   61   \n",
       "93       571 Samuel Wall Apt. 895  Portsmouth  England    24895       UK   18   \n",
       "\n",
       "    Gender  ... Total_Amount Product_Category Product_Brand  Product_Type  \\\n",
       "0     Male  ...       324.09         Clothing          Nike        Shorts   \n",
       "32    Male  ...      2412.75       Home Decor          IKEA   Decorations   \n",
       "42  Female  ...      2004.99      Electronics         Apple        Laptop   \n",
       "72  Female  ...       807.81         Clothing          Zara         Dress   \n",
       "93    Male  ...      1445.58          Grocery        Nestle     Chocolate   \n",
       "\n",
       "     Feedback Shipping_Method  Payment_Method  Order_Status  Ratings  \\\n",
       "0   Excellent        Same-Day      Debit Card       Shipped      5.0   \n",
       "32  Excellent        Same-Day      Debit Card    Processing      5.0   \n",
       "42        Bad        Same-Day      Debit Card       Shipped      1.0   \n",
       "72    Average        Standard          PayPal    Processing      2.0   \n",
       "93    Average         Express      Debit Card     Delivered      2.0   \n",
       "\n",
       "                    products  \n",
       "0             Cycling shorts  \n",
       "32                  Curtains  \n",
       "42  Microsoft Surface Laptop  \n",
       "72                Maxi dress  \n",
       "93  Chocolate-covered fruits  \n",
       "\n",
       "[5 rows x 28 columns]"
      ]
     },
     "execution_count": 22,
     "metadata": {},
     "output_type": "execute_result"
    }
   ],
   "source": [
    "# Encontrar valores que se repiten en 'Transaction_ID'\n",
    "duplicate_values = df_clean[df_clean.duplicated(subset=['Transaction_ID'], keep=False)]\n",
    "\n",
    "# Guardar duplicate_values como DataFrame\n",
    "df_duplicate_values = pd.DataFrame(duplicate_values)\n",
    "df_duplicate_values.head()"
   ]
  },
  {
   "cell_type": "code",
   "execution_count": 23,
   "metadata": {},
   "outputs": [
    {
     "data": {
      "text/html": [
       "<div>\n",
       "<style scoped>\n",
       "    .dataframe tbody tr th:only-of-type {\n",
       "        vertical-align: middle;\n",
       "    }\n",
       "\n",
       "    .dataframe tbody tr th {\n",
       "        vertical-align: top;\n",
       "    }\n",
       "\n",
       "    .dataframe thead th {\n",
       "        text-align: right;\n",
       "    }\n",
       "</style>\n",
       "<table border=\"1\" class=\"dataframe\">\n",
       "  <thead>\n",
       "    <tr style=\"text-align: right;\">\n",
       "      <th></th>\n",
       "      <th>Transaction_ID</th>\n",
       "      <th>Customer_ID</th>\n",
       "      <th>Email</th>\n",
       "      <th>Address</th>\n",
       "      <th>City</th>\n",
       "      <th>State</th>\n",
       "      <th>Zipcode</th>\n",
       "      <th>Country</th>\n",
       "      <th>Age</th>\n",
       "      <th>Gender</th>\n",
       "      <th>...</th>\n",
       "      <th>Total_Amount</th>\n",
       "      <th>Product_Category</th>\n",
       "      <th>Product_Brand</th>\n",
       "      <th>Product_Type</th>\n",
       "      <th>Feedback</th>\n",
       "      <th>Shipping_Method</th>\n",
       "      <th>Payment_Method</th>\n",
       "      <th>Order_Status</th>\n",
       "      <th>Ratings</th>\n",
       "      <th>products</th>\n",
       "    </tr>\n",
       "  </thead>\n",
       "  <tbody>\n",
       "    <tr>\n",
       "      <th>0</th>\n",
       "      <td>8691788</td>\n",
       "      <td>37249</td>\n",
       "      <td>Ebony39@gmail.com</td>\n",
       "      <td>3959 Amanda Burgs</td>\n",
       "      <td>Dortmund</td>\n",
       "      <td>Berlin</td>\n",
       "      <td>77985</td>\n",
       "      <td>Germany</td>\n",
       "      <td>21</td>\n",
       "      <td>Male</td>\n",
       "      <td>...</td>\n",
       "      <td>324.09</td>\n",
       "      <td>Clothing</td>\n",
       "      <td>Nike</td>\n",
       "      <td>Shorts</td>\n",
       "      <td>Excellent</td>\n",
       "      <td>Same-Day</td>\n",
       "      <td>Debit Card</td>\n",
       "      <td>Shipped</td>\n",
       "      <td>5.0</td>\n",
       "      <td>Cycling shorts</td>\n",
       "    </tr>\n",
       "    <tr>\n",
       "      <th>112551</th>\n",
       "      <td>8691788</td>\n",
       "      <td>57392</td>\n",
       "      <td>Krystal93@gmail.com</td>\n",
       "      <td>32467 Lopez Falls Suite 272</td>\n",
       "      <td>Ottawa</td>\n",
       "      <td>Ontario</td>\n",
       "      <td>88811</td>\n",
       "      <td>Canada</td>\n",
       "      <td>46</td>\n",
       "      <td>Male</td>\n",
       "      <td>...</td>\n",
       "      <td>294.76</td>\n",
       "      <td>Electronics</td>\n",
       "      <td>Sony</td>\n",
       "      <td>Television</td>\n",
       "      <td>Excellent</td>\n",
       "      <td>Standard</td>\n",
       "      <td>Cash</td>\n",
       "      <td>Processing</td>\n",
       "      <td>4.0</td>\n",
       "      <td>LED TV</td>\n",
       "    </tr>\n",
       "  </tbody>\n",
       "</table>\n",
       "<p>2 rows × 28 columns</p>\n",
       "</div>"
      ],
      "text/plain": [
       "        Transaction_ID  Customer_ID                Email  \\\n",
       "0              8691788        37249    Ebony39@gmail.com   \n",
       "112551         8691788        57392  Krystal93@gmail.com   \n",
       "\n",
       "                            Address      City    State  Zipcode  Country  Age  \\\n",
       "0                 3959 Amanda Burgs  Dortmund   Berlin    77985  Germany   21   \n",
       "112551  32467 Lopez Falls Suite 272    Ottawa  Ontario    88811   Canada   46   \n",
       "\n",
       "       Gender  ... Total_Amount Product_Category Product_Brand  Product_Type  \\\n",
       "0        Male  ...       324.09         Clothing          Nike        Shorts   \n",
       "112551   Male  ...       294.76      Electronics          Sony    Television   \n",
       "\n",
       "         Feedback Shipping_Method  Payment_Method  Order_Status  Ratings  \\\n",
       "0       Excellent        Same-Day      Debit Card       Shipped      5.0   \n",
       "112551  Excellent        Standard            Cash    Processing      4.0   \n",
       "\n",
       "              products  \n",
       "0       Cycling shorts  \n",
       "112551          LED TV  \n",
       "\n",
       "[2 rows x 28 columns]"
      ]
     },
     "execution_count": 23,
     "metadata": {},
     "output_type": "execute_result"
    }
   ],
   "source": [
    "df_filtered = df_clean[df_clean['Transaction_ID'] == 8691788]\n",
    "df_filtered.head()"
   ]
  },
  {
   "cell_type": "markdown",
   "metadata": {},
   "source": [
    "Este resultado es inconsistente, muestra para una misma trasaccion distintos customer_id"
   ]
  },
  {
   "cell_type": "code",
   "execution_count": 24,
   "metadata": {},
   "outputs": [],
   "source": [
    "df_clean_unique = df_clean.drop_duplicates(subset=['Transaction_ID'], keep=False)"
   ]
  },
  {
   "cell_type": "code",
   "execution_count": 26,
   "metadata": {},
   "outputs": [
    {
     "name": "stdout",
     "output_type": "stream",
     "text": [
      "Conteo de Compras por Año:\n",
      "Year\n",
      "2023    234312\n",
      "2024     46247\n",
      "Name: count, dtype: int64\n"
     ]
    }
   ],
   "source": [
    "# Contar las compras por año\n",
    "compras_por_año = df_clean_unique['Year'].value_counts().sort_index()\n",
    "\n",
    "# Mostrar el conteo de compras por año\n",
    "print(\"Conteo de Compras por Año:\")\n",
    "print(compras_por_año)"
   ]
  },
  {
   "cell_type": "markdown",
   "metadata": {},
   "source": [
    "Hay pocos datos para el 2024, por lo que me voy a centrar en el 2023"
   ]
  },
  {
   "cell_type": "code",
   "execution_count": 27,
   "metadata": {},
   "outputs": [],
   "source": [
    "df_clean_unique = df_clean_unique.loc[df_clean_unique['Year'] != 2024]"
   ]
  },
  {
   "cell_type": "code",
   "execution_count": 28,
   "metadata": {},
   "outputs": [
    {
     "name": "stdout",
     "output_type": "stream",
     "text": [
      "<class 'pandas.core.frame.DataFrame'>\n",
      "Index: 234312 entries, 1 to 301262\n",
      "Data columns (total 28 columns):\n",
      " #   Column            Non-Null Count   Dtype   \n",
      "---  ------            --------------   -----   \n",
      " 0   Transaction_ID    234312 non-null  int32   \n",
      " 1   Customer_ID       234312 non-null  int32   \n",
      " 2   Email             234312 non-null  category\n",
      " 3   Address           234312 non-null  category\n",
      " 4   City              234312 non-null  category\n",
      " 5   State             234312 non-null  category\n",
      " 6   Zipcode           234312 non-null  int32   \n",
      " 7   Country           234312 non-null  category\n",
      " 8   Age               234312 non-null  int32   \n",
      " 9   Gender            234312 non-null  category\n",
      " 10  Income            234312 non-null  category\n",
      " 11  Customer_Segment  234312 non-null  category\n",
      " 12  Date              234312 non-null  category\n",
      " 13  Year              234312 non-null  int32   \n",
      " 14  Month             234312 non-null  category\n",
      " 15  Time              234312 non-null  category\n",
      " 16  Total_Purchases   234312 non-null  float64 \n",
      " 17  Amount            234312 non-null  float64 \n",
      " 18  Total_Amount      234312 non-null  float64 \n",
      " 19  Product_Category  234312 non-null  category\n",
      " 20  Product_Brand     234312 non-null  category\n",
      " 21  Product_Type      234312 non-null  category\n",
      " 22  Feedback          234312 non-null  category\n",
      " 23  Shipping_Method   234312 non-null  category\n",
      " 24  Payment_Method    234312 non-null  category\n",
      " 25  Order_Status      234312 non-null  category\n",
      " 26  Ratings           234312 non-null  float64 \n",
      " 27  products          234312 non-null  category\n",
      "dtypes: category(19), float64(4), int32(5)\n",
      "memory usage: 35.8 MB\n"
     ]
    }
   ],
   "source": [
    "df_clean_unique.info()"
   ]
  }
 ],
 "metadata": {
  "kernelspec": {
   "display_name": "Python 3",
   "language": "python",
   "name": "python3"
  },
  "language_info": {
   "codemirror_mode": {
    "name": "ipython",
    "version": 3
   },
   "file_extension": ".py",
   "mimetype": "text/x-python",
   "name": "python",
   "nbconvert_exporter": "python",
   "pygments_lexer": "ipython3",
   "version": "3.10.2"
  }
 },
 "nbformat": 4,
 "nbformat_minor": 2
}
