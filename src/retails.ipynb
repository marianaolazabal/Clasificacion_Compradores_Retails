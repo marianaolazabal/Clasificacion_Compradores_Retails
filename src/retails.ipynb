{
 "cells": [
  {
   "cell_type": "code",
   "execution_count": 134,
   "metadata": {},
   "outputs": [],
   "source": [
    "import pandas as pd\n",
    "import numpy as np\n",
    "import matplotlib.pyplot as plt\n",
    "import seaborn as sns\n",
    "import time\n",
    "import requests #--pip install requests\n",
    "#!pip install pycountry\n",
    "import pycountry\n",
    "from pandas.plotting import scatter_matrix\n",
    "from sklearn.model_selection import train_test_split # División del dataset\n",
    "from sklearn.tree import DecisionTreeClassifier\n",
    "from sklearn.metrics import accuracy_score, classification_report, confusion_matrix\n",
    "from matplotlib.cm import ScalarMappable\n",
    "from matplotlib.lines import Line2D\n",
    "from geopy.geocoders import Photon\n",
    "from geopy.exc import GeocoderTimedOut"
   ]
  },
  {
   "cell_type": "markdown",
   "metadata": {},
   "source": [
    "Retail Analysis on Large Dataset\n",
    "https://www.kaggle.com/datasets/sahilprajapati143/retail-analysis-large-dataset"
   ]
  },
  {
   "cell_type": "code",
   "execution_count": 135,
   "metadata": {},
   "outputs": [],
   "source": [
    "df_Retail = pd.read_csv('../data/new_retail_data.csv')"
   ]
  },
  {
   "cell_type": "code",
   "execution_count": 136,
   "metadata": {},
   "outputs": [
    {
     "data": {
      "text/plain": [
       "9060300"
      ]
     },
     "execution_count": 136,
     "metadata": {},
     "output_type": "execute_result"
    }
   ],
   "source": [
    "df_Retail.size"
   ]
  },
  {
   "cell_type": "code",
   "execution_count": 137,
   "metadata": {},
   "outputs": [
    {
     "data": {
      "text/html": [
       "<div>\n",
       "<style scoped>\n",
       "    .dataframe tbody tr th:only-of-type {\n",
       "        vertical-align: middle;\n",
       "    }\n",
       "\n",
       "    .dataframe tbody tr th {\n",
       "        vertical-align: top;\n",
       "    }\n",
       "\n",
       "    .dataframe thead th {\n",
       "        text-align: right;\n",
       "    }\n",
       "</style>\n",
       "<table border=\"1\" class=\"dataframe\">\n",
       "  <thead>\n",
       "    <tr style=\"text-align: right;\">\n",
       "      <th></th>\n",
       "      <th>Transaction_ID</th>\n",
       "      <th>Customer_ID</th>\n",
       "      <th>Name</th>\n",
       "      <th>Email</th>\n",
       "      <th>Phone</th>\n",
       "      <th>Address</th>\n",
       "      <th>City</th>\n",
       "      <th>State</th>\n",
       "      <th>Zipcode</th>\n",
       "      <th>Country</th>\n",
       "      <th>Age</th>\n",
       "      <th>Gender</th>\n",
       "      <th>Income</th>\n",
       "      <th>Customer_Segment</th>\n",
       "      <th>Date</th>\n",
       "      <th>Year</th>\n",
       "      <th>Month</th>\n",
       "      <th>Time</th>\n",
       "      <th>Total_Purchases</th>\n",
       "      <th>Amount</th>\n",
       "      <th>Total_Amount</th>\n",
       "      <th>Product_Category</th>\n",
       "      <th>Product_Brand</th>\n",
       "      <th>Product_Type</th>\n",
       "      <th>Feedback</th>\n",
       "      <th>Shipping_Method</th>\n",
       "      <th>Payment_Method</th>\n",
       "      <th>Order_Status</th>\n",
       "      <th>Ratings</th>\n",
       "      <th>products</th>\n",
       "    </tr>\n",
       "  </thead>\n",
       "  <tbody>\n",
       "    <tr>\n",
       "      <th>0</th>\n",
       "      <td>8691788.0</td>\n",
       "      <td>37249.0</td>\n",
       "      <td>Michelle Harrington</td>\n",
       "      <td>Ebony39@gmail.com</td>\n",
       "      <td>1.414787e+09</td>\n",
       "      <td>3959 Amanda Burgs</td>\n",
       "      <td>Dortmund</td>\n",
       "      <td>Berlin</td>\n",
       "      <td>77985.0</td>\n",
       "      <td>Germany</td>\n",
       "      <td>21.0</td>\n",
       "      <td>Male</td>\n",
       "      <td>Low</td>\n",
       "      <td>Regular</td>\n",
       "      <td>9/18/2023</td>\n",
       "      <td>2023.0</td>\n",
       "      <td>September</td>\n",
       "      <td>22:03:55</td>\n",
       "      <td>3.0</td>\n",
       "      <td>108.028757</td>\n",
       "      <td>324.086270</td>\n",
       "      <td>Clothing</td>\n",
       "      <td>Nike</td>\n",
       "      <td>Shorts</td>\n",
       "      <td>Excellent</td>\n",
       "      <td>Same-Day</td>\n",
       "      <td>Debit Card</td>\n",
       "      <td>Shipped</td>\n",
       "      <td>5.0</td>\n",
       "      <td>Cycling shorts</td>\n",
       "    </tr>\n",
       "    <tr>\n",
       "      <th>1</th>\n",
       "      <td>2174773.0</td>\n",
       "      <td>69749.0</td>\n",
       "      <td>Kelsey Hill</td>\n",
       "      <td>Mark36@gmail.com</td>\n",
       "      <td>6.852900e+09</td>\n",
       "      <td>82072 Dawn Centers</td>\n",
       "      <td>Nottingham</td>\n",
       "      <td>England</td>\n",
       "      <td>99071.0</td>\n",
       "      <td>UK</td>\n",
       "      <td>19.0</td>\n",
       "      <td>Female</td>\n",
       "      <td>Low</td>\n",
       "      <td>Premium</td>\n",
       "      <td>12/31/2023</td>\n",
       "      <td>2023.0</td>\n",
       "      <td>December</td>\n",
       "      <td>8:42:04</td>\n",
       "      <td>2.0</td>\n",
       "      <td>403.353907</td>\n",
       "      <td>806.707815</td>\n",
       "      <td>Electronics</td>\n",
       "      <td>Samsung</td>\n",
       "      <td>Tablet</td>\n",
       "      <td>Excellent</td>\n",
       "      <td>Standard</td>\n",
       "      <td>Credit Card</td>\n",
       "      <td>Processing</td>\n",
       "      <td>4.0</td>\n",
       "      <td>Lenovo Tab</td>\n",
       "    </tr>\n",
       "    <tr>\n",
       "      <th>2</th>\n",
       "      <td>6679610.0</td>\n",
       "      <td>30192.0</td>\n",
       "      <td>Scott Jensen</td>\n",
       "      <td>Shane85@gmail.com</td>\n",
       "      <td>8.362160e+09</td>\n",
       "      <td>4133 Young Canyon</td>\n",
       "      <td>Geelong</td>\n",
       "      <td>New South Wales</td>\n",
       "      <td>75929.0</td>\n",
       "      <td>Australia</td>\n",
       "      <td>48.0</td>\n",
       "      <td>Male</td>\n",
       "      <td>Low</td>\n",
       "      <td>Regular</td>\n",
       "      <td>4/26/2023</td>\n",
       "      <td>2023.0</td>\n",
       "      <td>April</td>\n",
       "      <td>4:06:29</td>\n",
       "      <td>3.0</td>\n",
       "      <td>354.477600</td>\n",
       "      <td>1063.432799</td>\n",
       "      <td>Books</td>\n",
       "      <td>Penguin Books</td>\n",
       "      <td>Children's</td>\n",
       "      <td>Average</td>\n",
       "      <td>Same-Day</td>\n",
       "      <td>Credit Card</td>\n",
       "      <td>Processing</td>\n",
       "      <td>2.0</td>\n",
       "      <td>Sports equipment</td>\n",
       "    </tr>\n",
       "    <tr>\n",
       "      <th>3</th>\n",
       "      <td>7232460.0</td>\n",
       "      <td>62101.0</td>\n",
       "      <td>Joseph Miller</td>\n",
       "      <td>Mary34@gmail.com</td>\n",
       "      <td>2.776752e+09</td>\n",
       "      <td>8148 Thomas Creek Suite 100</td>\n",
       "      <td>Edmonton</td>\n",
       "      <td>Ontario</td>\n",
       "      <td>88420.0</td>\n",
       "      <td>Canada</td>\n",
       "      <td>56.0</td>\n",
       "      <td>Male</td>\n",
       "      <td>High</td>\n",
       "      <td>Premium</td>\n",
       "      <td>5/8/2023</td>\n",
       "      <td>2023.0</td>\n",
       "      <td>May</td>\n",
       "      <td>14:55:17</td>\n",
       "      <td>7.0</td>\n",
       "      <td>352.407717</td>\n",
       "      <td>2466.854021</td>\n",
       "      <td>Home Decor</td>\n",
       "      <td>Home Depot</td>\n",
       "      <td>Tools</td>\n",
       "      <td>Excellent</td>\n",
       "      <td>Standard</td>\n",
       "      <td>PayPal</td>\n",
       "      <td>Processing</td>\n",
       "      <td>4.0</td>\n",
       "      <td>Utility knife</td>\n",
       "    </tr>\n",
       "    <tr>\n",
       "      <th>4</th>\n",
       "      <td>4983775.0</td>\n",
       "      <td>27901.0</td>\n",
       "      <td>Debra Coleman</td>\n",
       "      <td>Charles30@gmail.com</td>\n",
       "      <td>9.098268e+09</td>\n",
       "      <td>5813 Lori Ports Suite 269</td>\n",
       "      <td>Bristol</td>\n",
       "      <td>England</td>\n",
       "      <td>48704.0</td>\n",
       "      <td>UK</td>\n",
       "      <td>22.0</td>\n",
       "      <td>Male</td>\n",
       "      <td>Low</td>\n",
       "      <td>Premium</td>\n",
       "      <td>1/10/2024</td>\n",
       "      <td>2024.0</td>\n",
       "      <td>January</td>\n",
       "      <td>16:54:07</td>\n",
       "      <td>2.0</td>\n",
       "      <td>124.276524</td>\n",
       "      <td>248.553049</td>\n",
       "      <td>Grocery</td>\n",
       "      <td>Nestle</td>\n",
       "      <td>Chocolate</td>\n",
       "      <td>Bad</td>\n",
       "      <td>Standard</td>\n",
       "      <td>Cash</td>\n",
       "      <td>Shipped</td>\n",
       "      <td>1.0</td>\n",
       "      <td>Chocolate cookies</td>\n",
       "    </tr>\n",
       "  </tbody>\n",
       "</table>\n",
       "</div>"
      ],
      "text/plain": [
       "   Transaction_ID  Customer_ID                 Name                Email  \\\n",
       "0       8691788.0      37249.0  Michelle Harrington    Ebony39@gmail.com   \n",
       "1       2174773.0      69749.0          Kelsey Hill     Mark36@gmail.com   \n",
       "2       6679610.0      30192.0         Scott Jensen    Shane85@gmail.com   \n",
       "3       7232460.0      62101.0        Joseph Miller     Mary34@gmail.com   \n",
       "4       4983775.0      27901.0        Debra Coleman  Charles30@gmail.com   \n",
       "\n",
       "          Phone                      Address        City            State  \\\n",
       "0  1.414787e+09            3959 Amanda Burgs    Dortmund           Berlin   \n",
       "1  6.852900e+09           82072 Dawn Centers  Nottingham          England   \n",
       "2  8.362160e+09            4133 Young Canyon     Geelong  New South Wales   \n",
       "3  2.776752e+09  8148 Thomas Creek Suite 100    Edmonton          Ontario   \n",
       "4  9.098268e+09    5813 Lori Ports Suite 269     Bristol          England   \n",
       "\n",
       "   Zipcode    Country   Age  Gender Income Customer_Segment        Date  \\\n",
       "0  77985.0    Germany  21.0    Male    Low          Regular   9/18/2023   \n",
       "1  99071.0         UK  19.0  Female    Low          Premium  12/31/2023   \n",
       "2  75929.0  Australia  48.0    Male    Low          Regular   4/26/2023   \n",
       "3  88420.0     Canada  56.0    Male   High          Premium    5/8/2023   \n",
       "4  48704.0         UK  22.0    Male    Low          Premium   1/10/2024   \n",
       "\n",
       "     Year      Month      Time  Total_Purchases      Amount  Total_Amount  \\\n",
       "0  2023.0  September  22:03:55              3.0  108.028757    324.086270   \n",
       "1  2023.0   December   8:42:04              2.0  403.353907    806.707815   \n",
       "2  2023.0      April   4:06:29              3.0  354.477600   1063.432799   \n",
       "3  2023.0        May  14:55:17              7.0  352.407717   2466.854021   \n",
       "4  2024.0    January  16:54:07              2.0  124.276524    248.553049   \n",
       "\n",
       "  Product_Category  Product_Brand Product_Type   Feedback Shipping_Method  \\\n",
       "0         Clothing           Nike       Shorts  Excellent        Same-Day   \n",
       "1      Electronics        Samsung       Tablet  Excellent        Standard   \n",
       "2            Books  Penguin Books   Children's    Average        Same-Day   \n",
       "3       Home Decor     Home Depot        Tools  Excellent        Standard   \n",
       "4          Grocery         Nestle    Chocolate        Bad        Standard   \n",
       "\n",
       "  Payment_Method Order_Status  Ratings           products  \n",
       "0     Debit Card      Shipped      5.0     Cycling shorts  \n",
       "1    Credit Card   Processing      4.0         Lenovo Tab  \n",
       "2    Credit Card   Processing      2.0   Sports equipment  \n",
       "3         PayPal   Processing      4.0      Utility knife  \n",
       "4           Cash      Shipped      1.0  Chocolate cookies  "
      ]
     },
     "execution_count": 137,
     "metadata": {},
     "output_type": "execute_result"
    }
   ],
   "source": [
    "df_Retail.head()"
   ]
  },
  {
   "cell_type": "code",
   "execution_count": 138,
   "metadata": {},
   "outputs": [],
   "source": [
    "df_Retail_copy=df_Retail.copy()"
   ]
  },
  {
   "cell_type": "markdown",
   "metadata": {},
   "source": [
    "##Estudio univariable. Completitud, correctitud y consistencia"
   ]
  },
  {
   "cell_type": "markdown",
   "metadata": {},
   "source": [
    "- Transaction_ID es el numero unico de transaccion, no deberian de haber repetidos"
   ]
  },
  {
   "cell_type": "code",
   "execution_count": 139,
   "metadata": {},
   "outputs": [
    {
     "data": {
      "text/html": [
       "<div>\n",
       "<style scoped>\n",
       "    .dataframe tbody tr th:only-of-type {\n",
       "        vertical-align: middle;\n",
       "    }\n",
       "\n",
       "    .dataframe tbody tr th {\n",
       "        vertical-align: top;\n",
       "    }\n",
       "\n",
       "    .dataframe thead th {\n",
       "        text-align: right;\n",
       "    }\n",
       "</style>\n",
       "<table border=\"1\" class=\"dataframe\">\n",
       "  <thead>\n",
       "    <tr style=\"text-align: right;\">\n",
       "      <th></th>\n",
       "      <th>Transaction_ID</th>\n",
       "      <th>Customer_ID</th>\n",
       "      <th>Name</th>\n",
       "      <th>Email</th>\n",
       "      <th>Phone</th>\n",
       "      <th>Address</th>\n",
       "      <th>City</th>\n",
       "      <th>State</th>\n",
       "      <th>Zipcode</th>\n",
       "      <th>Country</th>\n",
       "      <th>Age</th>\n",
       "      <th>Gender</th>\n",
       "      <th>Income</th>\n",
       "      <th>Customer_Segment</th>\n",
       "      <th>Date</th>\n",
       "      <th>Year</th>\n",
       "      <th>Month</th>\n",
       "      <th>Time</th>\n",
       "      <th>Total_Purchases</th>\n",
       "      <th>Amount</th>\n",
       "      <th>Total_Amount</th>\n",
       "      <th>Product_Category</th>\n",
       "      <th>Product_Brand</th>\n",
       "      <th>Product_Type</th>\n",
       "      <th>Feedback</th>\n",
       "      <th>Shipping_Method</th>\n",
       "      <th>Payment_Method</th>\n",
       "      <th>Order_Status</th>\n",
       "      <th>Ratings</th>\n",
       "      <th>products</th>\n",
       "    </tr>\n",
       "  </thead>\n",
       "  <tbody>\n",
       "    <tr>\n",
       "      <th>0</th>\n",
       "      <td>8691788.0</td>\n",
       "      <td>37249.0</td>\n",
       "      <td>Michelle Harrington</td>\n",
       "      <td>Ebony39@gmail.com</td>\n",
       "      <td>1.414787e+09</td>\n",
       "      <td>3959 Amanda Burgs</td>\n",
       "      <td>Dortmund</td>\n",
       "      <td>Berlin</td>\n",
       "      <td>77985.0</td>\n",
       "      <td>Germany</td>\n",
       "      <td>21.0</td>\n",
       "      <td>Male</td>\n",
       "      <td>Low</td>\n",
       "      <td>Regular</td>\n",
       "      <td>9/18/2023</td>\n",
       "      <td>2023.0</td>\n",
       "      <td>September</td>\n",
       "      <td>22:03:55</td>\n",
       "      <td>3.0</td>\n",
       "      <td>108.028757</td>\n",
       "      <td>324.086270</td>\n",
       "      <td>Clothing</td>\n",
       "      <td>Nike</td>\n",
       "      <td>Shorts</td>\n",
       "      <td>Excellent</td>\n",
       "      <td>Same-Day</td>\n",
       "      <td>Debit Card</td>\n",
       "      <td>Shipped</td>\n",
       "      <td>5.0</td>\n",
       "      <td>Cycling shorts</td>\n",
       "    </tr>\n",
       "    <tr>\n",
       "      <th>32</th>\n",
       "      <td>8973612.0</td>\n",
       "      <td>65701.0</td>\n",
       "      <td>Christopher Lopez</td>\n",
       "      <td>Derrick51@gmail.com</td>\n",
       "      <td>9.286274e+09</td>\n",
       "      <td>57136 Martha Common Apt. 654</td>\n",
       "      <td>Portsmouth</td>\n",
       "      <td>England</td>\n",
       "      <td>11531.0</td>\n",
       "      <td>UK</td>\n",
       "      <td>66.0</td>\n",
       "      <td>Male</td>\n",
       "      <td>Medium</td>\n",
       "      <td>Regular</td>\n",
       "      <td>5/22/2023</td>\n",
       "      <td>2023.0</td>\n",
       "      <td>May</td>\n",
       "      <td>11:24:20</td>\n",
       "      <td>7.0</td>\n",
       "      <td>344.679185</td>\n",
       "      <td>2412.754296</td>\n",
       "      <td>Home Decor</td>\n",
       "      <td>IKEA</td>\n",
       "      <td>Decorations</td>\n",
       "      <td>Excellent</td>\n",
       "      <td>Same-Day</td>\n",
       "      <td>Debit Card</td>\n",
       "      <td>Processing</td>\n",
       "      <td>5.0</td>\n",
       "      <td>Curtains</td>\n",
       "    </tr>\n",
       "    <tr>\n",
       "      <th>42</th>\n",
       "      <td>3902930.0</td>\n",
       "      <td>77572.0</td>\n",
       "      <td>Jose Spencer</td>\n",
       "      <td>Amber67@gmail.com</td>\n",
       "      <td>8.282195e+09</td>\n",
       "      <td>02936 Roy Village</td>\n",
       "      <td>Portsmouth</td>\n",
       "      <td>England</td>\n",
       "      <td>98771.0</td>\n",
       "      <td>UK</td>\n",
       "      <td>68.0</td>\n",
       "      <td>Female</td>\n",
       "      <td>High</td>\n",
       "      <td>Regular</td>\n",
       "      <td>10/6/2023</td>\n",
       "      <td>2023.0</td>\n",
       "      <td>October</td>\n",
       "      <td>4:59:02</td>\n",
       "      <td>6.0</td>\n",
       "      <td>334.165698</td>\n",
       "      <td>2004.994190</td>\n",
       "      <td>Electronics</td>\n",
       "      <td>Apple</td>\n",
       "      <td>Laptop</td>\n",
       "      <td>Bad</td>\n",
       "      <td>Same-Day</td>\n",
       "      <td>Debit Card</td>\n",
       "      <td>Shipped</td>\n",
       "      <td>1.0</td>\n",
       "      <td>Microsoft Surface Laptop</td>\n",
       "    </tr>\n",
       "    <tr>\n",
       "      <th>72</th>\n",
       "      <td>9534452.0</td>\n",
       "      <td>20500.0</td>\n",
       "      <td>Matthew Hicks</td>\n",
       "      <td>Kara43@gmail.com</td>\n",
       "      <td>1.568422e+09</td>\n",
       "      <td>51720 Rachael Spurs Suite 283</td>\n",
       "      <td>Portsmouth</td>\n",
       "      <td>England</td>\n",
       "      <td>94447.0</td>\n",
       "      <td>UK</td>\n",
       "      <td>61.0</td>\n",
       "      <td>Female</td>\n",
       "      <td>Medium</td>\n",
       "      <td>Regular</td>\n",
       "      <td>6/6/2023</td>\n",
       "      <td>2023.0</td>\n",
       "      <td>June</td>\n",
       "      <td>8:43:39</td>\n",
       "      <td>4.0</td>\n",
       "      <td>201.953735</td>\n",
       "      <td>807.814939</td>\n",
       "      <td>Clothing</td>\n",
       "      <td>Zara</td>\n",
       "      <td>Dress</td>\n",
       "      <td>Average</td>\n",
       "      <td>Standard</td>\n",
       "      <td>PayPal</td>\n",
       "      <td>Processing</td>\n",
       "      <td>2.0</td>\n",
       "      <td>Maxi dress</td>\n",
       "    </tr>\n",
       "    <tr>\n",
       "      <th>93</th>\n",
       "      <td>1874788.0</td>\n",
       "      <td>74649.0</td>\n",
       "      <td>Courtney Perry</td>\n",
       "      <td>Tina32@gmail.com</td>\n",
       "      <td>7.402422e+09</td>\n",
       "      <td>571 Samuel Wall Apt. 895</td>\n",
       "      <td>Portsmouth</td>\n",
       "      <td>England</td>\n",
       "      <td>24895.0</td>\n",
       "      <td>UK</td>\n",
       "      <td>18.0</td>\n",
       "      <td>Male</td>\n",
       "      <td>High</td>\n",
       "      <td>Regular</td>\n",
       "      <td>4/19/2023</td>\n",
       "      <td>2023.0</td>\n",
       "      <td>April</td>\n",
       "      <td>22:26:07</td>\n",
       "      <td>5.0</td>\n",
       "      <td>289.116783</td>\n",
       "      <td>1445.583914</td>\n",
       "      <td>Grocery</td>\n",
       "      <td>Nestle</td>\n",
       "      <td>Chocolate</td>\n",
       "      <td>Average</td>\n",
       "      <td>Express</td>\n",
       "      <td>Debit Card</td>\n",
       "      <td>Delivered</td>\n",
       "      <td>2.0</td>\n",
       "      <td>Chocolate-covered fruits</td>\n",
       "    </tr>\n",
       "  </tbody>\n",
       "</table>\n",
       "</div>"
      ],
      "text/plain": [
       "    Transaction_ID  Customer_ID                 Name                Email  \\\n",
       "0        8691788.0      37249.0  Michelle Harrington    Ebony39@gmail.com   \n",
       "32       8973612.0      65701.0    Christopher Lopez  Derrick51@gmail.com   \n",
       "42       3902930.0      77572.0         Jose Spencer    Amber67@gmail.com   \n",
       "72       9534452.0      20500.0        Matthew Hicks     Kara43@gmail.com   \n",
       "93       1874788.0      74649.0       Courtney Perry     Tina32@gmail.com   \n",
       "\n",
       "           Phone                        Address        City    State  Zipcode  \\\n",
       "0   1.414787e+09              3959 Amanda Burgs    Dortmund   Berlin  77985.0   \n",
       "32  9.286274e+09   57136 Martha Common Apt. 654  Portsmouth  England  11531.0   \n",
       "42  8.282195e+09              02936 Roy Village  Portsmouth  England  98771.0   \n",
       "72  1.568422e+09  51720 Rachael Spurs Suite 283  Portsmouth  England  94447.0   \n",
       "93  7.402422e+09       571 Samuel Wall Apt. 895  Portsmouth  England  24895.0   \n",
       "\n",
       "    Country   Age  Gender  Income Customer_Segment       Date    Year  \\\n",
       "0   Germany  21.0    Male     Low          Regular  9/18/2023  2023.0   \n",
       "32       UK  66.0    Male  Medium          Regular  5/22/2023  2023.0   \n",
       "42       UK  68.0  Female    High          Regular  10/6/2023  2023.0   \n",
       "72       UK  61.0  Female  Medium          Regular   6/6/2023  2023.0   \n",
       "93       UK  18.0    Male    High          Regular  4/19/2023  2023.0   \n",
       "\n",
       "        Month      Time  Total_Purchases      Amount  Total_Amount  \\\n",
       "0   September  22:03:55              3.0  108.028757    324.086270   \n",
       "32        May  11:24:20              7.0  344.679185   2412.754296   \n",
       "42    October   4:59:02              6.0  334.165698   2004.994190   \n",
       "72       June   8:43:39              4.0  201.953735    807.814939   \n",
       "93      April  22:26:07              5.0  289.116783   1445.583914   \n",
       "\n",
       "   Product_Category Product_Brand Product_Type   Feedback Shipping_Method  \\\n",
       "0          Clothing          Nike       Shorts  Excellent        Same-Day   \n",
       "32       Home Decor          IKEA  Decorations  Excellent        Same-Day   \n",
       "42      Electronics         Apple       Laptop        Bad        Same-Day   \n",
       "72         Clothing          Zara        Dress    Average        Standard   \n",
       "93          Grocery        Nestle    Chocolate    Average         Express   \n",
       "\n",
       "   Payment_Method Order_Status  Ratings                  products  \n",
       "0      Debit Card      Shipped      5.0            Cycling shorts  \n",
       "32     Debit Card   Processing      5.0                  Curtains  \n",
       "42     Debit Card      Shipped      1.0  Microsoft Surface Laptop  \n",
       "72         PayPal   Processing      2.0                Maxi dress  \n",
       "93     Debit Card    Delivered      2.0  Chocolate-covered fruits  "
      ]
     },
     "execution_count": 139,
     "metadata": {},
     "output_type": "execute_result"
    }
   ],
   "source": [
    "# Encontrar valores que se repiten en 'Transaction_ID'\n",
    "duplicate_values_copy = df_Retail_copy[df_Retail_copy.duplicated(subset=['Transaction_ID'], keep=False)]\n",
    "\n",
    "# Guardar duplicate_values como DataFrame\n",
    "duplicate_values_copy = pd.DataFrame(duplicate_values_copy)\n",
    "duplicate_values_copy.head()"
   ]
  },
  {
   "cell_type": "code",
   "execution_count": 140,
   "metadata": {},
   "outputs": [
    {
     "data": {
      "text/html": [
       "<div>\n",
       "<style scoped>\n",
       "    .dataframe tbody tr th:only-of-type {\n",
       "        vertical-align: middle;\n",
       "    }\n",
       "\n",
       "    .dataframe tbody tr th {\n",
       "        vertical-align: top;\n",
       "    }\n",
       "\n",
       "    .dataframe thead th {\n",
       "        text-align: right;\n",
       "    }\n",
       "</style>\n",
       "<table border=\"1\" class=\"dataframe\">\n",
       "  <thead>\n",
       "    <tr style=\"text-align: right;\">\n",
       "      <th></th>\n",
       "      <th>Transaction_ID</th>\n",
       "      <th>Customer_ID</th>\n",
       "      <th>Name</th>\n",
       "      <th>Email</th>\n",
       "      <th>Phone</th>\n",
       "      <th>Address</th>\n",
       "      <th>City</th>\n",
       "      <th>State</th>\n",
       "      <th>Zipcode</th>\n",
       "      <th>Country</th>\n",
       "      <th>Age</th>\n",
       "      <th>Gender</th>\n",
       "      <th>Income</th>\n",
       "      <th>Customer_Segment</th>\n",
       "      <th>Date</th>\n",
       "      <th>Year</th>\n",
       "      <th>Month</th>\n",
       "      <th>Time</th>\n",
       "      <th>Total_Purchases</th>\n",
       "      <th>Amount</th>\n",
       "      <th>Total_Amount</th>\n",
       "      <th>Product_Category</th>\n",
       "      <th>Product_Brand</th>\n",
       "      <th>Product_Type</th>\n",
       "      <th>Feedback</th>\n",
       "      <th>Shipping_Method</th>\n",
       "      <th>Payment_Method</th>\n",
       "      <th>Order_Status</th>\n",
       "      <th>Ratings</th>\n",
       "      <th>products</th>\n",
       "    </tr>\n",
       "  </thead>\n",
       "  <tbody>\n",
       "    <tr>\n",
       "      <th>0</th>\n",
       "      <td>8691788.0</td>\n",
       "      <td>37249.0</td>\n",
       "      <td>Michelle Harrington</td>\n",
       "      <td>Ebony39@gmail.com</td>\n",
       "      <td>1.414787e+09</td>\n",
       "      <td>3959 Amanda Burgs</td>\n",
       "      <td>Dortmund</td>\n",
       "      <td>Berlin</td>\n",
       "      <td>77985.0</td>\n",
       "      <td>Germany</td>\n",
       "      <td>21.0</td>\n",
       "      <td>Male</td>\n",
       "      <td>Low</td>\n",
       "      <td>Regular</td>\n",
       "      <td>9/18/2023</td>\n",
       "      <td>2023.0</td>\n",
       "      <td>September</td>\n",
       "      <td>22:03:55</td>\n",
       "      <td>3.0</td>\n",
       "      <td>108.028757</td>\n",
       "      <td>324.086270</td>\n",
       "      <td>Clothing</td>\n",
       "      <td>Nike</td>\n",
       "      <td>Shorts</td>\n",
       "      <td>Excellent</td>\n",
       "      <td>Same-Day</td>\n",
       "      <td>Debit Card</td>\n",
       "      <td>Shipped</td>\n",
       "      <td>5.0</td>\n",
       "      <td>Cycling shorts</td>\n",
       "    </tr>\n",
       "    <tr>\n",
       "      <th>112551</th>\n",
       "      <td>8691788.0</td>\n",
       "      <td>57392.0</td>\n",
       "      <td>Jacqueline Collins</td>\n",
       "      <td>Krystal93@gmail.com</td>\n",
       "      <td>5.575568e+09</td>\n",
       "      <td>32467 Lopez Falls Suite 272</td>\n",
       "      <td>Ottawa</td>\n",
       "      <td>Ontario</td>\n",
       "      <td>88811.0</td>\n",
       "      <td>Canada</td>\n",
       "      <td>46.0</td>\n",
       "      <td>Male</td>\n",
       "      <td>Medium</td>\n",
       "      <td>New</td>\n",
       "      <td>12/29/2023</td>\n",
       "      <td>2023.0</td>\n",
       "      <td>December</td>\n",
       "      <td>20:43:59</td>\n",
       "      <td>2.0</td>\n",
       "      <td>147.379781</td>\n",
       "      <td>294.759562</td>\n",
       "      <td>Electronics</td>\n",
       "      <td>Sony</td>\n",
       "      <td>Television</td>\n",
       "      <td>Excellent</td>\n",
       "      <td>Standard</td>\n",
       "      <td>Cash</td>\n",
       "      <td>Processing</td>\n",
       "      <td>4.0</td>\n",
       "      <td>LED TV</td>\n",
       "    </tr>\n",
       "  </tbody>\n",
       "</table>\n",
       "</div>"
      ],
      "text/plain": [
       "        Transaction_ID  Customer_ID                 Name                Email  \\\n",
       "0            8691788.0      37249.0  Michelle Harrington    Ebony39@gmail.com   \n",
       "112551       8691788.0      57392.0   Jacqueline Collins  Krystal93@gmail.com   \n",
       "\n",
       "               Phone                      Address      City    State  Zipcode  \\\n",
       "0       1.414787e+09            3959 Amanda Burgs  Dortmund   Berlin  77985.0   \n",
       "112551  5.575568e+09  32467 Lopez Falls Suite 272    Ottawa  Ontario  88811.0   \n",
       "\n",
       "        Country   Age Gender  Income Customer_Segment        Date    Year  \\\n",
       "0       Germany  21.0   Male     Low          Regular   9/18/2023  2023.0   \n",
       "112551   Canada  46.0   Male  Medium              New  12/29/2023  2023.0   \n",
       "\n",
       "            Month      Time  Total_Purchases      Amount  Total_Amount  \\\n",
       "0       September  22:03:55              3.0  108.028757    324.086270   \n",
       "112551   December  20:43:59              2.0  147.379781    294.759562   \n",
       "\n",
       "       Product_Category Product_Brand Product_Type   Feedback Shipping_Method  \\\n",
       "0              Clothing          Nike       Shorts  Excellent        Same-Day   \n",
       "112551      Electronics          Sony   Television  Excellent        Standard   \n",
       "\n",
       "       Payment_Method Order_Status  Ratings        products  \n",
       "0          Debit Card      Shipped      5.0  Cycling shorts  \n",
       "112551           Cash   Processing      4.0          LED TV  "
      ]
     },
     "execution_count": 140,
     "metadata": {},
     "output_type": "execute_result"
    }
   ],
   "source": [
    "df_filtered_transaction = df_Retail_copy[df_Retail_copy['Transaction_ID'] == 8691788]\n",
    "df_filtered_transaction.head()"
   ]
  },
  {
   "cell_type": "markdown",
   "metadata": {},
   "source": [
    "Este resultado es inconsistente, muestra para una misma trasaccion distintos customer_id. Procedo a eliminar duplicados de Transaction_ID"
   ]
  },
  {
   "cell_type": "code",
   "execution_count": 141,
   "metadata": {},
   "outputs": [],
   "source": [
    "df_Retail_copy_unique = df_Retail_copy.drop_duplicates(subset=['Transaction_ID'], keep=False)"
   ]
  },
  {
   "cell_type": "markdown",
   "metadata": {},
   "source": [
    "- Customer_ID es el identificador del cliente. Se observa que para un mismo identificador de cliente, el nombre, la direccion, y los datos de la persona son distintos en las transacciones realizadas por el cliente. Esto puede ser una inconsistencia de datos o compras realizadas por familiares, amigos de la persona o robo de cuenta. Como no es posible definir cual es la situacion, continuare estudiando las otras variables y retomare luego esta inconsistencia."
   ]
  },
  {
   "cell_type": "code",
   "execution_count": 142,
   "metadata": {},
   "outputs": [
    {
     "data": {
      "text/plain": [
       "13"
      ]
     },
     "execution_count": 142,
     "metadata": {},
     "output_type": "execute_result"
    }
   ],
   "source": [
    "df_Retail_copy_unique['Customer_ID'].value_counts().max()"
   ]
  },
  {
   "cell_type": "markdown",
   "metadata": {},
   "source": [
    "Se observa que el comprador que compro mas veces lo hizo 13 veces"
   ]
  },
  {
   "cell_type": "code",
   "execution_count": 143,
   "metadata": {},
   "outputs": [
    {
     "data": {
      "text/html": [
       "<div>\n",
       "<style scoped>\n",
       "    .dataframe tbody tr th:only-of-type {\n",
       "        vertical-align: middle;\n",
       "    }\n",
       "\n",
       "    .dataframe tbody tr th {\n",
       "        vertical-align: top;\n",
       "    }\n",
       "\n",
       "    .dataframe thead th {\n",
       "        text-align: right;\n",
       "    }\n",
       "</style>\n",
       "<table border=\"1\" class=\"dataframe\">\n",
       "  <thead>\n",
       "    <tr style=\"text-align: right;\">\n",
       "      <th></th>\n",
       "      <th>Transaction_ID</th>\n",
       "      <th>Customer_ID</th>\n",
       "      <th>Name</th>\n",
       "      <th>Email</th>\n",
       "      <th>Phone</th>\n",
       "      <th>Address</th>\n",
       "      <th>City</th>\n",
       "      <th>State</th>\n",
       "      <th>Zipcode</th>\n",
       "      <th>Country</th>\n",
       "      <th>Age</th>\n",
       "      <th>Gender</th>\n",
       "      <th>Income</th>\n",
       "      <th>Customer_Segment</th>\n",
       "      <th>Date</th>\n",
       "      <th>Year</th>\n",
       "      <th>Month</th>\n",
       "      <th>Time</th>\n",
       "      <th>Total_Purchases</th>\n",
       "      <th>Amount</th>\n",
       "      <th>Total_Amount</th>\n",
       "      <th>Product_Category</th>\n",
       "      <th>Product_Brand</th>\n",
       "      <th>Product_Type</th>\n",
       "      <th>Feedback</th>\n",
       "      <th>Shipping_Method</th>\n",
       "      <th>Payment_Method</th>\n",
       "      <th>Order_Status</th>\n",
       "      <th>Ratings</th>\n",
       "      <th>products</th>\n",
       "    </tr>\n",
       "  </thead>\n",
       "  <tbody>\n",
       "    <tr>\n",
       "      <th>8531</th>\n",
       "      <td>5056596.0</td>\n",
       "      <td>10037.0</td>\n",
       "      <td>Robert Wilson</td>\n",
       "      <td>James32@gmail.com</td>\n",
       "      <td>1.226992e+09</td>\n",
       "      <td>33461 Sarah Forges Suite 845</td>\n",
       "      <td>Portsmouth</td>\n",
       "      <td>England</td>\n",
       "      <td>20966.0</td>\n",
       "      <td>UK</td>\n",
       "      <td>19.0</td>\n",
       "      <td>Male</td>\n",
       "      <td>Medium</td>\n",
       "      <td>Regular</td>\n",
       "      <td>10/3/2023</td>\n",
       "      <td>2023.0</td>\n",
       "      <td>October</td>\n",
       "      <td>11:16:40</td>\n",
       "      <td>2.0</td>\n",
       "      <td>98.308952</td>\n",
       "      <td>196.617904</td>\n",
       "      <td>Grocery</td>\n",
       "      <td>Pepsi</td>\n",
       "      <td>Soft Drink</td>\n",
       "      <td>Bad</td>\n",
       "      <td>Same-Day</td>\n",
       "      <td>Cash</td>\n",
       "      <td>Delivered</td>\n",
       "      <td>1.0</td>\n",
       "      <td>Lemon-lime soda</td>\n",
       "    </tr>\n",
       "    <tr>\n",
       "      <th>188313</th>\n",
       "      <td>6849125.0</td>\n",
       "      <td>10037.0</td>\n",
       "      <td>Cassandra Villanueva</td>\n",
       "      <td>Meagan47@gmail.com</td>\n",
       "      <td>6.429721e+09</td>\n",
       "      <td>02641 Stewart Underpass</td>\n",
       "      <td>Adelaide</td>\n",
       "      <td>New South Wales</td>\n",
       "      <td>38930.0</td>\n",
       "      <td>Australia</td>\n",
       "      <td>44.0</td>\n",
       "      <td>Female</td>\n",
       "      <td>Low</td>\n",
       "      <td>New</td>\n",
       "      <td>4/8/2023</td>\n",
       "      <td>2023.0</td>\n",
       "      <td>April</td>\n",
       "      <td>1:33:29</td>\n",
       "      <td>3.0</td>\n",
       "      <td>302.369356</td>\n",
       "      <td>907.108068</td>\n",
       "      <td>Electronics</td>\n",
       "      <td>Apple</td>\n",
       "      <td>Tablet</td>\n",
       "      <td>Bad</td>\n",
       "      <td>Express</td>\n",
       "      <td>Debit Card</td>\n",
       "      <td>Delivered</td>\n",
       "      <td>1.0</td>\n",
       "      <td>iPad</td>\n",
       "    </tr>\n",
       "  </tbody>\n",
       "</table>\n",
       "</div>"
      ],
      "text/plain": [
       "        Transaction_ID  Customer_ID                  Name               Email  \\\n",
       "8531         5056596.0      10037.0         Robert Wilson   James32@gmail.com   \n",
       "188313       6849125.0      10037.0  Cassandra Villanueva  Meagan47@gmail.com   \n",
       "\n",
       "               Phone                       Address        City  \\\n",
       "8531    1.226992e+09  33461 Sarah Forges Suite 845  Portsmouth   \n",
       "188313  6.429721e+09       02641 Stewart Underpass    Adelaide   \n",
       "\n",
       "                  State  Zipcode    Country   Age  Gender  Income  \\\n",
       "8531            England  20966.0         UK  19.0    Male  Medium   \n",
       "188313  New South Wales  38930.0  Australia  44.0  Female     Low   \n",
       "\n",
       "       Customer_Segment       Date    Year    Month      Time  \\\n",
       "8531            Regular  10/3/2023  2023.0  October  11:16:40   \n",
       "188313              New   4/8/2023  2023.0    April   1:33:29   \n",
       "\n",
       "        Total_Purchases      Amount  Total_Amount Product_Category  \\\n",
       "8531                2.0   98.308952    196.617904          Grocery   \n",
       "188313              3.0  302.369356    907.108068      Electronics   \n",
       "\n",
       "       Product_Brand Product_Type Feedback Shipping_Method Payment_Method  \\\n",
       "8531           Pepsi   Soft Drink      Bad        Same-Day           Cash   \n",
       "188313         Apple       Tablet      Bad         Express     Debit Card   \n",
       "\n",
       "       Order_Status  Ratings         products  \n",
       "8531      Delivered      1.0  Lemon-lime soda  \n",
       "188313    Delivered      1.0             iPad  "
      ]
     },
     "execution_count": 143,
     "metadata": {},
     "output_type": "execute_result"
    }
   ],
   "source": [
    "pd.set_option('display.max_columns', None)\n",
    "df_filtered2 = df_Retail_copy_unique[df_Retail_copy_unique['Customer_ID'] == 10037]\n",
    "df_filtered2.head(20)"
   ]
  },
  {
   "cell_type": "markdown",
   "metadata": {},
   "source": [
    "- Name es el nombre del cliente, a efectos de corroborar el problema mencionado anteriormente, voy a dejar esta variable, pero la terminare eliminando cuando pase a la etapa de evaluacion estadistica ya que no tiene valor. Lo mismo sucede con:\n",
    "- Email es el correo electronico del cliente\n",
    "- Phone es el telefono del cliente\n",
    "- Address direccion de envio\n"
   ]
  },
  {
   "cell_type": "markdown",
   "metadata": {},
   "source": [
    "- City es la ciudad donde el cliente vive\n",
    "Corroborar que la ciudad no tenga caracteres raros y que para una misma ciudad este escrito de forma diferente"
   ]
  },
  {
   "cell_type": "code",
   "execution_count": 144,
   "metadata": {},
   "outputs": [
    {
     "data": {
      "text/plain": [
       "array(['Nottingham', 'Geelong', 'Edmonton', 'Bristol', 'Brisbane',\n",
       "       'Kitchener', 'Munich', 'Wollongong', 'Cologne', 'Portsmouth',\n",
       "       'San Jose', 'Hamilton', 'Manchester', 'Cardiff', 'Glasgow', 'Hull',\n",
       "       'Cleveland', 'Southampton', 'Leipzig', 'Cairns', 'London',\n",
       "       'Bielefeld', 'Düsseldorf', 'Philadelphia', 'Halifax', 'Montreal',\n",
       "       'Dortmund', 'Mackay', 'Quebec City', 'Barrie', 'Adelaide', 'Leeds',\n",
       "       'Plymouth', 'Perth', 'Sheffield', 'Frankfurt', 'Toronto',\n",
       "       'Kelowna', 'Birmingham', 'Ottawa', 'Liverpool', \"St. John's\",\n",
       "       'Hobart', 'Atlanta', 'New Orleans', 'Wichita', 'Albury-Wodonga',\n",
       "       'Winnipeg', 'Vancouver', 'Hamburg', 'Windsor', 'Calgary',\n",
       "       'Newcastle upon Tyne', 'Townsville', 'Oshawa', 'Houston', 'Berlin',\n",
       "       'Seattle', 'Charlotte', 'New York', 'Milwaukee', 'Edinburgh',\n",
       "       'Launceston', 'Bochum', 'Münster', 'Bonn', 'Columbus', 'Melbourne',\n",
       "       'Leicester', 'Fort Worth', 'Toowoomba', 'Victoria', 'Oxford',\n",
       "       'Saskatoon', 'Memphis', 'Regina', 'Canberra', 'Hanover',\n",
       "       'Long Beach', 'San Francisco', 'Nuremberg', 'Minneapolis',\n",
       "       'Colorado Springs', 'Duisburg', 'Denver', 'Bendigo', 'Bremen',\n",
       "       'Boston', 'Tucson', 'Tulsa', 'Portland', 'Kansas City', 'Brighton',\n",
       "       'Essen', 'Darwin', 'Belfast', 'Sydney', 'Baltimore',\n",
       "       'Virginia Beach', 'Arlington', 'Louisville', 'Mesa', 'Las Vegas',\n",
       "       'Dallas', 'Washington', 'Gold Coast', 'Miami', 'Newcastle',\n",
       "       'San Antonio', 'Fresno', 'Phoenix', 'Austin', 'Stuttgart',\n",
       "       'Chicago', 'Wuppertal', 'Nashville', 'Jacksonville', 'Ballarat',\n",
       "       'Omaha', 'Oklahoma City', 'San Diego', 'Sacramento', 'Dresden',\n",
       "       'Raleigh', 'Oakland', 'Indianapolis', 'Detroit', 'Los Angeles',\n",
       "       'El Paso', nan, 'Albuquerque'], dtype=object)"
      ]
     },
     "execution_count": 144,
     "metadata": {},
     "output_type": "execute_result"
    }
   ],
   "source": [
    "df_Retail_copy_unique['City'].unique()"
   ]
  },
  {
   "cell_type": "code",
   "execution_count": 145,
   "metadata": {},
   "outputs": [
    {
     "data": {
      "text/plain": [
       "array(['UK', 'Australia', 'Canada', 'Germany', 'USA', nan], dtype=object)"
      ]
     },
     "execution_count": 145,
     "metadata": {},
     "output_type": "execute_result"
    }
   ],
   "source": [
    "df_Retail_copy_unique['Country'].unique()"
   ]
  },
  {
   "cell_type": "code",
   "execution_count": 146,
   "metadata": {},
   "outputs": [
    {
     "name": "stdout",
     "output_type": "stream",
     "text": [
      "               City    Country\n",
      "1        Nottingham         UK\n",
      "2           Geelong  Australia\n",
      "3          Edmonton     Canada\n",
      "4           Bristol         UK\n",
      "5          Brisbane  Australia\n",
      "...             ...        ...\n",
      "30592  Indianapolis        USA\n",
      "30626       Detroit        USA\n",
      "30635   Los Angeles        USA\n",
      "30684       El Paso        USA\n",
      "30981   Albuquerque        USA\n",
      "\n",
      "[131 rows x 2 columns]\n"
     ]
    }
   ],
   "source": [
    "# Crear un dataframe con combinaciones únicas de ciudad y país\n",
    "unique_cities = df_Retail_copy_unique[['City', 'Country']].drop_duplicates()\n",
    "unique_cities = unique_cities.dropna()\n",
    "print(unique_cities)"
   ]
  },
  {
   "cell_type": "code",
   "execution_count": 147,
   "metadata": {},
   "outputs": [
    {
     "name": "stderr",
     "output_type": "stream",
     "text": [
      "C:\\Users\\mariana\\AppData\\Local\\Temp\\ipykernel_10148\\2480248971.py:1: SettingWithCopyWarning: \n",
      "A value is trying to be set on a copy of a slice from a DataFrame.\n",
      "Try using .loc[row_indexer,col_indexer] = value instead\n",
      "\n",
      "See the caveats in the documentation: https://pandas.pydata.org/pandas-docs/stable/user_guide/indexing.html#returning-a-view-versus-a-copy\n",
      "  df_Retail_copy_unique['Country'] =df_Retail_copy_unique['Country'].replace('USA','United States')\n",
      "C:\\Users\\mariana\\AppData\\Local\\Temp\\ipykernel_10148\\2480248971.py:2: SettingWithCopyWarning: \n",
      "A value is trying to be set on a copy of a slice from a DataFrame.\n",
      "Try using .loc[row_indexer,col_indexer] = value instead\n",
      "\n",
      "See the caveats in the documentation: https://pandas.pydata.org/pandas-docs/stable/user_guide/indexing.html#returning-a-view-versus-a-copy\n",
      "  df_Retail_copy_unique['Country'] =df_Retail_copy_unique['Country'].replace('UK','United Kingdom')\n"
     ]
    }
   ],
   "source": [
    "df_Retail_copy_unique['Country'] =df_Retail_copy_unique['Country'].replace('USA','United States')\n",
    "df_Retail_copy_unique['Country'] =df_Retail_copy_unique['Country'].replace('UK','United Kingdom')"
   ]
  },
  {
   "cell_type": "code",
   "execution_count": 148,
   "metadata": {},
   "outputs": [],
   "source": [
    "def validate_country(country_name):\n",
    "    try:\n",
    "        # Validate by country name\n",
    "       \n",
    "        country = pycountry.countries.lookup(country_name)\n",
    "        \n",
    "        if(country_name==country.name):\n",
    "           # print(country.name)\n",
    "           pass\n",
    "        else:\n",
    "            print(\"No encontrado\")\n",
    "        return country.name\n",
    "    except LookupError:\n",
    "        return None\n",
    "\n",
    "df_Retail_countries['pais_valido'] = df_Retail_countries.apply(lambda row: validate_country(row['Country']), axis=1)"
   ]
  },
  {
   "cell_type": "code",
   "execution_count": 149,
   "metadata": {},
   "outputs": [
    {
     "name": "stdout",
     "output_type": "stream",
     "text": [
      "Todas los paises son correctos\n"
     ]
    }
   ],
   "source": [
    "# Filtra las filas con resultados incorrectos en la validación\n",
    "df_paises_incorrectos = df_Retail_countries[df_Retail_countries['pais_valido'] == False]\n",
    "if(df_paises_incorrectos.empty):\n",
    "    print(\"Todas los paises son correctos\")\n",
    "else:\n",
    "    print(df_paises_incorrectos)"
   ]
  },
  {
   "cell_type": "code",
   "execution_count": 150,
   "metadata": {},
   "outputs": [
    {
     "data": {
      "text/plain": [
       "array(['United Kingdom', 'Australia', 'Canada', 'Germany',\n",
       "       'United States', None], dtype=object)"
      ]
     },
     "execution_count": 150,
     "metadata": {},
     "output_type": "execute_result"
    }
   ],
   "source": [
    "df_Retail_countries['pais_valido'].unique()"
   ]
  },
  {
   "cell_type": "code",
   "execution_count": 151,
   "metadata": {},
   "outputs": [],
   "source": [
    "df_Retail_countries=df_Retail_copy_unique.copy()"
   ]
  },
  {
   "cell_type": "code",
   "execution_count": 152,
   "metadata": {},
   "outputs": [
    {
     "name": "stdout",
     "output_type": "stream",
     "text": [
      "Total number of rows: 287370\n"
     ]
    }
   ],
   "source": [
    "total_rows = df_Retail_countries.shape[0]\n",
    "print(f\"Total number of rows: {total_rows}\")"
   ]
  },
  {
   "cell_type": "code",
   "execution_count": 153,
   "metadata": {},
   "outputs": [],
   "source": [
    "geolocator = Photon(user_agent=\"geoapiExercises\")\n",
    "\n",
    "def validate_city_country(city, country):\n",
    "    try:\n",
    "        # Ensure proper formatting of the query\n",
    "        query = f\"{city}, {country}\"\n",
    "        location = geolocator.geocode(query, timeout=10)\n",
    "        if location and location.address:\n",
    "            return location.address\n",
    "        else:\n",
    "            return None\n",
    "    except GeocoderTimedOut:\n",
    "        time.sleep(1)  # Wait a bit before retrying\n",
    "        return validate_city_country(city, country)"
   ]
  },
  {
   "cell_type": "code",
   "execution_count": 154,
   "metadata": {},
   "outputs": [
    {
     "name": "stdout",
     "output_type": "stream",
     "text": [
      "Montevideo, Montevideo, Uruguay\n"
     ]
    }
   ],
   "source": [
    "print(validate_city_country('Montevideo', 'Uruguay'))"
   ]
  },
  {
   "cell_type": "code",
   "execution_count": 155,
   "metadata": {},
   "outputs": [],
   "source": [
    "# Extract unique city-country pairs\n",
    "unique_city_country_pairs = df_Retail_countries[['City', 'Country']].drop_duplicates()\n",
    "unique_city_country_pairs = unique_city_country_pairs.drop_duplicates()\n",
    "# Apply the validation function to the unique city-country pairs\n",
    "unique_city_country_pairs['Validation'] = unique_city_country_pairs.apply(\n",
    "    lambda row: validate_city_country(row['City'], row['Country']), axis=1\n",
    ")"
   ]
  },
  {
   "cell_type": "code",
   "execution_count": 156,
   "metadata": {},
   "outputs": [],
   "source": [
    "unique_city_country_pairs_copy=unique_city_country_pairs.copy()"
   ]
  },
  {
   "cell_type": "code",
   "execution_count": 157,
   "metadata": {},
   "outputs": [
    {
     "name": "stdout",
     "output_type": "stream",
     "text": [
      "Original dataframe shape: (287370, 30)\n",
      "Unique city-country pairs shape: (236, 3)\n",
      "Dataframe shape after merge: (287370, 31)\n"
     ]
    }
   ],
   "source": [
    "print(f\"Original dataframe shape: {df_Retail_countries.shape}\")\n",
    "print(f\"Unique city-country pairs shape: {unique_city_country_pairs.shape}\")\n",
    "\n",
    "df_Retail_countries = df_Retail_countries.merge(unique_city_country_pairs, on=['City', 'Country'], how='left', suffixes=('', '_Validation'))\n",
    "\n",
    "print(f\"Dataframe shape after merge: {df_Retail_countries.shape}\")"
   ]
  },
  {
   "cell_type": "code",
   "execution_count": 158,
   "metadata": {},
   "outputs": [
    {
     "name": "stdout",
     "output_type": "stream",
     "text": [
      "Todas las ciudades son correctas\n"
     ]
    }
   ],
   "source": [
    "# Filtra las filas con resultados incorrectos en la validación\n",
    "df_incorrectas = df_Retail_countries[df_Retail_countries['Validation'].isna()]\n",
    "if(df_incorrectas.empty):\n",
    "    print(\"Todas las ciudades son correctas\")\n",
    "else:\n",
    "    print(df_incorrectas)"
   ]
  },
  {
   "cell_type": "code",
   "execution_count": 159,
   "metadata": {},
   "outputs": [],
   "source": [
    "#for country in pycountry.countries:\n",
    "#    print(country.name)"
   ]
  },
  {
   "cell_type": "markdown",
   "metadata": {},
   "source": [
    "- State es el estado donde el cliente vive\n",
    "- Zip code es el codigo de la direccion del cliente, este deberia ser el mismo para las mismas direcciones y deben tener el mismo largo si esta en el mismo pais y en la misma ciudad "
   ]
  },
  {
   "cell_type": "code",
   "execution_count": 160,
   "metadata": {},
   "outputs": [
    {
     "name": "stdout",
     "output_type": "stream",
     "text": [
      "        Customer_ID                     Name  counts\n",
      "116         10037.0             Jessica Bell       2\n",
      "159         10049.0  Mrs. Rachael Hughes DDS       2\n",
      "177         10054.0          Chelsea Shelton       2\n",
      "506         10150.0               Sara Lopez       2\n",
      "665         10203.0          Robert Thompson       2\n",
      "...             ...                      ...     ...\n",
      "298508      99874.0           Madeline Henry       2\n",
      "298519      99878.0              Heidi Villa       2\n",
      "298679      99924.0          Justin Petersen       2\n",
      "298842      99963.0          Linda Hernandez       2\n",
      "298941      99993.0          Cynthia Spencer       2\n",
      "\n",
      "[2349 rows x 3 columns]\n"
     ]
    }
   ],
   "source": [
    "# Agrupar por 'Customer_ID' y 'Customer_Name' y contar el número de filas en cada grupo\n",
    "grouped_df = df_Retail.groupby(['Customer_ID', 'Name']).size().reset_index(name='counts')\n",
    "\n",
    "# Filtrar para encontrar los grupos con más de una compra\n",
    "duplicate_purchases = grouped_df[grouped_df['counts'] > 1]\n",
    "\n",
    "# Mostrar el resultado\n",
    "print(duplicate_purchases)"
   ]
  },
  {
   "cell_type": "code",
   "execution_count": 161,
   "metadata": {},
   "outputs": [
    {
     "data": {
      "text/plain": [
       "(302010, 30)"
      ]
     },
     "execution_count": 161,
     "metadata": {},
     "output_type": "execute_result"
    }
   ],
   "source": [
    "df_Retail.shape"
   ]
  },
  {
   "cell_type": "code",
   "execution_count": 162,
   "metadata": {},
   "outputs": [
    {
     "data": {
      "text/plain": [
       "Transaction_ID      float64\n",
       "Customer_ID         float64\n",
       "Name                 object\n",
       "Email                object\n",
       "Phone               float64\n",
       "Address              object\n",
       "City                 object\n",
       "State                object\n",
       "Zipcode             float64\n",
       "Country              object\n",
       "Age                 float64\n",
       "Gender               object\n",
       "Income               object\n",
       "Customer_Segment     object\n",
       "Date                 object\n",
       "Year                float64\n",
       "Month                object\n",
       "Time                 object\n",
       "Total_Purchases     float64\n",
       "Amount              float64\n",
       "Total_Amount        float64\n",
       "Product_Category     object\n",
       "Product_Brand        object\n",
       "Product_Type         object\n",
       "Feedback             object\n",
       "Shipping_Method      object\n",
       "Payment_Method       object\n",
       "Order_Status         object\n",
       "Ratings             float64\n",
       "products             object\n",
       "dtype: object"
      ]
     },
     "execution_count": 162,
     "metadata": {},
     "output_type": "execute_result"
    }
   ],
   "source": [
    "df_Retail.dtypes"
   ]
  },
  {
   "cell_type": "markdown",
   "metadata": {},
   "source": [
    "##Limpieza de datos"
   ]
  },
  {
   "cell_type": "code",
   "execution_count": 163,
   "metadata": {},
   "outputs": [
    {
     "data": {
      "text/plain": [
       "0.1"
      ]
     },
     "execution_count": 163,
     "metadata": {},
     "output_type": "execute_result"
    }
   ],
   "source": [
    "df_Retail.isna().sum().sum() # number of missing cells\n",
    "round(df_Retail.isna().sum().sum() / df_Retail.size * 100, 1) # percentage of missing cells"
   ]
  },
  {
   "cell_type": "markdown",
   "metadata": {},
   "source": [
    "EL 10% tiene datos faltantes"
   ]
  },
  {
   "cell_type": "code",
   "execution_count": 164,
   "metadata": {},
   "outputs": [
    {
     "data": {
      "text/plain": [
       "Transaction_ID      333\n",
       "Customer_ID         308\n",
       "Name                382\n",
       "Email               347\n",
       "Phone               362\n",
       "Address             315\n",
       "City                248\n",
       "State               281\n",
       "Zipcode             340\n",
       "Country             271\n",
       "Age                 173\n",
       "Gender              317\n",
       "Income              290\n",
       "Customer_Segment    215\n",
       "Date                359\n",
       "Year                350\n",
       "Month               273\n",
       "Time                350\n",
       "Total_Purchases     361\n",
       "Amount              357\n",
       "Total_Amount        350\n",
       "Product_Category    283\n",
       "Product_Brand       281\n",
       "Product_Type          0\n",
       "Feedback            184\n",
       "Shipping_Method     337\n",
       "Payment_Method      297\n",
       "Order_Status        235\n",
       "Ratings             184\n",
       "products              0\n",
       "dtype: int64"
      ]
     },
     "execution_count": 164,
     "metadata": {},
     "output_type": "execute_result"
    }
   ],
   "source": [
    "df_Retail.isna().sum()"
   ]
  },
  {
   "cell_type": "markdown",
   "metadata": {},
   "source": [
    "Por mayor comodidad, transformo todas las variables a category menos las numericas"
   ]
  },
  {
   "cell_type": "code",
   "execution_count": 165,
   "metadata": {},
   "outputs": [],
   "source": [
    "columns_not_to_convert = ['Age', 'Zipcode','Total_Purchases', 'Amount', 'Total_Amount', 'Ratings', 'Customer_ID', 'Transaction_ID']\n",
    "all_columns = set(df_Retail.columns)\n",
    "\n",
    "columns_not_to_convert_set = set(columns_not_to_convert)\n",
    "columns_to_skip = list(all_columns - columns_not_to_convert_set)\n",
    "\n",
    "# Convertir las columnas restantes a tipo 'category'\n",
    "for col in columns_to_skip:\n",
    "    df_Retail[col] = df_Retail[col].astype('category')"
   ]
  },
  {
   "cell_type": "code",
   "execution_count": 166,
   "metadata": {},
   "outputs": [
    {
     "data": {
      "text/plain": [
       "array([21., 19., 48., 56., 22., 58., 29., 46., 25., 64., 31., 53., 32.,\n",
       "       43., 69., 49., 61., 41., 38., 59., 20., 67., 50., 26., 66., 24.,\n",
       "       54., 28., 34., 65., 40., 68., 36., 57., 27., 35., 70., 37., 30.,\n",
       "       39., 47., 18., 60., 33., 62., 42., 44., 51., 63., 55., 23., 52.,\n",
       "       nan, 45.])"
      ]
     },
     "execution_count": 166,
     "metadata": {},
     "output_type": "execute_result"
    }
   ],
   "source": [
    "df_Retail['Age'].unique()"
   ]
  },
  {
   "cell_type": "markdown",
   "metadata": {},
   "source": [
    "La edad esta en float, la transformo a entero"
   ]
  },
  {
   "cell_type": "code",
   "execution_count": 167,
   "metadata": {},
   "outputs": [],
   "source": [
    "df_Retail = df_Retail.dropna(subset=['Age'])\n",
    "df_Retail = df_Retail.dropna(subset=['Zipcode'])\n",
    "df_Retail = df_Retail.dropna(subset=['Year'])"
   ]
  },
  {
   "cell_type": "code",
   "execution_count": 168,
   "metadata": {},
   "outputs": [],
   "source": [
    "df_Retail['Age'] = df_Retail['Age'].astype('int')\n",
    "df_Retail['Year'] = df_Retail['Year'].astype('int')\n",
    "df_Retail['Zipcode'] = df_Retail['Zipcode'].astype('int')"
   ]
  },
  {
   "cell_type": "markdown",
   "metadata": {},
   "source": [
    "Quiero borrar todos los valores nulos o nan pero quiero estudiar primero si me conviene borrar las filas o una columna entera, porque si los datos faltantes es tan en su mayoria en una columna puede ser mejor deshacerme de esa columna en lugar de borrar registros.\n",
    "A continuacion estudio cual es la variable que tiene la mayor cantidad de nulos o valores nan"
   ]
  },
  {
   "cell_type": "code",
   "execution_count": 169,
   "metadata": {},
   "outputs": [
    {
     "name": "stdout",
     "output_type": "stream",
     "text": [
      "La columna con la mayor cantidad de NaN es: Name\n",
      "Número de NaN en esta columna: 382\n"
     ]
    }
   ],
   "source": [
    "# Calcular el número de valores NaN por columna\n",
    "nan_counts = df_Retail.isna().sum()\n",
    "\n",
    "# Encontrar la columna con el mayor número de NaN\n",
    "column_with_most_nan = nan_counts.idxmax()\n",
    "max_nan_count = nan_counts.max()\n",
    "\n",
    "# Mostrar resultados\n",
    "print(\"La columna con la mayor cantidad de NaN es:\", column_with_most_nan)\n",
    "print(\"Número de NaN en esta columna:\", max_nan_count)"
   ]
  },
  {
   "cell_type": "markdown",
   "metadata": {},
   "source": [
    "Siendo que Name es la columna con la mayor cantidad de nulos y que esta no tiene valor estadistico para mi estudio, la elimino"
   ]
  },
  {
   "cell_type": "code",
   "execution_count": 170,
   "metadata": {},
   "outputs": [],
   "source": [
    "df_Retail = df_Retail.drop(columns=['Name'])"
   ]
  },
  {
   "cell_type": "code",
   "execution_count": 171,
   "metadata": {},
   "outputs": [],
   "source": [
    "df_Retail['Total_Amount'] = df_Retail['Total_Amount'].round(2)\n",
    "df_Retail['Amount'] = df_Retail['Amount'].round(2)\n",
    "df_Retail['Total_Purchases'] = df_Retail['Total_Purchases'].round(2)"
   ]
  },
  {
   "cell_type": "code",
   "execution_count": 172,
   "metadata": {},
   "outputs": [
    {
     "name": "stdout",
     "output_type": "stream",
     "text": [
      "Número total de filas antes de eliminar NaN: 301147\n",
      "Número total de filas después de eliminar NaN: 294280\n",
      "Número de filas eliminadas: 6867\n"
     ]
    }
   ],
   "source": [
    "# Quiero eliminar las filas que contengan NAN, pero no quiero quedarme con pocos datos por lo que cuento primero cuantas filas se borrarian\n",
    "\n",
    "total_rows_before = df_Retail.shape[0]\n",
    "\n",
    "# Eliminar todas las filas que contienen al menos un NaN en alguna columna\n",
    "df_clean = df_Retail.dropna()\n",
    "\n",
    "# Contar las filas después de eliminar NaN\n",
    "total_rows_after = df_clean.shape[0]\n",
    "\n",
    "# Calcular cuántas filas se eliminaron\n",
    "rows_deleted = total_rows_before - total_rows_after\n",
    "\n",
    "# Mostrar resultados\n",
    "print(\"Número total de filas antes de eliminar NaN:\", total_rows_before)\n",
    "print(\"Número total de filas después de eliminar NaN:\", total_rows_after)\n",
    "print(\"Número de filas eliminadas:\", rows_deleted)"
   ]
  },
  {
   "cell_type": "markdown",
   "metadata": {},
   "source": [
    "Estudio la consistencia de la variable edad"
   ]
  },
  {
   "cell_type": "code",
   "execution_count": 173,
   "metadata": {},
   "outputs": [
    {
     "name": "stdout",
     "output_type": "stream",
     "text": [
      "No hay clientes cuya edad sea menor a 18.\n"
     ]
    }
   ],
   "source": [
    "# Verificar si hay clientes con edad menor a 18\n",
    "underage_clients = (df_clean['Age'] < 18).any()\n",
    "\n",
    "# Mostrar resultado\n",
    "if underage_clients:\n",
    "    print(\"Hay clientes cuya edad es menor a 18.\")\n",
    "else:\n",
    "    print(\"No hay clientes cuya edad sea menor a 18.\")"
   ]
  },
  {
   "cell_type": "code",
   "execution_count": 174,
   "metadata": {},
   "outputs": [],
   "source": [
    "df_clean = df_clean.drop(columns=['Phone'])"
   ]
  },
  {
   "cell_type": "code",
   "execution_count": 175,
   "metadata": {},
   "outputs": [],
   "source": [
    "df_clean['Customer_ID'] = df_clean['Customer_ID'].astype('int')\n",
    "df_clean['Transaction_ID'] = df_clean['Transaction_ID'].astype('int')"
   ]
  },
  {
   "cell_type": "code",
   "execution_count": 176,
   "metadata": {},
   "outputs": [
    {
     "ename": "NameError",
     "evalue": "name 'df_clean_unique' is not defined",
     "output_type": "error",
     "traceback": [
      "\u001b[1;31m---------------------------------------------------------------------------\u001b[0m",
      "\u001b[1;31mNameError\u001b[0m                                 Traceback (most recent call last)",
      "Cell \u001b[1;32mIn[176], line 2\u001b[0m\n\u001b[0;32m      1\u001b[0m \u001b[38;5;66;03m# Contar las compras por año\u001b[39;00m\n\u001b[1;32m----> 2\u001b[0m compras_por_año \u001b[38;5;241m=\u001b[39m \u001b[43mdf_clean_unique\u001b[49m[\u001b[38;5;124m'\u001b[39m\u001b[38;5;124mYear\u001b[39m\u001b[38;5;124m'\u001b[39m]\u001b[38;5;241m.\u001b[39mvalue_counts()\u001b[38;5;241m.\u001b[39msort_index()\n\u001b[0;32m      4\u001b[0m \u001b[38;5;66;03m# Mostrar el conteo de compras por año\u001b[39;00m\n\u001b[0;32m      5\u001b[0m \u001b[38;5;28mprint\u001b[39m(\u001b[38;5;124m\"\u001b[39m\u001b[38;5;124mConteo de Compras por Año:\u001b[39m\u001b[38;5;124m\"\u001b[39m)\n",
      "\u001b[1;31mNameError\u001b[0m: name 'df_clean_unique' is not defined"
     ]
    }
   ],
   "source": [
    "# Contar las compras por año\n",
    "compras_por_año = df_clean_unique['Year'].value_counts().sort_index()\n",
    "\n",
    "# Mostrar el conteo de compras por año\n",
    "print(\"Conteo de Compras por Año:\")\n",
    "print(compras_por_año)"
   ]
  },
  {
   "cell_type": "markdown",
   "metadata": {},
   "source": [
    "Hay pocos datos para el 2024, por lo que me voy a centrar en el 2023"
   ]
  },
  {
   "cell_type": "code",
   "execution_count": null,
   "metadata": {},
   "outputs": [],
   "source": [
    "df_clean_unique = df_clean_unique.loc[df_clean_unique['Year'] != 2024]"
   ]
  },
  {
   "cell_type": "code",
   "execution_count": null,
   "metadata": {},
   "outputs": [],
   "source": [
    "df_clean_unique = df_clean_unique.drop(columns=['Year'])"
   ]
  },
  {
   "cell_type": "code",
   "execution_count": null,
   "metadata": {},
   "outputs": [],
   "source": [
    "df_clean_unique['Customer_ID'] = df_clean_unique['Customer_ID'].astype('category')\n",
    "df_clean_unique['Transaction_ID'] = df_clean_unique['Transaction_ID'].astype('category')"
   ]
  },
  {
   "cell_type": "code",
   "execution_count": null,
   "metadata": {},
   "outputs": [
    {
     "name": "stdout",
     "output_type": "stream",
     "text": [
      "<class 'pandas.core.frame.DataFrame'>\n",
      "Index: 234312 entries, 1 to 301262\n",
      "Data columns (total 27 columns):\n",
      " #   Column            Non-Null Count   Dtype   \n",
      "---  ------            --------------   -----   \n",
      " 0   Transaction_ID    234312 non-null  category\n",
      " 1   Customer_ID       234312 non-null  category\n",
      " 2   Email             234312 non-null  category\n",
      " 3   Address           234312 non-null  category\n",
      " 4   City              234312 non-null  category\n",
      " 5   State             234312 non-null  category\n",
      " 6   Zipcode           234312 non-null  int32   \n",
      " 7   Country           234312 non-null  category\n",
      " 8   Age               234312 non-null  int32   \n",
      " 9   Gender            234312 non-null  category\n",
      " 10  Income            234312 non-null  category\n",
      " 11  Customer_Segment  234312 non-null  category\n",
      " 12  Date              234312 non-null  category\n",
      " 13  Month             234312 non-null  category\n",
      " 14  Time              234312 non-null  category\n",
      " 15  Total_Purchases   234312 non-null  float64 \n",
      " 16  Amount            234312 non-null  float64 \n",
      " 17  Total_Amount      234312 non-null  float64 \n",
      " 18  Product_Category  234312 non-null  category\n",
      " 19  Product_Brand     234312 non-null  category\n",
      " 20  Product_Type      234312 non-null  category\n",
      " 21  Feedback          234312 non-null  category\n",
      " 22  Shipping_Method   234312 non-null  category\n",
      " 23  Payment_Method    234312 non-null  category\n",
      " 24  Order_Status      234312 non-null  category\n",
      " 25  Ratings           234312 non-null  float64 \n",
      " 26  products          234312 non-null  category\n",
      "dtypes: category(21), float64(4), int32(2)\n",
      "memory usage: 43.7 MB\n"
     ]
    }
   ],
   "source": [
    "df_clean_unique.info()"
   ]
  },
  {
   "cell_type": "markdown",
   "metadata": {},
   "source": [
    "##EDA"
   ]
  },
  {
   "cell_type": "code",
   "execution_count": null,
   "metadata": {},
   "outputs": [
    {
     "data": {
      "text/html": [
       "<div>\n",
       "<style scoped>\n",
       "    .dataframe tbody tr th:only-of-type {\n",
       "        vertical-align: middle;\n",
       "    }\n",
       "\n",
       "    .dataframe tbody tr th {\n",
       "        vertical-align: top;\n",
       "    }\n",
       "\n",
       "    .dataframe thead th {\n",
       "        text-align: right;\n",
       "    }\n",
       "</style>\n",
       "<table border=\"1\" class=\"dataframe\">\n",
       "  <thead>\n",
       "    <tr style=\"text-align: right;\">\n",
       "      <th></th>\n",
       "      <th>Zipcode</th>\n",
       "      <th>Age</th>\n",
       "      <th>Total_Purchases</th>\n",
       "      <th>Amount</th>\n",
       "      <th>Total_Amount</th>\n",
       "      <th>Ratings</th>\n",
       "    </tr>\n",
       "  </thead>\n",
       "  <tbody>\n",
       "    <tr>\n",
       "      <th>count</th>\n",
       "      <td>17394.000000</td>\n",
       "      <td>17394.000000</td>\n",
       "      <td>17394.000000</td>\n",
       "      <td>17394.000000</td>\n",
       "      <td>17394.000000</td>\n",
       "      <td>17394.000000</td>\n",
       "    </tr>\n",
       "    <tr>\n",
       "      <th>mean</th>\n",
       "      <td>49995.103254</td>\n",
       "      <td>35.419053</td>\n",
       "      <td>5.353110</td>\n",
       "      <td>256.214721</td>\n",
       "      <td>1374.169757</td>\n",
       "      <td>3.163217</td>\n",
       "    </tr>\n",
       "    <tr>\n",
       "      <th>std</th>\n",
       "      <td>29062.542596</td>\n",
       "      <td>15.086977</td>\n",
       "      <td>2.862466</td>\n",
       "      <td>141.927651</td>\n",
       "      <td>1135.256874</td>\n",
       "      <td>1.320959</td>\n",
       "    </tr>\n",
       "    <tr>\n",
       "      <th>min</th>\n",
       "      <td>503.000000</td>\n",
       "      <td>18.000000</td>\n",
       "      <td>1.000000</td>\n",
       "      <td>10.000000</td>\n",
       "      <td>10.000000</td>\n",
       "      <td>1.000000</td>\n",
       "    </tr>\n",
       "    <tr>\n",
       "      <th>5%</th>\n",
       "      <td>4793.950000</td>\n",
       "      <td>19.000000</td>\n",
       "      <td>1.000000</td>\n",
       "      <td>34.066500</td>\n",
       "      <td>115.986000</td>\n",
       "      <td>1.000000</td>\n",
       "    </tr>\n",
       "    <tr>\n",
       "      <th>25%</th>\n",
       "      <td>24717.500000</td>\n",
       "      <td>22.000000</td>\n",
       "      <td>3.000000</td>\n",
       "      <td>132.700000</td>\n",
       "      <td>440.347500</td>\n",
       "      <td>2.000000</td>\n",
       "    </tr>\n",
       "    <tr>\n",
       "      <th>50%</th>\n",
       "      <td>50380.000000</td>\n",
       "      <td>32.000000</td>\n",
       "      <td>5.000000</td>\n",
       "      <td>256.670000</td>\n",
       "      <td>1047.015000</td>\n",
       "      <td>3.000000</td>\n",
       "    </tr>\n",
       "    <tr>\n",
       "      <th>75%</th>\n",
       "      <td>74637.250000</td>\n",
       "      <td>46.000000</td>\n",
       "      <td>8.000000</td>\n",
       "      <td>380.570000</td>\n",
       "      <td>2036.457500</td>\n",
       "      <td>4.000000</td>\n",
       "    </tr>\n",
       "    <tr>\n",
       "      <th>95%</th>\n",
       "      <td>95656.150000</td>\n",
       "      <td>65.000000</td>\n",
       "      <td>10.000000</td>\n",
       "      <td>475.838500</td>\n",
       "      <td>3694.542000</td>\n",
       "      <td>5.000000</td>\n",
       "    </tr>\n",
       "    <tr>\n",
       "      <th>99%</th>\n",
       "      <td>99200.030000</td>\n",
       "      <td>70.000000</td>\n",
       "      <td>10.000000</td>\n",
       "      <td>494.945600</td>\n",
       "      <td>4537.283200</td>\n",
       "      <td>5.000000</td>\n",
       "    </tr>\n",
       "    <tr>\n",
       "      <th>max</th>\n",
       "      <td>99947.000000</td>\n",
       "      <td>70.000000</td>\n",
       "      <td>10.000000</td>\n",
       "      <td>500.000000</td>\n",
       "      <td>4998.720000</td>\n",
       "      <td>5.000000</td>\n",
       "    </tr>\n",
       "  </tbody>\n",
       "</table>\n",
       "</div>"
      ],
      "text/plain": [
       "            Zipcode           Age  Total_Purchases        Amount  \\\n",
       "count  17394.000000  17394.000000     17394.000000  17394.000000   \n",
       "mean   49995.103254     35.419053         5.353110    256.214721   \n",
       "std    29062.542596     15.086977         2.862466    141.927651   \n",
       "min      503.000000     18.000000         1.000000     10.000000   \n",
       "5%      4793.950000     19.000000         1.000000     34.066500   \n",
       "25%    24717.500000     22.000000         3.000000    132.700000   \n",
       "50%    50380.000000     32.000000         5.000000    256.670000   \n",
       "75%    74637.250000     46.000000         8.000000    380.570000   \n",
       "95%    95656.150000     65.000000        10.000000    475.838500   \n",
       "99%    99200.030000     70.000000        10.000000    494.945600   \n",
       "max    99947.000000     70.000000        10.000000    500.000000   \n",
       "\n",
       "       Total_Amount       Ratings  \n",
       "count  17394.000000  17394.000000  \n",
       "mean    1374.169757      3.163217  \n",
       "std     1135.256874      1.320959  \n",
       "min       10.000000      1.000000  \n",
       "5%       115.986000      1.000000  \n",
       "25%      440.347500      2.000000  \n",
       "50%     1047.015000      3.000000  \n",
       "75%     2036.457500      4.000000  \n",
       "95%     3694.542000      5.000000  \n",
       "99%     4537.283200      5.000000  \n",
       "max     4998.720000      5.000000  "
      ]
     },
     "execution_count": 306,
     "metadata": {},
     "output_type": "execute_result"
    }
   ],
   "source": [
    "df_clean_unique_customer.describe(percentiles=[.05,.5,.25,.75,.95,.99])\n"
   ]
  },
  {
   "cell_type": "markdown",
   "metadata": {},
   "source": [
    "La edad no la considero por que los customers estan repetidos, por lo que debo primero hacer una limpieza y luego estudiar estadisticamente los datos (lo hare a continuacion)\n",
    "Total_Purchases -- Es el numero de compras realizadas por el customer\n",
    "En promedio se compran 5 articulos por compra. Siendo 1 el minimo, y 10 el maximo. En esta variable no se observan valores atipicos ni la necesidad de realizar una estandarizacion. \n",
    "En promedio los articulos cuestan "
   ]
  },
  {
   "cell_type": "markdown",
   "metadata": {},
   "source": [
    "Como las personas se repiten, si quiero estudiar estadisticamente la edad de estas, tengo que hacer un drop de duplicados de Customer_ID. Commo todos los datos son en el mismo a;o, la edad de la persona va a ser la misma para todas sus compras, por lo que no me preocupa cual registro me quedo"
   ]
  },
  {
   "cell_type": "code",
   "execution_count": null,
   "metadata": {},
   "outputs": [],
   "source": [
    "df_clean_unique_customer=df_clean_unique.copy()\n",
    "df_clean_unique_customer = df_clean_unique_customer.drop_duplicates(subset=['Customer_ID'], keep=False)"
   ]
  }
 ],
 "metadata": {
  "kernelspec": {
   "display_name": "Python 3",
   "language": "python",
   "name": "python3"
  },
  "language_info": {
   "codemirror_mode": {
    "name": "ipython",
    "version": 3
   },
   "file_extension": ".py",
   "mimetype": "text/x-python",
   "name": "python",
   "nbconvert_exporter": "python",
   "pygments_lexer": "ipython3",
   "version": "3.10.2"
  }
 },
 "nbformat": 4,
 "nbformat_minor": 2
}
