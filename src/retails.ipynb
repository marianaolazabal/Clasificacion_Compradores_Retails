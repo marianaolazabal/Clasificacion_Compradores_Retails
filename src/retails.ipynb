{
 "cells": [
  {
   "cell_type": "code",
   "execution_count": 981,
   "metadata": {},
   "outputs": [],
   "source": [
    "import pandas as pd\n",
    "import numpy as np\n",
    "import matplotlib.pyplot as plt\n",
    "import seaborn as sns\n",
    "import time\n",
    "import requests #--pip install requests\n",
    "#!pip install pycountry\n",
    "#!pip install pyzipcode\n",
    "import pycountry\n",
    "import re\n",
    "from pandas.plotting import scatter_matrix\n",
    "from sklearn.model_selection import train_test_split # División del dataset\n",
    "from sklearn.tree import DecisionTreeClassifier\n",
    "from sklearn.metrics import accuracy_score, classification_report, confusion_matrix\n",
    "from matplotlib.cm import ScalarMappable\n",
    "from matplotlib.lines import Line2D\n",
    "from geopy.geocoders import Photon\n",
    "from geopy.exc import GeocoderTimedOut\n",
    "from pyzipcode import ZipCodeDatabase\n",
    "import statsmodels.api as sm\n",
    "#from uszipcode import SearchEngine, SimpleZipcode, Zipcode"
   ]
  },
  {
   "cell_type": "markdown",
   "metadata": {},
   "source": [
    "Retail Analysis on Large Dataset\n",
    "https://www.kaggle.com/datasets/sahilprajapati143/retail-analysis-large-dataset"
   ]
  },
  {
   "cell_type": "code",
   "execution_count": 982,
   "metadata": {},
   "outputs": [],
   "source": [
    "df_Retail = pd.read_csv('../data/new_retail_data.csv')"
   ]
  },
  {
   "cell_type": "code",
   "execution_count": 983,
   "metadata": {},
   "outputs": [
    {
     "data": {
      "text/plain": [
       "9060300"
      ]
     },
     "execution_count": 983,
     "metadata": {},
     "output_type": "execute_result"
    }
   ],
   "source": [
    "df_Retail.size"
   ]
  },
  {
   "cell_type": "code",
   "execution_count": 984,
   "metadata": {},
   "outputs": [
    {
     "data": {
      "text/html": [
       "<div>\n",
       "<style scoped>\n",
       "    .dataframe tbody tr th:only-of-type {\n",
       "        vertical-align: middle;\n",
       "    }\n",
       "\n",
       "    .dataframe tbody tr th {\n",
       "        vertical-align: top;\n",
       "    }\n",
       "\n",
       "    .dataframe thead th {\n",
       "        text-align: right;\n",
       "    }\n",
       "</style>\n",
       "<table border=\"1\" class=\"dataframe\">\n",
       "  <thead>\n",
       "    <tr style=\"text-align: right;\">\n",
       "      <th></th>\n",
       "      <th>Transaction_ID</th>\n",
       "      <th>Customer_ID</th>\n",
       "      <th>Name</th>\n",
       "      <th>Email</th>\n",
       "      <th>Phone</th>\n",
       "      <th>Address</th>\n",
       "      <th>City</th>\n",
       "      <th>State</th>\n",
       "      <th>Zipcode</th>\n",
       "      <th>Country</th>\n",
       "      <th>Age</th>\n",
       "      <th>Gender</th>\n",
       "      <th>Income</th>\n",
       "      <th>Customer_Segment</th>\n",
       "      <th>Date</th>\n",
       "      <th>Year</th>\n",
       "      <th>Month</th>\n",
       "      <th>Time</th>\n",
       "      <th>Total_Purchases</th>\n",
       "      <th>Amount</th>\n",
       "      <th>Total_Amount</th>\n",
       "      <th>Product_Category</th>\n",
       "      <th>Product_Brand</th>\n",
       "      <th>Product_Type</th>\n",
       "      <th>Feedback</th>\n",
       "      <th>Shipping_Method</th>\n",
       "      <th>Payment_Method</th>\n",
       "      <th>Order_Status</th>\n",
       "      <th>Ratings</th>\n",
       "      <th>products</th>\n",
       "    </tr>\n",
       "  </thead>\n",
       "  <tbody>\n",
       "    <tr>\n",
       "      <th>0</th>\n",
       "      <td>8691788.0</td>\n",
       "      <td>37249.0</td>\n",
       "      <td>Michelle Harrington</td>\n",
       "      <td>Ebony39@gmail.com</td>\n",
       "      <td>1.414787e+09</td>\n",
       "      <td>3959 Amanda Burgs</td>\n",
       "      <td>Dortmund</td>\n",
       "      <td>Berlin</td>\n",
       "      <td>77985.0</td>\n",
       "      <td>Germany</td>\n",
       "      <td>21.0</td>\n",
       "      <td>Male</td>\n",
       "      <td>Low</td>\n",
       "      <td>Regular</td>\n",
       "      <td>9/18/2023</td>\n",
       "      <td>2023.0</td>\n",
       "      <td>September</td>\n",
       "      <td>22:03:55</td>\n",
       "      <td>3.0</td>\n",
       "      <td>108.028757</td>\n",
       "      <td>324.086270</td>\n",
       "      <td>Clothing</td>\n",
       "      <td>Nike</td>\n",
       "      <td>Shorts</td>\n",
       "      <td>Excellent</td>\n",
       "      <td>Same-Day</td>\n",
       "      <td>Debit Card</td>\n",
       "      <td>Shipped</td>\n",
       "      <td>5.0</td>\n",
       "      <td>Cycling shorts</td>\n",
       "    </tr>\n",
       "    <tr>\n",
       "      <th>1</th>\n",
       "      <td>2174773.0</td>\n",
       "      <td>69749.0</td>\n",
       "      <td>Kelsey Hill</td>\n",
       "      <td>Mark36@gmail.com</td>\n",
       "      <td>6.852900e+09</td>\n",
       "      <td>82072 Dawn Centers</td>\n",
       "      <td>Nottingham</td>\n",
       "      <td>England</td>\n",
       "      <td>99071.0</td>\n",
       "      <td>UK</td>\n",
       "      <td>19.0</td>\n",
       "      <td>Female</td>\n",
       "      <td>Low</td>\n",
       "      <td>Premium</td>\n",
       "      <td>12/31/2023</td>\n",
       "      <td>2023.0</td>\n",
       "      <td>December</td>\n",
       "      <td>8:42:04</td>\n",
       "      <td>2.0</td>\n",
       "      <td>403.353907</td>\n",
       "      <td>806.707815</td>\n",
       "      <td>Electronics</td>\n",
       "      <td>Samsung</td>\n",
       "      <td>Tablet</td>\n",
       "      <td>Excellent</td>\n",
       "      <td>Standard</td>\n",
       "      <td>Credit Card</td>\n",
       "      <td>Processing</td>\n",
       "      <td>4.0</td>\n",
       "      <td>Lenovo Tab</td>\n",
       "    </tr>\n",
       "    <tr>\n",
       "      <th>2</th>\n",
       "      <td>6679610.0</td>\n",
       "      <td>30192.0</td>\n",
       "      <td>Scott Jensen</td>\n",
       "      <td>Shane85@gmail.com</td>\n",
       "      <td>8.362160e+09</td>\n",
       "      <td>4133 Young Canyon</td>\n",
       "      <td>Geelong</td>\n",
       "      <td>New South Wales</td>\n",
       "      <td>75929.0</td>\n",
       "      <td>Australia</td>\n",
       "      <td>48.0</td>\n",
       "      <td>Male</td>\n",
       "      <td>Low</td>\n",
       "      <td>Regular</td>\n",
       "      <td>4/26/2023</td>\n",
       "      <td>2023.0</td>\n",
       "      <td>April</td>\n",
       "      <td>4:06:29</td>\n",
       "      <td>3.0</td>\n",
       "      <td>354.477600</td>\n",
       "      <td>1063.432799</td>\n",
       "      <td>Books</td>\n",
       "      <td>Penguin Books</td>\n",
       "      <td>Children's</td>\n",
       "      <td>Average</td>\n",
       "      <td>Same-Day</td>\n",
       "      <td>Credit Card</td>\n",
       "      <td>Processing</td>\n",
       "      <td>2.0</td>\n",
       "      <td>Sports equipment</td>\n",
       "    </tr>\n",
       "    <tr>\n",
       "      <th>3</th>\n",
       "      <td>7232460.0</td>\n",
       "      <td>62101.0</td>\n",
       "      <td>Joseph Miller</td>\n",
       "      <td>Mary34@gmail.com</td>\n",
       "      <td>2.776752e+09</td>\n",
       "      <td>8148 Thomas Creek Suite 100</td>\n",
       "      <td>Edmonton</td>\n",
       "      <td>Ontario</td>\n",
       "      <td>88420.0</td>\n",
       "      <td>Canada</td>\n",
       "      <td>56.0</td>\n",
       "      <td>Male</td>\n",
       "      <td>High</td>\n",
       "      <td>Premium</td>\n",
       "      <td>5/8/2023</td>\n",
       "      <td>2023.0</td>\n",
       "      <td>May</td>\n",
       "      <td>14:55:17</td>\n",
       "      <td>7.0</td>\n",
       "      <td>352.407717</td>\n",
       "      <td>2466.854021</td>\n",
       "      <td>Home Decor</td>\n",
       "      <td>Home Depot</td>\n",
       "      <td>Tools</td>\n",
       "      <td>Excellent</td>\n",
       "      <td>Standard</td>\n",
       "      <td>PayPal</td>\n",
       "      <td>Processing</td>\n",
       "      <td>4.0</td>\n",
       "      <td>Utility knife</td>\n",
       "    </tr>\n",
       "    <tr>\n",
       "      <th>4</th>\n",
       "      <td>4983775.0</td>\n",
       "      <td>27901.0</td>\n",
       "      <td>Debra Coleman</td>\n",
       "      <td>Charles30@gmail.com</td>\n",
       "      <td>9.098268e+09</td>\n",
       "      <td>5813 Lori Ports Suite 269</td>\n",
       "      <td>Bristol</td>\n",
       "      <td>England</td>\n",
       "      <td>48704.0</td>\n",
       "      <td>UK</td>\n",
       "      <td>22.0</td>\n",
       "      <td>Male</td>\n",
       "      <td>Low</td>\n",
       "      <td>Premium</td>\n",
       "      <td>1/10/2024</td>\n",
       "      <td>2024.0</td>\n",
       "      <td>January</td>\n",
       "      <td>16:54:07</td>\n",
       "      <td>2.0</td>\n",
       "      <td>124.276524</td>\n",
       "      <td>248.553049</td>\n",
       "      <td>Grocery</td>\n",
       "      <td>Nestle</td>\n",
       "      <td>Chocolate</td>\n",
       "      <td>Bad</td>\n",
       "      <td>Standard</td>\n",
       "      <td>Cash</td>\n",
       "      <td>Shipped</td>\n",
       "      <td>1.0</td>\n",
       "      <td>Chocolate cookies</td>\n",
       "    </tr>\n",
       "  </tbody>\n",
       "</table>\n",
       "</div>"
      ],
      "text/plain": [
       "   Transaction_ID  Customer_ID                 Name                Email  \\\n",
       "0       8691788.0      37249.0  Michelle Harrington    Ebony39@gmail.com   \n",
       "1       2174773.0      69749.0          Kelsey Hill     Mark36@gmail.com   \n",
       "2       6679610.0      30192.0         Scott Jensen    Shane85@gmail.com   \n",
       "3       7232460.0      62101.0        Joseph Miller     Mary34@gmail.com   \n",
       "4       4983775.0      27901.0        Debra Coleman  Charles30@gmail.com   \n",
       "\n",
       "          Phone                      Address        City            State  \\\n",
       "0  1.414787e+09            3959 Amanda Burgs    Dortmund           Berlin   \n",
       "1  6.852900e+09           82072 Dawn Centers  Nottingham          England   \n",
       "2  8.362160e+09            4133 Young Canyon     Geelong  New South Wales   \n",
       "3  2.776752e+09  8148 Thomas Creek Suite 100    Edmonton          Ontario   \n",
       "4  9.098268e+09    5813 Lori Ports Suite 269     Bristol          England   \n",
       "\n",
       "   Zipcode    Country   Age  Gender Income Customer_Segment        Date  \\\n",
       "0  77985.0    Germany  21.0    Male    Low          Regular   9/18/2023   \n",
       "1  99071.0         UK  19.0  Female    Low          Premium  12/31/2023   \n",
       "2  75929.0  Australia  48.0    Male    Low          Regular   4/26/2023   \n",
       "3  88420.0     Canada  56.0    Male   High          Premium    5/8/2023   \n",
       "4  48704.0         UK  22.0    Male    Low          Premium   1/10/2024   \n",
       "\n",
       "     Year      Month      Time  Total_Purchases      Amount  Total_Amount  \\\n",
       "0  2023.0  September  22:03:55              3.0  108.028757    324.086270   \n",
       "1  2023.0   December   8:42:04              2.0  403.353907    806.707815   \n",
       "2  2023.0      April   4:06:29              3.0  354.477600   1063.432799   \n",
       "3  2023.0        May  14:55:17              7.0  352.407717   2466.854021   \n",
       "4  2024.0    January  16:54:07              2.0  124.276524    248.553049   \n",
       "\n",
       "  Product_Category  Product_Brand Product_Type   Feedback Shipping_Method  \\\n",
       "0         Clothing           Nike       Shorts  Excellent        Same-Day   \n",
       "1      Electronics        Samsung       Tablet  Excellent        Standard   \n",
       "2            Books  Penguin Books   Children's    Average        Same-Day   \n",
       "3       Home Decor     Home Depot        Tools  Excellent        Standard   \n",
       "4          Grocery         Nestle    Chocolate        Bad        Standard   \n",
       "\n",
       "  Payment_Method Order_Status  Ratings           products  \n",
       "0     Debit Card      Shipped      5.0     Cycling shorts  \n",
       "1    Credit Card   Processing      4.0         Lenovo Tab  \n",
       "2    Credit Card   Processing      2.0   Sports equipment  \n",
       "3         PayPal   Processing      4.0      Utility knife  \n",
       "4           Cash      Shipped      1.0  Chocolate cookies  "
      ]
     },
     "execution_count": 984,
     "metadata": {},
     "output_type": "execute_result"
    }
   ],
   "source": [
    "df_Retail.head()"
   ]
  },
  {
   "cell_type": "code",
   "execution_count": 985,
   "metadata": {},
   "outputs": [],
   "source": [
    "df_Retail_copy=df_Retail.copy()"
   ]
  },
  {
   "cell_type": "code",
   "execution_count": 986,
   "metadata": {},
   "outputs": [
    {
     "data": {
      "text/plain": [
       "9060300"
      ]
     },
     "execution_count": 986,
     "metadata": {},
     "output_type": "execute_result"
    }
   ],
   "source": [
    "df_Retail_copy.size"
   ]
  },
  {
   "cell_type": "markdown",
   "metadata": {},
   "source": [
    "##Estudio univariable. Completitud, correctitud y consistencia"
   ]
  },
  {
   "cell_type": "markdown",
   "metadata": {},
   "source": [
    "- Transaction_ID es el numero unico de transaccion, no deberian de haber repetidos"
   ]
  },
  {
   "cell_type": "code",
   "execution_count": 987,
   "metadata": {},
   "outputs": [
    {
     "data": {
      "text/html": [
       "<div>\n",
       "<style scoped>\n",
       "    .dataframe tbody tr th:only-of-type {\n",
       "        vertical-align: middle;\n",
       "    }\n",
       "\n",
       "    .dataframe tbody tr th {\n",
       "        vertical-align: top;\n",
       "    }\n",
       "\n",
       "    .dataframe thead th {\n",
       "        text-align: right;\n",
       "    }\n",
       "</style>\n",
       "<table border=\"1\" class=\"dataframe\">\n",
       "  <thead>\n",
       "    <tr style=\"text-align: right;\">\n",
       "      <th></th>\n",
       "      <th>Transaction_ID</th>\n",
       "      <th>Customer_ID</th>\n",
       "      <th>Name</th>\n",
       "      <th>Email</th>\n",
       "      <th>Phone</th>\n",
       "      <th>Address</th>\n",
       "      <th>City</th>\n",
       "      <th>State</th>\n",
       "      <th>Zipcode</th>\n",
       "      <th>Country</th>\n",
       "      <th>Age</th>\n",
       "      <th>Gender</th>\n",
       "      <th>Income</th>\n",
       "      <th>Customer_Segment</th>\n",
       "      <th>Date</th>\n",
       "      <th>Year</th>\n",
       "      <th>Month</th>\n",
       "      <th>Time</th>\n",
       "      <th>Total_Purchases</th>\n",
       "      <th>Amount</th>\n",
       "      <th>Total_Amount</th>\n",
       "      <th>Product_Category</th>\n",
       "      <th>Product_Brand</th>\n",
       "      <th>Product_Type</th>\n",
       "      <th>Feedback</th>\n",
       "      <th>Shipping_Method</th>\n",
       "      <th>Payment_Method</th>\n",
       "      <th>Order_Status</th>\n",
       "      <th>Ratings</th>\n",
       "      <th>products</th>\n",
       "    </tr>\n",
       "  </thead>\n",
       "  <tbody>\n",
       "    <tr>\n",
       "      <th>0</th>\n",
       "      <td>8691788.0</td>\n",
       "      <td>37249.0</td>\n",
       "      <td>Michelle Harrington</td>\n",
       "      <td>Ebony39@gmail.com</td>\n",
       "      <td>1.414787e+09</td>\n",
       "      <td>3959 Amanda Burgs</td>\n",
       "      <td>Dortmund</td>\n",
       "      <td>Berlin</td>\n",
       "      <td>77985.0</td>\n",
       "      <td>Germany</td>\n",
       "      <td>21.0</td>\n",
       "      <td>Male</td>\n",
       "      <td>Low</td>\n",
       "      <td>Regular</td>\n",
       "      <td>9/18/2023</td>\n",
       "      <td>2023.0</td>\n",
       "      <td>September</td>\n",
       "      <td>22:03:55</td>\n",
       "      <td>3.0</td>\n",
       "      <td>108.028757</td>\n",
       "      <td>324.086270</td>\n",
       "      <td>Clothing</td>\n",
       "      <td>Nike</td>\n",
       "      <td>Shorts</td>\n",
       "      <td>Excellent</td>\n",
       "      <td>Same-Day</td>\n",
       "      <td>Debit Card</td>\n",
       "      <td>Shipped</td>\n",
       "      <td>5.0</td>\n",
       "      <td>Cycling shorts</td>\n",
       "    </tr>\n",
       "    <tr>\n",
       "      <th>32</th>\n",
       "      <td>8973612.0</td>\n",
       "      <td>65701.0</td>\n",
       "      <td>Christopher Lopez</td>\n",
       "      <td>Derrick51@gmail.com</td>\n",
       "      <td>9.286274e+09</td>\n",
       "      <td>57136 Martha Common Apt. 654</td>\n",
       "      <td>Portsmouth</td>\n",
       "      <td>England</td>\n",
       "      <td>11531.0</td>\n",
       "      <td>UK</td>\n",
       "      <td>66.0</td>\n",
       "      <td>Male</td>\n",
       "      <td>Medium</td>\n",
       "      <td>Regular</td>\n",
       "      <td>5/22/2023</td>\n",
       "      <td>2023.0</td>\n",
       "      <td>May</td>\n",
       "      <td>11:24:20</td>\n",
       "      <td>7.0</td>\n",
       "      <td>344.679185</td>\n",
       "      <td>2412.754296</td>\n",
       "      <td>Home Decor</td>\n",
       "      <td>IKEA</td>\n",
       "      <td>Decorations</td>\n",
       "      <td>Excellent</td>\n",
       "      <td>Same-Day</td>\n",
       "      <td>Debit Card</td>\n",
       "      <td>Processing</td>\n",
       "      <td>5.0</td>\n",
       "      <td>Curtains</td>\n",
       "    </tr>\n",
       "    <tr>\n",
       "      <th>42</th>\n",
       "      <td>3902930.0</td>\n",
       "      <td>77572.0</td>\n",
       "      <td>Jose Spencer</td>\n",
       "      <td>Amber67@gmail.com</td>\n",
       "      <td>8.282195e+09</td>\n",
       "      <td>02936 Roy Village</td>\n",
       "      <td>Portsmouth</td>\n",
       "      <td>England</td>\n",
       "      <td>98771.0</td>\n",
       "      <td>UK</td>\n",
       "      <td>68.0</td>\n",
       "      <td>Female</td>\n",
       "      <td>High</td>\n",
       "      <td>Regular</td>\n",
       "      <td>10/6/2023</td>\n",
       "      <td>2023.0</td>\n",
       "      <td>October</td>\n",
       "      <td>4:59:02</td>\n",
       "      <td>6.0</td>\n",
       "      <td>334.165698</td>\n",
       "      <td>2004.994190</td>\n",
       "      <td>Electronics</td>\n",
       "      <td>Apple</td>\n",
       "      <td>Laptop</td>\n",
       "      <td>Bad</td>\n",
       "      <td>Same-Day</td>\n",
       "      <td>Debit Card</td>\n",
       "      <td>Shipped</td>\n",
       "      <td>1.0</td>\n",
       "      <td>Microsoft Surface Laptop</td>\n",
       "    </tr>\n",
       "    <tr>\n",
       "      <th>72</th>\n",
       "      <td>9534452.0</td>\n",
       "      <td>20500.0</td>\n",
       "      <td>Matthew Hicks</td>\n",
       "      <td>Kara43@gmail.com</td>\n",
       "      <td>1.568422e+09</td>\n",
       "      <td>51720 Rachael Spurs Suite 283</td>\n",
       "      <td>Portsmouth</td>\n",
       "      <td>England</td>\n",
       "      <td>94447.0</td>\n",
       "      <td>UK</td>\n",
       "      <td>61.0</td>\n",
       "      <td>Female</td>\n",
       "      <td>Medium</td>\n",
       "      <td>Regular</td>\n",
       "      <td>6/6/2023</td>\n",
       "      <td>2023.0</td>\n",
       "      <td>June</td>\n",
       "      <td>8:43:39</td>\n",
       "      <td>4.0</td>\n",
       "      <td>201.953735</td>\n",
       "      <td>807.814939</td>\n",
       "      <td>Clothing</td>\n",
       "      <td>Zara</td>\n",
       "      <td>Dress</td>\n",
       "      <td>Average</td>\n",
       "      <td>Standard</td>\n",
       "      <td>PayPal</td>\n",
       "      <td>Processing</td>\n",
       "      <td>2.0</td>\n",
       "      <td>Maxi dress</td>\n",
       "    </tr>\n",
       "    <tr>\n",
       "      <th>93</th>\n",
       "      <td>1874788.0</td>\n",
       "      <td>74649.0</td>\n",
       "      <td>Courtney Perry</td>\n",
       "      <td>Tina32@gmail.com</td>\n",
       "      <td>7.402422e+09</td>\n",
       "      <td>571 Samuel Wall Apt. 895</td>\n",
       "      <td>Portsmouth</td>\n",
       "      <td>England</td>\n",
       "      <td>24895.0</td>\n",
       "      <td>UK</td>\n",
       "      <td>18.0</td>\n",
       "      <td>Male</td>\n",
       "      <td>High</td>\n",
       "      <td>Regular</td>\n",
       "      <td>4/19/2023</td>\n",
       "      <td>2023.0</td>\n",
       "      <td>April</td>\n",
       "      <td>22:26:07</td>\n",
       "      <td>5.0</td>\n",
       "      <td>289.116783</td>\n",
       "      <td>1445.583914</td>\n",
       "      <td>Grocery</td>\n",
       "      <td>Nestle</td>\n",
       "      <td>Chocolate</td>\n",
       "      <td>Average</td>\n",
       "      <td>Express</td>\n",
       "      <td>Debit Card</td>\n",
       "      <td>Delivered</td>\n",
       "      <td>2.0</td>\n",
       "      <td>Chocolate-covered fruits</td>\n",
       "    </tr>\n",
       "  </tbody>\n",
       "</table>\n",
       "</div>"
      ],
      "text/plain": [
       "    Transaction_ID  Customer_ID                 Name                Email  \\\n",
       "0        8691788.0      37249.0  Michelle Harrington    Ebony39@gmail.com   \n",
       "32       8973612.0      65701.0    Christopher Lopez  Derrick51@gmail.com   \n",
       "42       3902930.0      77572.0         Jose Spencer    Amber67@gmail.com   \n",
       "72       9534452.0      20500.0        Matthew Hicks     Kara43@gmail.com   \n",
       "93       1874788.0      74649.0       Courtney Perry     Tina32@gmail.com   \n",
       "\n",
       "           Phone                        Address        City    State  Zipcode  \\\n",
       "0   1.414787e+09              3959 Amanda Burgs    Dortmund   Berlin  77985.0   \n",
       "32  9.286274e+09   57136 Martha Common Apt. 654  Portsmouth  England  11531.0   \n",
       "42  8.282195e+09              02936 Roy Village  Portsmouth  England  98771.0   \n",
       "72  1.568422e+09  51720 Rachael Spurs Suite 283  Portsmouth  England  94447.0   \n",
       "93  7.402422e+09       571 Samuel Wall Apt. 895  Portsmouth  England  24895.0   \n",
       "\n",
       "    Country   Age  Gender  Income Customer_Segment       Date    Year  \\\n",
       "0   Germany  21.0    Male     Low          Regular  9/18/2023  2023.0   \n",
       "32       UK  66.0    Male  Medium          Regular  5/22/2023  2023.0   \n",
       "42       UK  68.0  Female    High          Regular  10/6/2023  2023.0   \n",
       "72       UK  61.0  Female  Medium          Regular   6/6/2023  2023.0   \n",
       "93       UK  18.0    Male    High          Regular  4/19/2023  2023.0   \n",
       "\n",
       "        Month      Time  Total_Purchases      Amount  Total_Amount  \\\n",
       "0   September  22:03:55              3.0  108.028757    324.086270   \n",
       "32        May  11:24:20              7.0  344.679185   2412.754296   \n",
       "42    October   4:59:02              6.0  334.165698   2004.994190   \n",
       "72       June   8:43:39              4.0  201.953735    807.814939   \n",
       "93      April  22:26:07              5.0  289.116783   1445.583914   \n",
       "\n",
       "   Product_Category Product_Brand Product_Type   Feedback Shipping_Method  \\\n",
       "0          Clothing          Nike       Shorts  Excellent        Same-Day   \n",
       "32       Home Decor          IKEA  Decorations  Excellent        Same-Day   \n",
       "42      Electronics         Apple       Laptop        Bad        Same-Day   \n",
       "72         Clothing          Zara        Dress    Average        Standard   \n",
       "93          Grocery        Nestle    Chocolate    Average         Express   \n",
       "\n",
       "   Payment_Method Order_Status  Ratings                  products  \n",
       "0      Debit Card      Shipped      5.0            Cycling shorts  \n",
       "32     Debit Card   Processing      5.0                  Curtains  \n",
       "42     Debit Card      Shipped      1.0  Microsoft Surface Laptop  \n",
       "72         PayPal   Processing      2.0                Maxi dress  \n",
       "93     Debit Card    Delivered      2.0  Chocolate-covered fruits  "
      ]
     },
     "execution_count": 987,
     "metadata": {},
     "output_type": "execute_result"
    }
   ],
   "source": [
    "# Encontrar valores que se repiten en 'Transaction_ID'\n",
    "duplicate_values_copy = df_Retail_copy[df_Retail_copy.duplicated(subset=['Transaction_ID'], keep=False)]\n",
    "\n",
    "# Guardar duplicate_values como DataFrame\n",
    "duplicate_values_copy = pd.DataFrame(duplicate_values_copy)\n",
    "duplicate_values_copy.head()"
   ]
  },
  {
   "cell_type": "code",
   "execution_count": 988,
   "metadata": {},
   "outputs": [
    {
     "data": {
      "text/html": [
       "<div>\n",
       "<style scoped>\n",
       "    .dataframe tbody tr th:only-of-type {\n",
       "        vertical-align: middle;\n",
       "    }\n",
       "\n",
       "    .dataframe tbody tr th {\n",
       "        vertical-align: top;\n",
       "    }\n",
       "\n",
       "    .dataframe thead th {\n",
       "        text-align: right;\n",
       "    }\n",
       "</style>\n",
       "<table border=\"1\" class=\"dataframe\">\n",
       "  <thead>\n",
       "    <tr style=\"text-align: right;\">\n",
       "      <th></th>\n",
       "      <th>Transaction_ID</th>\n",
       "      <th>Customer_ID</th>\n",
       "      <th>Name</th>\n",
       "      <th>Email</th>\n",
       "      <th>Phone</th>\n",
       "      <th>Address</th>\n",
       "      <th>City</th>\n",
       "      <th>State</th>\n",
       "      <th>Zipcode</th>\n",
       "      <th>Country</th>\n",
       "      <th>Age</th>\n",
       "      <th>Gender</th>\n",
       "      <th>Income</th>\n",
       "      <th>Customer_Segment</th>\n",
       "      <th>Date</th>\n",
       "      <th>Year</th>\n",
       "      <th>Month</th>\n",
       "      <th>Time</th>\n",
       "      <th>Total_Purchases</th>\n",
       "      <th>Amount</th>\n",
       "      <th>Total_Amount</th>\n",
       "      <th>Product_Category</th>\n",
       "      <th>Product_Brand</th>\n",
       "      <th>Product_Type</th>\n",
       "      <th>Feedback</th>\n",
       "      <th>Shipping_Method</th>\n",
       "      <th>Payment_Method</th>\n",
       "      <th>Order_Status</th>\n",
       "      <th>Ratings</th>\n",
       "      <th>products</th>\n",
       "    </tr>\n",
       "  </thead>\n",
       "  <tbody>\n",
       "    <tr>\n",
       "      <th>0</th>\n",
       "      <td>8691788.0</td>\n",
       "      <td>37249.0</td>\n",
       "      <td>Michelle Harrington</td>\n",
       "      <td>Ebony39@gmail.com</td>\n",
       "      <td>1.414787e+09</td>\n",
       "      <td>3959 Amanda Burgs</td>\n",
       "      <td>Dortmund</td>\n",
       "      <td>Berlin</td>\n",
       "      <td>77985.0</td>\n",
       "      <td>Germany</td>\n",
       "      <td>21.0</td>\n",
       "      <td>Male</td>\n",
       "      <td>Low</td>\n",
       "      <td>Regular</td>\n",
       "      <td>9/18/2023</td>\n",
       "      <td>2023.0</td>\n",
       "      <td>September</td>\n",
       "      <td>22:03:55</td>\n",
       "      <td>3.0</td>\n",
       "      <td>108.028757</td>\n",
       "      <td>324.086270</td>\n",
       "      <td>Clothing</td>\n",
       "      <td>Nike</td>\n",
       "      <td>Shorts</td>\n",
       "      <td>Excellent</td>\n",
       "      <td>Same-Day</td>\n",
       "      <td>Debit Card</td>\n",
       "      <td>Shipped</td>\n",
       "      <td>5.0</td>\n",
       "      <td>Cycling shorts</td>\n",
       "    </tr>\n",
       "    <tr>\n",
       "      <th>112551</th>\n",
       "      <td>8691788.0</td>\n",
       "      <td>57392.0</td>\n",
       "      <td>Jacqueline Collins</td>\n",
       "      <td>Krystal93@gmail.com</td>\n",
       "      <td>5.575568e+09</td>\n",
       "      <td>32467 Lopez Falls Suite 272</td>\n",
       "      <td>Ottawa</td>\n",
       "      <td>Ontario</td>\n",
       "      <td>88811.0</td>\n",
       "      <td>Canada</td>\n",
       "      <td>46.0</td>\n",
       "      <td>Male</td>\n",
       "      <td>Medium</td>\n",
       "      <td>New</td>\n",
       "      <td>12/29/2023</td>\n",
       "      <td>2023.0</td>\n",
       "      <td>December</td>\n",
       "      <td>20:43:59</td>\n",
       "      <td>2.0</td>\n",
       "      <td>147.379781</td>\n",
       "      <td>294.759562</td>\n",
       "      <td>Electronics</td>\n",
       "      <td>Sony</td>\n",
       "      <td>Television</td>\n",
       "      <td>Excellent</td>\n",
       "      <td>Standard</td>\n",
       "      <td>Cash</td>\n",
       "      <td>Processing</td>\n",
       "      <td>4.0</td>\n",
       "      <td>LED TV</td>\n",
       "    </tr>\n",
       "  </tbody>\n",
       "</table>\n",
       "</div>"
      ],
      "text/plain": [
       "        Transaction_ID  Customer_ID                 Name                Email  \\\n",
       "0            8691788.0      37249.0  Michelle Harrington    Ebony39@gmail.com   \n",
       "112551       8691788.0      57392.0   Jacqueline Collins  Krystal93@gmail.com   \n",
       "\n",
       "               Phone                      Address      City    State  Zipcode  \\\n",
       "0       1.414787e+09            3959 Amanda Burgs  Dortmund   Berlin  77985.0   \n",
       "112551  5.575568e+09  32467 Lopez Falls Suite 272    Ottawa  Ontario  88811.0   \n",
       "\n",
       "        Country   Age Gender  Income Customer_Segment        Date    Year  \\\n",
       "0       Germany  21.0   Male     Low          Regular   9/18/2023  2023.0   \n",
       "112551   Canada  46.0   Male  Medium              New  12/29/2023  2023.0   \n",
       "\n",
       "            Month      Time  Total_Purchases      Amount  Total_Amount  \\\n",
       "0       September  22:03:55              3.0  108.028757    324.086270   \n",
       "112551   December  20:43:59              2.0  147.379781    294.759562   \n",
       "\n",
       "       Product_Category Product_Brand Product_Type   Feedback Shipping_Method  \\\n",
       "0              Clothing          Nike       Shorts  Excellent        Same-Day   \n",
       "112551      Electronics          Sony   Television  Excellent        Standard   \n",
       "\n",
       "       Payment_Method Order_Status  Ratings        products  \n",
       "0          Debit Card      Shipped      5.0  Cycling shorts  \n",
       "112551           Cash   Processing      4.0          LED TV  "
      ]
     },
     "execution_count": 988,
     "metadata": {},
     "output_type": "execute_result"
    }
   ],
   "source": [
    "df_filtered_transaction = df_Retail_copy[df_Retail_copy['Transaction_ID'] == 8691788]\n",
    "df_filtered_transaction.head()"
   ]
  },
  {
   "cell_type": "markdown",
   "metadata": {},
   "source": [
    "Este resultado es inconsistente, muestra para una misma trasaccion distintos customer_id. Procedo a eliminar duplicados de Transaction_ID"
   ]
  },
  {
   "cell_type": "code",
   "execution_count": 989,
   "metadata": {},
   "outputs": [],
   "source": [
    "columns_to_check = [\n",
    "    'Customer_ID', 'Address', 'City', 'State', 'Zipcode', 'Country', 'Age', 'Gender',\n",
    "    'Income', 'Customer_Segment', 'Date', 'Month', 'Time',\n",
    "    'Total_Amount', 'Shipping_Method', 'Payment_Method', 'Order_Status', 'Feedback'\n",
    "]\n",
    "\n",
    "# Encontrar Transaction_IDs consistentes para cada columna\n",
    "consistent_transaction_ids = set(df_Retail_copy['Transaction_ID'])  # Inicialmente todos los IDs son válidos\n",
    "for column in columns_to_check:\n",
    "    # Agrupar por Transaction_ID y verificar cuántos valores únicos hay\n",
    "    consistency = df_Retail_copy.groupby('Transaction_ID')[column].nunique()\n",
    "    \n",
    "    # Identificar Transaction_ID donde el valor es consistente (solo un valor único de la columna)\n",
    "    consistent_ids = consistency[consistency == 1].index\n",
    "    \n",
    "    # Intersección con IDs válidos actuales\n",
    "    consistent_transaction_ids &= set(consistent_ids)\n",
    "\n",
    "# Filtrar el DataFrame original para mantener solo los Transaction_IDs con valores consistentes en todas las columnas\n",
    "df_Retail_copy = df_Retail_copy[df_Retail_copy['Transaction_ID'].isin(consistent_transaction_ids)]"
   ]
  },
  {
   "cell_type": "markdown",
   "metadata": {},
   "source": [
    "- Customer_ID es el identificador del cliente. Se observa que para un mismo identificador de cliente, el nombre, la direccion, y los datos de la persona son distintos en las transacciones realizadas por el cliente. Esto puede ser una inconsistencia de datos o compras realizadas por familiares, amigos de la persona o robo de cuenta. Como no es posible definir cual es la situacion, continuare estudiando las otras variables y retomare luego esta inconsistencia."
   ]
  },
  {
   "cell_type": "code",
   "execution_count": 990,
   "metadata": {},
   "outputs": [
    {
     "data": {
      "text/plain": [
       "np.int64(13)"
      ]
     },
     "execution_count": 990,
     "metadata": {},
     "output_type": "execute_result"
    }
   ],
   "source": [
    "df_Retail_copy_unique=df_Retail_copy.copy()\n",
    "df_Retail_copy_unique['Customer_ID'].value_counts().max()"
   ]
  },
  {
   "cell_type": "markdown",
   "metadata": {},
   "source": [
    "Se observa que el comprador que compro mas veces lo hizo 13 veces"
   ]
  },
  {
   "cell_type": "code",
   "execution_count": 991,
   "metadata": {},
   "outputs": [],
   "source": [
    "df_Retail_unique_copy=df_Retail_copy_unique.copy()"
   ]
  },
  {
   "cell_type": "code",
   "execution_count": 992,
   "metadata": {},
   "outputs": [
    {
     "data": {
      "text/html": [
       "<div>\n",
       "<style scoped>\n",
       "    .dataframe tbody tr th:only-of-type {\n",
       "        vertical-align: middle;\n",
       "    }\n",
       "\n",
       "    .dataframe tbody tr th {\n",
       "        vertical-align: top;\n",
       "    }\n",
       "\n",
       "    .dataframe thead th {\n",
       "        text-align: right;\n",
       "    }\n",
       "</style>\n",
       "<table border=\"1\" class=\"dataframe\">\n",
       "  <thead>\n",
       "    <tr style=\"text-align: right;\">\n",
       "      <th></th>\n",
       "      <th>Transaction_ID</th>\n",
       "      <th>Customer_ID</th>\n",
       "      <th>Name</th>\n",
       "      <th>Email</th>\n",
       "      <th>Phone</th>\n",
       "      <th>Address</th>\n",
       "      <th>City</th>\n",
       "      <th>State</th>\n",
       "      <th>Zipcode</th>\n",
       "      <th>Country</th>\n",
       "      <th>Age</th>\n",
       "      <th>Gender</th>\n",
       "      <th>Income</th>\n",
       "      <th>Customer_Segment</th>\n",
       "      <th>Date</th>\n",
       "      <th>Year</th>\n",
       "      <th>Month</th>\n",
       "      <th>Time</th>\n",
       "      <th>Total_Purchases</th>\n",
       "      <th>Amount</th>\n",
       "      <th>Total_Amount</th>\n",
       "      <th>Product_Category</th>\n",
       "      <th>Product_Brand</th>\n",
       "      <th>Product_Type</th>\n",
       "      <th>Feedback</th>\n",
       "      <th>Shipping_Method</th>\n",
       "      <th>Payment_Method</th>\n",
       "      <th>Order_Status</th>\n",
       "      <th>Ratings</th>\n",
       "      <th>products</th>\n",
       "    </tr>\n",
       "  </thead>\n",
       "  <tbody>\n",
       "    <tr>\n",
       "      <th>8531</th>\n",
       "      <td>5056596.0</td>\n",
       "      <td>10037.0</td>\n",
       "      <td>Robert Wilson</td>\n",
       "      <td>James32@gmail.com</td>\n",
       "      <td>1.226992e+09</td>\n",
       "      <td>33461 Sarah Forges Suite 845</td>\n",
       "      <td>Portsmouth</td>\n",
       "      <td>England</td>\n",
       "      <td>20966.0</td>\n",
       "      <td>UK</td>\n",
       "      <td>19.0</td>\n",
       "      <td>Male</td>\n",
       "      <td>Medium</td>\n",
       "      <td>Regular</td>\n",
       "      <td>10/3/2023</td>\n",
       "      <td>2023.0</td>\n",
       "      <td>October</td>\n",
       "      <td>11:16:40</td>\n",
       "      <td>2.0</td>\n",
       "      <td>98.308952</td>\n",
       "      <td>196.617904</td>\n",
       "      <td>Grocery</td>\n",
       "      <td>Pepsi</td>\n",
       "      <td>Soft Drink</td>\n",
       "      <td>Bad</td>\n",
       "      <td>Same-Day</td>\n",
       "      <td>Cash</td>\n",
       "      <td>Delivered</td>\n",
       "      <td>1.0</td>\n",
       "      <td>Lemon-lime soda</td>\n",
       "    </tr>\n",
       "    <tr>\n",
       "      <th>188313</th>\n",
       "      <td>6849125.0</td>\n",
       "      <td>10037.0</td>\n",
       "      <td>Cassandra Villanueva</td>\n",
       "      <td>Meagan47@gmail.com</td>\n",
       "      <td>6.429721e+09</td>\n",
       "      <td>02641 Stewart Underpass</td>\n",
       "      <td>Adelaide</td>\n",
       "      <td>New South Wales</td>\n",
       "      <td>38930.0</td>\n",
       "      <td>Australia</td>\n",
       "      <td>44.0</td>\n",
       "      <td>Female</td>\n",
       "      <td>Low</td>\n",
       "      <td>New</td>\n",
       "      <td>4/8/2023</td>\n",
       "      <td>2023.0</td>\n",
       "      <td>April</td>\n",
       "      <td>1:33:29</td>\n",
       "      <td>3.0</td>\n",
       "      <td>302.369356</td>\n",
       "      <td>907.108068</td>\n",
       "      <td>Electronics</td>\n",
       "      <td>Apple</td>\n",
       "      <td>Tablet</td>\n",
       "      <td>Bad</td>\n",
       "      <td>Express</td>\n",
       "      <td>Debit Card</td>\n",
       "      <td>Delivered</td>\n",
       "      <td>1.0</td>\n",
       "      <td>iPad</td>\n",
       "    </tr>\n",
       "  </tbody>\n",
       "</table>\n",
       "</div>"
      ],
      "text/plain": [
       "        Transaction_ID  Customer_ID                  Name               Email  \\\n",
       "8531         5056596.0      10037.0         Robert Wilson   James32@gmail.com   \n",
       "188313       6849125.0      10037.0  Cassandra Villanueva  Meagan47@gmail.com   \n",
       "\n",
       "               Phone                       Address        City  \\\n",
       "8531    1.226992e+09  33461 Sarah Forges Suite 845  Portsmouth   \n",
       "188313  6.429721e+09       02641 Stewart Underpass    Adelaide   \n",
       "\n",
       "                  State  Zipcode    Country   Age  Gender  Income  \\\n",
       "8531            England  20966.0         UK  19.0    Male  Medium   \n",
       "188313  New South Wales  38930.0  Australia  44.0  Female     Low   \n",
       "\n",
       "       Customer_Segment       Date    Year    Month      Time  \\\n",
       "8531            Regular  10/3/2023  2023.0  October  11:16:40   \n",
       "188313              New   4/8/2023  2023.0    April   1:33:29   \n",
       "\n",
       "        Total_Purchases      Amount  Total_Amount Product_Category  \\\n",
       "8531                2.0   98.308952    196.617904          Grocery   \n",
       "188313              3.0  302.369356    907.108068      Electronics   \n",
       "\n",
       "       Product_Brand Product_Type Feedback Shipping_Method Payment_Method  \\\n",
       "8531           Pepsi   Soft Drink      Bad        Same-Day           Cash   \n",
       "188313         Apple       Tablet      Bad         Express     Debit Card   \n",
       "\n",
       "       Order_Status  Ratings         products  \n",
       "8531      Delivered      1.0  Lemon-lime soda  \n",
       "188313    Delivered      1.0             iPad  "
      ]
     },
     "execution_count": 992,
     "metadata": {},
     "output_type": "execute_result"
    }
   ],
   "source": [
    "pd.set_option('display.max_columns', None)\n",
    "df_filtered2 = df_Retail_unique_copy[df_Retail_unique_copy['Customer_ID'] == 10037]\n",
    "df_filtered2.head(20)"
   ]
  },
  {
   "cell_type": "markdown",
   "metadata": {},
   "source": [
    "- Name es el nombre del cliente, a efectos de corroborar el problema mencionado anteriormente, voy a dejar esta variable, pero la terminare eliminando cuando pase a la etapa de evaluacion estadistica ya que no tiene valor.\n"
   ]
  },
  {
   "cell_type": "markdown",
   "metadata": {},
   "source": [
    "- City es la ciudad donde el cliente vive\n",
    "Corroborar que la ciudad no tenga caracteres raros y que para una misma ciudad este escrito de forma diferente"
   ]
  },
  {
   "cell_type": "code",
   "execution_count": 993,
   "metadata": {},
   "outputs": [
    {
     "data": {
      "text/plain": [
       "array(['Nottingham', 'Geelong', 'Edmonton', 'Bristol', 'Brisbane',\n",
       "       'Kitchener', 'Munich', 'Wollongong', 'Cologne', 'Portsmouth',\n",
       "       'San Jose', 'Hamilton', 'Manchester', 'Cardiff', 'Glasgow', 'Hull',\n",
       "       'Cleveland', 'Southampton', 'Leipzig', 'Cairns', 'London',\n",
       "       'Bielefeld', 'Düsseldorf', 'Philadelphia', 'Halifax', 'Montreal',\n",
       "       'Dortmund', 'Mackay', 'Quebec City', 'Barrie', 'Adelaide', 'Leeds',\n",
       "       'Plymouth', 'Perth', 'Sheffield', 'Frankfurt', 'Toronto',\n",
       "       'Kelowna', 'Birmingham', 'Ottawa', 'Liverpool', \"St. John's\",\n",
       "       'Hobart', 'Atlanta', 'New Orleans', 'Wichita', 'Albury-Wodonga',\n",
       "       'Winnipeg', 'Vancouver', 'Hamburg', 'Windsor', 'Calgary',\n",
       "       'Newcastle upon Tyne', 'Townsville', 'Oshawa', 'Houston',\n",
       "       'Seattle', 'Charlotte', 'New York', 'Milwaukee', 'Edinburgh',\n",
       "       'Launceston', 'Bochum', 'Münster', 'Bonn', 'Columbus', 'Melbourne',\n",
       "       'Leicester', 'Fort Worth', 'Toowoomba', 'Victoria', 'Oxford',\n",
       "       'Saskatoon', 'Memphis', 'Regina', 'Canberra', 'Hanover',\n",
       "       'Long Beach', 'San Francisco', 'Nuremberg', 'Minneapolis',\n",
       "       'Colorado Springs', 'Duisburg', 'Denver', 'Bendigo', 'Boston',\n",
       "       'Tucson', 'Tulsa', 'Portland', 'Kansas City', 'Brighton', 'Essen',\n",
       "       'Berlin', 'Darwin', 'Bremen', 'Belfast', 'Sydney', 'Baltimore',\n",
       "       'Virginia Beach', 'Arlington', 'Louisville', 'Mesa', 'Las Vegas',\n",
       "       'Dallas', 'Washington', 'Gold Coast', 'Miami', 'Newcastle',\n",
       "       'San Antonio', 'Fresno', 'Phoenix', 'Austin', 'Stuttgart',\n",
       "       'Chicago', 'Wuppertal', 'Nashville', 'Jacksonville', 'Ballarat',\n",
       "       'Omaha', 'Oklahoma City', 'San Diego', 'Sacramento', 'Dresden',\n",
       "       'Raleigh', 'Oakland', 'Indianapolis', 'Detroit', 'Los Angeles',\n",
       "       'El Paso', 'Albuquerque'], dtype=object)"
      ]
     },
     "execution_count": 993,
     "metadata": {},
     "output_type": "execute_result"
    }
   ],
   "source": [
    "df_Retail_copy_unique['City'].unique()"
   ]
  },
  {
   "cell_type": "code",
   "execution_count": 994,
   "metadata": {},
   "outputs": [
    {
     "data": {
      "text/plain": [
       "array(['UK', 'Australia', 'Canada', 'Germany', 'USA'], dtype=object)"
      ]
     },
     "execution_count": 994,
     "metadata": {},
     "output_type": "execute_result"
    }
   ],
   "source": [
    "df_Retail_copy_unique['Country'].unique()"
   ]
  },
  {
   "cell_type": "code",
   "execution_count": 995,
   "metadata": {},
   "outputs": [
    {
     "name": "stdout",
     "output_type": "stream",
     "text": [
      "               City    Country\n",
      "1        Nottingham         UK\n",
      "2           Geelong  Australia\n",
      "3          Edmonton     Canada\n",
      "4           Bristol         UK\n",
      "5          Brisbane  Australia\n",
      "...             ...        ...\n",
      "30592  Indianapolis        USA\n",
      "30626       Detroit        USA\n",
      "30635   Los Angeles        USA\n",
      "30684       El Paso        USA\n",
      "30981   Albuquerque        USA\n",
      "\n",
      "[131 rows x 2 columns]\n"
     ]
    }
   ],
   "source": [
    "# Crear un dataframe con combinaciones únicas de ciudad y país\n",
    "unique_cities = df_Retail_copy_unique[['City', 'Country']].drop_duplicates()\n",
    "unique_cities = unique_cities.dropna()\n",
    "print(unique_cities)"
   ]
  },
  {
   "cell_type": "code",
   "execution_count": 996,
   "metadata": {},
   "outputs": [],
   "source": [
    "df_Retail_copy_unique['Country'] =df_Retail_copy_unique['Country'].replace('USA','United States')\n",
    "df_Retail_copy_unique['Country'] =df_Retail_copy_unique['Country'].replace('UK','United Kingdom')"
   ]
  },
  {
   "cell_type": "code",
   "execution_count": 997,
   "metadata": {},
   "outputs": [],
   "source": [
    "df_Retail_validate_country=df_Retail_copy_unique.copy()"
   ]
  },
  {
   "cell_type": "code",
   "execution_count": 998,
   "metadata": {},
   "outputs": [],
   "source": [
    "df_Retail_copy_unique = df_Retail_copy_unique.dropna(subset=['Country'])"
   ]
  },
  {
   "cell_type": "code",
   "execution_count": 999,
   "metadata": {},
   "outputs": [],
   "source": [
    "df_Retail_copy_unique = df_Retail_copy_unique.dropna(subset=['City'])"
   ]
  },
  {
   "cell_type": "code",
   "execution_count": 1000,
   "metadata": {},
   "outputs": [
    {
     "data": {
      "text/plain": [
       "8481000"
      ]
     },
     "execution_count": 1000,
     "metadata": {},
     "output_type": "execute_result"
    }
   ],
   "source": [
    "df_Retail_copy_unique.size"
   ]
  },
  {
   "cell_type": "code",
   "execution_count": 1001,
   "metadata": {},
   "outputs": [],
   "source": [
    "df_Retail_countries=df_Retail_copy_unique.copy()"
   ]
  },
  {
   "cell_type": "code",
   "execution_count": 1002,
   "metadata": {},
   "outputs": [],
   "source": [
    "def validate_country(country_name):\n",
    "    try:\n",
    "        # Validate by country name\n",
    "       \n",
    "        country = pycountry.countries.lookup(country_name)\n",
    "        \n",
    "        if(country_name==country.name):\n",
    "           # print(country.name)\n",
    "           pass\n",
    "        else:\n",
    "            print(\"No encontrado\")\n",
    "        return country.name\n",
    "    except LookupError:\n",
    "        return None\n",
    "\n",
    "df_Retail_validate_country['pais_valido'] = df_Retail_validate_country.apply(lambda row: validate_country(row['Country']), axis=1)"
   ]
  },
  {
   "cell_type": "code",
   "execution_count": 1003,
   "metadata": {},
   "outputs": [
    {
     "name": "stdout",
     "output_type": "stream",
     "text": [
      "Todas los paises son correctos\n"
     ]
    }
   ],
   "source": [
    "# Filtra las filas con resultados incorrectos en la validación\n",
    "df_paises_incorrectos = df_Retail_validate_country[df_Retail_validate_country['pais_valido'] == False]\n",
    "if(df_paises_incorrectos.empty):\n",
    "    print(\"Todas los paises son correctos\")\n",
    "else:\n",
    "    print(df_paises_incorrectos)"
   ]
  },
  {
   "cell_type": "code",
   "execution_count": 1004,
   "metadata": {},
   "outputs": [
    {
     "data": {
      "text/plain": [
       "array(['United Kingdom', 'Australia', 'Canada', 'Germany',\n",
       "       'United States'], dtype=object)"
      ]
     },
     "execution_count": 1004,
     "metadata": {},
     "output_type": "execute_result"
    }
   ],
   "source": [
    "df_Retail_validate_country['pais_valido'].unique()"
   ]
  },
  {
   "cell_type": "markdown",
   "metadata": {},
   "source": [
    "- State es el estado donde el cliente vive"
   ]
  },
  {
   "cell_type": "code",
   "execution_count": 1005,
   "metadata": {},
   "outputs": [
    {
     "data": {
      "text/plain": [
       "array(['England', 'New South Wales', 'Ontario', 'Berlin', 'Virginia',\n",
       "       'Nevada', 'Colorado', 'Arkansas', 'Texas', 'Oklahoma',\n",
       "       'Connecticut', 'Mississippi', 'Wisconsin', 'Oregon', 'Michigan',\n",
       "       'Alaska', 'New Jersey', 'Wyoming', 'Maine', 'Idaho', 'Alabama',\n",
       "       'New Hampshire', 'Minnesota', 'Delaware', 'South Carolina',\n",
       "       'Nebraska', 'New Mexico', 'Arizona', 'Iowa', 'Illinois', 'Ohio',\n",
       "       'Georgia', 'New York', 'Pennsylvania', 'Massachusetts',\n",
       "       'Rhode Island', 'Montana', 'West Virginia', 'Louisiana', 'Indiana',\n",
       "       'Kansas', 'Kentucky', 'Washington', 'South Dakota', 'California',\n",
       "       'Missouri', 'Utah', 'Hawaii', 'North Carolina', 'Maryland',\n",
       "       'Vermont', 'North Dakota', 'Tennessee', 'Florida'], dtype=object)"
      ]
     },
     "execution_count": 1005,
     "metadata": {},
     "output_type": "execute_result"
    }
   ],
   "source": [
    "df_Retail_copy_unique['State'].unique()"
   ]
  },
  {
   "cell_type": "code",
   "execution_count": 1006,
   "metadata": {},
   "outputs": [],
   "source": [
    "df_Retail_copy_unique = df_Retail_copy_unique.dropna(subset=['State'])"
   ]
  },
  {
   "cell_type": "code",
   "execution_count": 1007,
   "metadata": {},
   "outputs": [
    {
     "data": {
      "text/plain": [
       "array(['England', 'New South Wales', 'Ontario', 'Berlin', 'Virginia',\n",
       "       'Nevada', 'Colorado', 'Arkansas', 'Texas', 'Oklahoma',\n",
       "       'Connecticut', 'Mississippi', 'Wisconsin', 'Oregon', 'Michigan',\n",
       "       'Alaska', 'New Jersey', 'Wyoming', 'Maine', 'Idaho', 'Alabama',\n",
       "       'New Hampshire', 'Minnesota', 'Delaware', 'South Carolina',\n",
       "       'Nebraska', 'New Mexico', 'Arizona', 'Iowa', 'Illinois', 'Ohio',\n",
       "       'Georgia', 'New York', 'Pennsylvania', 'Massachusetts',\n",
       "       'Rhode Island', 'Montana', 'West Virginia', 'Louisiana', 'Indiana',\n",
       "       'Kansas', 'Kentucky', 'Washington', 'South Dakota', 'California',\n",
       "       'Missouri', 'Utah', 'Hawaii', 'North Carolina', 'Maryland',\n",
       "       'Vermont', 'North Dakota', 'Tennessee', 'Florida'], dtype=object)"
      ]
     },
     "execution_count": 1007,
     "metadata": {},
     "output_type": "execute_result"
    }
   ],
   "source": [
    "df_Retail_copy_unique['State'].unique()"
   ]
  },
  {
   "cell_type": "markdown",
   "metadata": {},
   "source": [
    "Elimino la columna State porque solo esta completa para USA"
   ]
  },
  {
   "cell_type": "code",
   "execution_count": 1008,
   "metadata": {},
   "outputs": [
    {
     "data": {
      "text/plain": [
       "array(['Nottingham', 'Geelong', 'Edmonton', 'Bristol', 'Brisbane',\n",
       "       'Kitchener', 'Munich', 'Wollongong', 'Cologne', 'Portsmouth',\n",
       "       'San Jose', 'Hamilton', 'Manchester', 'Cardiff', 'Glasgow', 'Hull',\n",
       "       'Cleveland', 'Southampton', 'Leipzig', 'Cairns', 'London',\n",
       "       'Bielefeld', 'Düsseldorf', 'Philadelphia', 'Halifax', 'Montreal',\n",
       "       'Dortmund', 'Mackay', 'Quebec City', 'Barrie', 'Adelaide', 'Leeds',\n",
       "       'Plymouth', 'Perth', 'Sheffield', 'Frankfurt', 'Toronto',\n",
       "       'Kelowna', 'Birmingham', 'Ottawa', 'Liverpool', \"St. John's\",\n",
       "       'Hobart', 'Atlanta', 'New Orleans', 'Wichita', 'Albury-Wodonga',\n",
       "       'Winnipeg', 'Vancouver', 'Hamburg', 'Windsor', 'Calgary',\n",
       "       'Newcastle upon Tyne', 'Townsville', 'Oshawa', 'Houston',\n",
       "       'Seattle', 'Charlotte', 'New York', 'Milwaukee', 'Edinburgh',\n",
       "       'Launceston', 'Bochum', 'Münster', 'Bonn', 'Columbus', 'Melbourne',\n",
       "       'Leicester', 'Fort Worth', 'Toowoomba', 'Victoria', 'Oxford',\n",
       "       'Saskatoon', 'Memphis', 'Regina', 'Canberra', 'Hanover',\n",
       "       'Long Beach', 'San Francisco', 'Nuremberg', 'Minneapolis',\n",
       "       'Colorado Springs', 'Duisburg', 'Denver', 'Bendigo', 'Boston',\n",
       "       'Tucson', 'Tulsa', 'Portland', 'Kansas City', 'Brighton', 'Essen',\n",
       "       'Berlin', 'Darwin', 'Bremen', 'Belfast', 'Sydney', 'Baltimore',\n",
       "       'Virginia Beach', 'Arlington', 'Louisville', 'Mesa', 'Las Vegas',\n",
       "       'Dallas', 'Washington', 'Gold Coast', 'Miami', 'Newcastle',\n",
       "       'San Antonio', 'Fresno', 'Phoenix', 'Austin', 'Stuttgart',\n",
       "       'Chicago', 'Wuppertal', 'Nashville', 'Jacksonville', 'Ballarat',\n",
       "       'Omaha', 'Oklahoma City', 'San Diego', 'Sacramento', 'Dresden',\n",
       "       'Raleigh', 'Oakland', 'Indianapolis', 'Detroit', 'Los Angeles',\n",
       "       'El Paso', 'Albuquerque'], dtype=object)"
      ]
     },
     "execution_count": 1008,
     "metadata": {},
     "output_type": "execute_result"
    }
   ],
   "source": [
    "df_Retail_copy_unique['City'].unique()"
   ]
  },
  {
   "cell_type": "code",
   "execution_count": 1009,
   "metadata": {},
   "outputs": [],
   "source": [
    "df_Retail_copy_unique = df_Retail_copy_unique.dropna(subset=['City'])"
   ]
  },
  {
   "cell_type": "code",
   "execution_count": 1010,
   "metadata": {},
   "outputs": [
    {
     "data": {
      "text/plain": [
       "array(['Nottingham', 'Geelong', 'Edmonton', 'Bristol', 'Brisbane',\n",
       "       'Kitchener', 'Munich', 'Wollongong', 'Cologne', 'Portsmouth',\n",
       "       'San Jose', 'Hamilton', 'Manchester', 'Cardiff', 'Glasgow', 'Hull',\n",
       "       'Cleveland', 'Southampton', 'Leipzig', 'Cairns', 'London',\n",
       "       'Bielefeld', 'Düsseldorf', 'Philadelphia', 'Halifax', 'Montreal',\n",
       "       'Dortmund', 'Mackay', 'Quebec City', 'Barrie', 'Adelaide', 'Leeds',\n",
       "       'Plymouth', 'Perth', 'Sheffield', 'Frankfurt', 'Toronto',\n",
       "       'Kelowna', 'Birmingham', 'Ottawa', 'Liverpool', \"St. John's\",\n",
       "       'Hobart', 'Atlanta', 'New Orleans', 'Wichita', 'Albury-Wodonga',\n",
       "       'Winnipeg', 'Vancouver', 'Hamburg', 'Windsor', 'Calgary',\n",
       "       'Newcastle upon Tyne', 'Townsville', 'Oshawa', 'Houston',\n",
       "       'Seattle', 'Charlotte', 'New York', 'Milwaukee', 'Edinburgh',\n",
       "       'Launceston', 'Bochum', 'Münster', 'Bonn', 'Columbus', 'Melbourne',\n",
       "       'Leicester', 'Fort Worth', 'Toowoomba', 'Victoria', 'Oxford',\n",
       "       'Saskatoon', 'Memphis', 'Regina', 'Canberra', 'Hanover',\n",
       "       'Long Beach', 'San Francisco', 'Nuremberg', 'Minneapolis',\n",
       "       'Colorado Springs', 'Duisburg', 'Denver', 'Bendigo', 'Boston',\n",
       "       'Tucson', 'Tulsa', 'Portland', 'Kansas City', 'Brighton', 'Essen',\n",
       "       'Berlin', 'Darwin', 'Bremen', 'Belfast', 'Sydney', 'Baltimore',\n",
       "       'Virginia Beach', 'Arlington', 'Louisville', 'Mesa', 'Las Vegas',\n",
       "       'Dallas', 'Washington', 'Gold Coast', 'Miami', 'Newcastle',\n",
       "       'San Antonio', 'Fresno', 'Phoenix', 'Austin', 'Stuttgart',\n",
       "       'Chicago', 'Wuppertal', 'Nashville', 'Jacksonville', 'Ballarat',\n",
       "       'Omaha', 'Oklahoma City', 'San Diego', 'Sacramento', 'Dresden',\n",
       "       'Raleigh', 'Oakland', 'Indianapolis', 'Detroit', 'Los Angeles',\n",
       "       'El Paso', 'Albuquerque'], dtype=object)"
      ]
     },
     "execution_count": 1010,
     "metadata": {},
     "output_type": "execute_result"
    }
   ],
   "source": [
    "df_Retail_copy_unique['City'].unique()"
   ]
  },
  {
   "cell_type": "code",
   "execution_count": 1011,
   "metadata": {},
   "outputs": [],
   "source": [
    "df_Retail_validate_city_country=df_Retail_copy_unique.copy()"
   ]
  },
  {
   "cell_type": "code",
   "execution_count": 1012,
   "metadata": {},
   "outputs": [],
   "source": [
    "#df_Retail_countries = df_Retail_countries.drop(columns=['State'])"
   ]
  },
  {
   "cell_type": "code",
   "execution_count": 1013,
   "metadata": {},
   "outputs": [],
   "source": [
    "geolocator = Photon(user_agent=\"geoapiExercises\")\n",
    "\n",
    "def validate_city_country(city, country, ):\n",
    "    try:\n",
    "        # Ensure proper formatting of the query\n",
    "        query = f\"{city}, {country}\"\n",
    "        location = geolocator.geocode(query, timeout=10)\n",
    "        if location and location.address:\n",
    "            return location.address\n",
    "        else:\n",
    "            return None\n",
    "    except GeocoderTimedOut:\n",
    "        time.sleep(1)  # Wait a bit before retrying\n",
    "        return validate_city_country(city, country)"
   ]
  },
  {
   "cell_type": "code",
   "execution_count": 1014,
   "metadata": {},
   "outputs": [
    {
     "name": "stdout",
     "output_type": "stream",
     "text": [
      "Montevideo, Montevideo, Uruguay\n"
     ]
    }
   ],
   "source": [
    "print(validate_city_country('Montevideo','Uruguay'))"
   ]
  },
  {
   "cell_type": "code",
   "execution_count": 1015,
   "metadata": {},
   "outputs": [],
   "source": [
    "# Extract unique city-country pairs\n",
    "#unique_city_country_pairs = df_Retail_validate_city_country[['City', 'Country']].drop_duplicates()\n",
    "#unique_city_country_pairs = unique_city_country_pairs.drop_duplicates()\n",
    "# Apply the validation function to the unique city-country pairs\n",
    "#unique_city_country_pairs['Validation'] = unique_city_country_pairs.apply(\n",
    "#    lambda row: validate_city_country(row['City'], row['Country']), axis=1\n",
    "#)"
   ]
  },
  {
   "cell_type": "code",
   "execution_count": 1016,
   "metadata": {},
   "outputs": [],
   "source": [
    "#print(f\"Original dataframe shape: {df_Retail_validate_city_country.shape}\")\n",
    "#print(f\"Unique city-country pairs shape: {unique_city_country_pairs.shape}\")\n",
    "\n",
    "#df_Retail_validate_city_country = df_Retail_validate_city_country.merge(unique_city_country_pairs, on=['City', 'Country'], how='left', suffixes=('', '_Validation'))\n",
    "\n",
    "#print(f\"Dataframe shape after merge: {df_Retail_validate_city_country.shape}\")"
   ]
  },
  {
   "cell_type": "code",
   "execution_count": 1017,
   "metadata": {},
   "outputs": [],
   "source": [
    "# Filtra las filas con resultados incorrectos en la validación\n",
    "#df_incorrectas = df_Retail_validate_city_country[df_Retail_validate_city_country['Validation'].isna()]\n",
    "#if(df_incorrectas.empty):\n",
    "#    print(\"Todas las ciudades son correctas\")\n",
    "#else:\n",
    "#    print(df_incorrectas)"
   ]
  },
  {
   "cell_type": "code",
   "execution_count": 1018,
   "metadata": {},
   "outputs": [],
   "source": [
    "#for country in pycountry.countries:\n",
    "#    print(country.name)"
   ]
  },
  {
   "cell_type": "markdown",
   "metadata": {},
   "source": [
    "- Zip code es el codigo de la direccion del cliente"
   ]
  },
  {
   "cell_type": "code",
   "execution_count": 1019,
   "metadata": {},
   "outputs": [
    {
     "name": "stdout",
     "output_type": "stream",
     "text": [
      "0\n"
     ]
    }
   ],
   "source": [
    "nan_count = df_Retail_copy_unique['Zipcode'].isna().sum()\n",
    "print(nan_count)"
   ]
  },
  {
   "cell_type": "code",
   "execution_count": 1020,
   "metadata": {},
   "outputs": [],
   "source": [
    "df_Retail_copy_unique = df_Retail_copy_unique.dropna(subset=['Zipcode'])"
   ]
  },
  {
   "cell_type": "code",
   "execution_count": 1021,
   "metadata": {},
   "outputs": [
    {
     "name": "stdout",
     "output_type": "stream",
     "text": [
      "0\n"
     ]
    }
   ],
   "source": [
    "nan_count_afterDrop = df_Retail_copy_unique['Zipcode'].isna().sum()\n",
    "print(nan_count_afterDrop)"
   ]
  },
  {
   "cell_type": "code",
   "execution_count": 1022,
   "metadata": {},
   "outputs": [],
   "source": [
    "df_Retail_countries_city_address=df_Retail_copy_unique.copy()"
   ]
  },
  {
   "cell_type": "code",
   "execution_count": 1023,
   "metadata": {},
   "outputs": [
    {
     "name": "stdout",
     "output_type": "stream",
     "text": [
      "Combinaciones con códigos postales distintos:\n"
     ]
    },
    {
     "data": {
      "text/html": [
       "<div>\n",
       "<style scoped>\n",
       "    .dataframe tbody tr th:only-of-type {\n",
       "        vertical-align: middle;\n",
       "    }\n",
       "\n",
       "    .dataframe tbody tr th {\n",
       "        vertical-align: top;\n",
       "    }\n",
       "\n",
       "    .dataframe thead th {\n",
       "        text-align: right;\n",
       "    }\n",
       "</style>\n",
       "<table border=\"1\" class=\"dataframe\">\n",
       "  <thead>\n",
       "    <tr style=\"text-align: right;\">\n",
       "      <th></th>\n",
       "      <th></th>\n",
       "      <th></th>\n",
       "      <th>Transaction_ID</th>\n",
       "      <th>Customer_ID</th>\n",
       "      <th>Name</th>\n",
       "      <th>Email</th>\n",
       "      <th>Phone</th>\n",
       "      <th>State</th>\n",
       "      <th>Zipcode</th>\n",
       "      <th>Age</th>\n",
       "      <th>Gender</th>\n",
       "      <th>Income</th>\n",
       "      <th>Customer_Segment</th>\n",
       "      <th>Date</th>\n",
       "      <th>Year</th>\n",
       "      <th>Month</th>\n",
       "      <th>Time</th>\n",
       "      <th>Total_Purchases</th>\n",
       "      <th>Amount</th>\n",
       "      <th>Total_Amount</th>\n",
       "      <th>Product_Category</th>\n",
       "      <th>Product_Brand</th>\n",
       "      <th>Product_Type</th>\n",
       "      <th>Feedback</th>\n",
       "      <th>Shipping_Method</th>\n",
       "      <th>Payment_Method</th>\n",
       "      <th>Order_Status</th>\n",
       "      <th>Ratings</th>\n",
       "      <th>products</th>\n",
       "    </tr>\n",
       "    <tr>\n",
       "      <th>Country</th>\n",
       "      <th>City</th>\n",
       "      <th>Address</th>\n",
       "      <th></th>\n",
       "      <th></th>\n",
       "      <th></th>\n",
       "      <th></th>\n",
       "      <th></th>\n",
       "      <th></th>\n",
       "      <th></th>\n",
       "      <th></th>\n",
       "      <th></th>\n",
       "      <th></th>\n",
       "      <th></th>\n",
       "      <th></th>\n",
       "      <th></th>\n",
       "      <th></th>\n",
       "      <th></th>\n",
       "      <th></th>\n",
       "      <th></th>\n",
       "      <th></th>\n",
       "      <th></th>\n",
       "      <th></th>\n",
       "      <th></th>\n",
       "      <th></th>\n",
       "      <th></th>\n",
       "      <th></th>\n",
       "      <th></th>\n",
       "      <th></th>\n",
       "      <th></th>\n",
       "    </tr>\n",
       "  </thead>\n",
       "  <tbody>\n",
       "  </tbody>\n",
       "</table>\n",
       "</div>"
      ],
      "text/plain": [
       "Empty DataFrame\n",
       "Columns: [Transaction_ID, Customer_ID, Name, Email, Phone, State, Zipcode, Age, Gender, Income, Customer_Segment, Date, Year, Month, Time, Total_Purchases, Amount, Total_Amount, Product_Category, Product_Brand, Product_Type, Feedback, Shipping_Method, Payment_Method, Order_Status, Ratings, products]\n",
       "Index: []"
      ]
     },
     "execution_count": 1023,
     "metadata": {},
     "output_type": "execute_result"
    }
   ],
   "source": [
    "#Agrupo y cuento valores unicos, es decir todos aquellos que tienen para un mismo pais, ciudad y direccion un zipcode distinto\n",
    "grouped = df_Retail_countries_city_address.groupby(['Country', 'City', 'Address'])['Zipcode'].nunique()\n",
    "\n",
    "#Filtrar los grupos con más de un código postal\n",
    "multiple_zipcodes = grouped[grouped > 1].index\n",
    "\n",
    "#Extraer las filas que corresponden a estos grupos para poder actualizar la informacion\n",
    "df_multiple_zipcodes = df_Retail_countries_city_address.set_index(['Country', 'City', 'Address']).loc[multiple_zipcodes]\n",
    "\n",
    "print(\"Combinaciones con códigos postales distintos:\")\n",
    "df_multiple_zipcodes.head()"
   ]
  },
  {
   "cell_type": "code",
   "execution_count": 1024,
   "metadata": {},
   "outputs": [],
   "source": [
    "df_Retail_countries_zipcode=df_Retail_copy_unique.copy()"
   ]
  },
  {
   "cell_type": "code",
   "execution_count": 1025,
   "metadata": {},
   "outputs": [],
   "source": [
    "df_Retail_countries_zipcode = df_Retail_countries_zipcode.dropna(subset=['Zipcode'])\n",
    "df_Retail_countries_zipcode['Zipcode'] = df_Retail_countries_zipcode['Zipcode'].round(0)\n",
    "df_Retail_countries_zipcode['Zipcode'] = df_Retail_countries_zipcode['Zipcode'].astype(int)\n"
   ]
  },
  {
   "cell_type": "markdown",
   "metadata": {},
   "source": [
    "Se chequea que no hayan distintos Zipcodes para una misma direccion en una misma ciudad, estado y pais.\n",
    "Se podria verificar con una api que el Zipcode exista."
   ]
  },
  {
   "cell_type": "markdown",
   "metadata": {},
   "source": [
    "##Limpieza de datos"
   ]
  },
  {
   "cell_type": "code",
   "execution_count": 1026,
   "metadata": {},
   "outputs": [
    {
     "data": {
      "text/plain": [
       "np.float64(0.0)"
      ]
     },
     "execution_count": 1026,
     "metadata": {},
     "output_type": "execute_result"
    }
   ],
   "source": [
    "df_Retail_copy_unique.isna().sum().sum() # number of missing cells\n",
    "round(df_Retail_copy_unique.isna().sum().sum() / df_Retail_copy_unique.size * 100, 1) # percentage of missing cells"
   ]
  },
  {
   "cell_type": "markdown",
   "metadata": {},
   "source": [
    "EL 10% tiene datos faltantes"
   ]
  },
  {
   "cell_type": "code",
   "execution_count": 1027,
   "metadata": {},
   "outputs": [
    {
     "data": {
      "text/plain": [
       "Transaction_ID        0\n",
       "Customer_ID           0\n",
       "Name                361\n",
       "Email               325\n",
       "Phone               342\n",
       "Address               0\n",
       "City                  0\n",
       "State                 0\n",
       "Zipcode               0\n",
       "Country               0\n",
       "Age                   0\n",
       "Gender                0\n",
       "Income                0\n",
       "Customer_Segment      0\n",
       "Date                  0\n",
       "Year                340\n",
       "Month                 0\n",
       "Time                  0\n",
       "Total_Purchases     335\n",
       "Amount              334\n",
       "Total_Amount          0\n",
       "Product_Category    267\n",
       "Product_Brand       260\n",
       "Product_Type          0\n",
       "Feedback              0\n",
       "Shipping_Method       0\n",
       "Payment_Method        0\n",
       "Order_Status          0\n",
       "Ratings               0\n",
       "products              0\n",
       "dtype: int64"
      ]
     },
     "execution_count": 1027,
     "metadata": {},
     "output_type": "execute_result"
    }
   ],
   "source": [
    "df_Retail_copy_unique.isna().sum()"
   ]
  },
  {
   "cell_type": "markdown",
   "metadata": {},
   "source": [
    "Por mayor comodidad, transformo todas las variables a category menos las numericas"
   ]
  },
  {
   "cell_type": "code",
   "execution_count": 1028,
   "metadata": {},
   "outputs": [],
   "source": [
    "columns_not_to_convert = ['Age', 'Zipcode','Total_Purchases', 'Amount', 'Total_Amount', 'Ratings', 'Customer_ID', 'Transaction_ID']\n",
    "all_columns = set(df_Retail_copy_unique.columns)\n",
    "\n",
    "columns_not_to_convert_set = set(columns_not_to_convert)\n",
    "columns_to_skip = list(all_columns - columns_not_to_convert_set)\n",
    "\n",
    "# Convertir las columnas restantes a tipo 'category'\n",
    "for col in columns_to_skip:\n",
    "    df_Retail_copy_unique[col] = df_Retail_copy_unique[col].astype('category')"
   ]
  },
  {
   "cell_type": "code",
   "execution_count": 1029,
   "metadata": {},
   "outputs": [
    {
     "data": {
      "text/plain": [
       "array([19., 48., 56., 22., 58., 29., 46., 25., 64., 31., 53., 32., 43.,\n",
       "       69., 49., 61., 21., 41., 38., 59., 20., 67., 50., 26., 24., 54.,\n",
       "       28., 34., 65., 40., 36., 57., 27., 35., 68., 70., 37., 30., 39.,\n",
       "       47., 60., 33., 62., 42., 18., 44., 66., 51., 63., 55., 23., 52.,\n",
       "       45.])"
      ]
     },
     "execution_count": 1029,
     "metadata": {},
     "output_type": "execute_result"
    }
   ],
   "source": [
    "df_Retail_copy_unique['Age'].unique()"
   ]
  },
  {
   "cell_type": "markdown",
   "metadata": {},
   "source": [
    "La edad esta en float, la transformo a entero"
   ]
  },
  {
   "cell_type": "code",
   "execution_count": 1030,
   "metadata": {},
   "outputs": [],
   "source": [
    "df_Retail_copy_unique = df_Retail_copy_unique.dropna(subset=['Age'])\n",
    "df_Retail_copy_unique = df_Retail_copy_unique.dropna(subset=['Year'])"
   ]
  },
  {
   "cell_type": "code",
   "execution_count": 1031,
   "metadata": {},
   "outputs": [],
   "source": [
    "df_Retail_copy_unique['Age'] = df_Retail_copy_unique['Age'].astype('int')\n",
    "df_Retail_copy_unique['Year'] = df_Retail_copy_unique['Year'].astype('int')"
   ]
  },
  {
   "cell_type": "markdown",
   "metadata": {},
   "source": [
    "Quiero borrar todos los valores nulos o nan pero quiero estudiar primero si me conviene borrar las filas o una columna entera, porque si los datos faltantes es tan en su mayoria en una columna puede ser mejor deshacerme de esa columna en lugar de borrar registros.\n",
    "A continuacion estudio cual es la variable que tiene la mayor cantidad de nulos o valores nan"
   ]
  },
  {
   "cell_type": "code",
   "execution_count": 1032,
   "metadata": {},
   "outputs": [
    {
     "name": "stdout",
     "output_type": "stream",
     "text": [
      "La columna con la mayor cantidad de NaN es: Name\n",
      "Número de NaN en esta columna: 361\n"
     ]
    }
   ],
   "source": [
    "# Calcular el número de valores NaN por columna\n",
    "nan_counts = df_Retail_copy_unique.isna().sum()\n",
    "\n",
    "# Encontrar la columna con el mayor número de NaN\n",
    "column_with_most_nan = nan_counts.idxmax()\n",
    "max_nan_count = nan_counts.max()\n",
    "\n",
    "# Mostrar resultados\n",
    "print(\"La columna con la mayor cantidad de NaN es:\", column_with_most_nan)\n",
    "print(\"Número de NaN en esta columna:\", max_nan_count)"
   ]
  },
  {
   "cell_type": "markdown",
   "metadata": {},
   "source": [
    "Siendo que Name es la columna con la mayor cantidad de nulos y que esta no tiene valor estadistico para mi estudio, la elimino"
   ]
  },
  {
   "cell_type": "code",
   "execution_count": 1033,
   "metadata": {},
   "outputs": [],
   "source": [
    "df_Retail_copy_unique = df_Retail_copy_unique.drop(columns=['Name'])"
   ]
  },
  {
   "cell_type": "markdown",
   "metadata": {},
   "source": [
    "Email --> Mail del cliente"
   ]
  },
  {
   "cell_type": "code",
   "execution_count": 1034,
   "metadata": {},
   "outputs": [],
   "source": [
    "df_Retail_copy_unique = df_Retail_copy_unique.drop(columns=['Email'])"
   ]
  },
  {
   "cell_type": "markdown",
   "metadata": {},
   "source": [
    "Phone --> Phone del cliente"
   ]
  },
  {
   "cell_type": "code",
   "execution_count": 1035,
   "metadata": {},
   "outputs": [],
   "source": [
    "df_Retail_copy_unique = df_Retail_copy_unique.drop(columns=['Phone'])"
   ]
  },
  {
   "cell_type": "code",
   "execution_count": 1036,
   "metadata": {},
   "outputs": [],
   "source": [
    "df_Retail_copy_unique['Total_Amount'] = df_Retail_copy_unique['Total_Amount'].round(2)\n",
    "df_Retail_copy_unique['Amount'] = df_Retail_copy_unique['Amount'].round(2)\n",
    "df_Retail_copy_unique['Total_Purchases'] = df_Retail_copy_unique['Total_Purchases'].round(2)"
   ]
  },
  {
   "cell_type": "code",
   "execution_count": 1037,
   "metadata": {},
   "outputs": [
    {
     "name": "stdout",
     "output_type": "stream",
     "text": [
      "Número total de filas antes de eliminar NaN: 282360\n",
      "Número total de filas después de eliminar NaN: 281164\n",
      "Número de filas eliminadas: 1196\n"
     ]
    }
   ],
   "source": [
    "# Quiero eliminar las filas que contengan NAN, pero no quiero quedarme con pocos datos por lo que cuento primero cuantas filas se borrarian\n",
    "\n",
    "total_rows_before = df_Retail_copy_unique.shape[0]\n",
    "\n",
    "# Eliminar todas las filas que contienen al menos un NaN en alguna columna\n",
    "df_Retail_copy_unique = df_Retail_copy_unique.dropna()\n",
    "\n",
    "# Contar las filas después de eliminar NaN\n",
    "total_rows_after = df_Retail_copy_unique.shape[0]\n",
    "\n",
    "# Calcular cuántas filas se eliminaron\n",
    "rows_deleted = total_rows_before - total_rows_after\n",
    "\n",
    "# Mostrar resultados\n",
    "print(\"Número total de filas antes de eliminar NaN:\", total_rows_before)\n",
    "print(\"Número total de filas después de eliminar NaN:\", total_rows_after)\n",
    "print(\"Número de filas eliminadas:\", rows_deleted)"
   ]
  },
  {
   "cell_type": "markdown",
   "metadata": {},
   "source": [
    "Age"
   ]
  },
  {
   "cell_type": "code",
   "execution_count": 1038,
   "metadata": {},
   "outputs": [],
   "source": [
    "df_Retail_verificarAge=df_Retail_copy_unique.copy()"
   ]
  },
  {
   "cell_type": "code",
   "execution_count": 1039,
   "metadata": {},
   "outputs": [
    {
     "name": "stdout",
     "output_type": "stream",
     "text": [
      "No hay clientes cuya edad sea menor a 18.\n"
     ]
    }
   ],
   "source": [
    "# Verificar si hay clientes con edad menor a 18\n",
    "underage_clients = (df_Retail_verificarAge['Age'] < 18).any()\n",
    "\n",
    "# Mostrar resultado\n",
    "if underage_clients:\n",
    "    print(\"Hay clientes cuya edad es menor a 18.\")\n",
    "else:\n",
    "    print(\"No hay clientes cuya edad sea menor a 18.\")"
   ]
  },
  {
   "cell_type": "markdown",
   "metadata": {},
   "source": [
    "Gender"
   ]
  },
  {
   "cell_type": "code",
   "execution_count": 1040,
   "metadata": {},
   "outputs": [],
   "source": [
    "df_Retail_verificarGender=df_Retail_copy_unique.copy()"
   ]
  },
  {
   "cell_type": "code",
   "execution_count": 1041,
   "metadata": {},
   "outputs": [
    {
     "data": {
      "text/plain": [
       "['Female', 'Male']\n",
       "Categories (2, object): ['Female', 'Male']"
      ]
     },
     "execution_count": 1041,
     "metadata": {},
     "output_type": "execute_result"
    }
   ],
   "source": [
    "df_Retail_verificarGender['Gender'].unique()"
   ]
  },
  {
   "cell_type": "markdown",
   "metadata": {},
   "source": [
    "\tIncome"
   ]
  },
  {
   "cell_type": "code",
   "execution_count": 1042,
   "metadata": {},
   "outputs": [],
   "source": [
    "df_Retail_verificarIncome=df_Retail_copy_unique.copy()"
   ]
  },
  {
   "cell_type": "code",
   "execution_count": 1043,
   "metadata": {},
   "outputs": [
    {
     "data": {
      "text/plain": [
       "['Low', 'High', 'Medium']\n",
       "Categories (3, object): ['High', 'Low', 'Medium']"
      ]
     },
     "execution_count": 1043,
     "metadata": {},
     "output_type": "execute_result"
    }
   ],
   "source": [
    "df_Retail_verificarIncome['Income'].unique()"
   ]
  },
  {
   "cell_type": "markdown",
   "metadata": {},
   "source": [
    "\tCustomer_Segment"
   ]
  },
  {
   "cell_type": "code",
   "execution_count": 1044,
   "metadata": {},
   "outputs": [],
   "source": [
    "df_Retail_verificarCustomer_Segment=df_Retail_copy_unique.copy()"
   ]
  },
  {
   "cell_type": "code",
   "execution_count": 1045,
   "metadata": {},
   "outputs": [
    {
     "data": {
      "text/plain": [
       "['Premium', 'Regular', 'New']\n",
       "Categories (3, object): ['New', 'Premium', 'Regular']"
      ]
     },
     "execution_count": 1045,
     "metadata": {},
     "output_type": "execute_result"
    }
   ],
   "source": [
    "df_Retail_verificarCustomer_Segment['Customer_Segment'].unique()"
   ]
  },
  {
   "cell_type": "markdown",
   "metadata": {},
   "source": [
    "\tDate\n",
    "    Figura como mm/dd/yyyy"
   ]
  },
  {
   "cell_type": "code",
   "execution_count": 1046,
   "metadata": {},
   "outputs": [],
   "source": [
    "df_Retail_verificarDate=df_Retail_copy_unique.copy()"
   ]
  },
  {
   "cell_type": "code",
   "execution_count": 1047,
   "metadata": {},
   "outputs": [
    {
     "name": "stdout",
     "output_type": "stream",
     "text": [
      "Number of rows: 281164\n"
     ]
    }
   ],
   "source": [
    "num_rows_df_Retail_copy_unique = df_Retail_copy_unique.shape[0]\n",
    "print(f\"Number of rows: {num_rows_df_Retail_copy_unique}\")"
   ]
  },
  {
   "cell_type": "code",
   "execution_count": 1048,
   "metadata": {},
   "outputs": [
    {
     "data": {
      "text/plain": [
       "['12/31/2023', '4/26/2023', '5/8/2023', '1/10/2024', '9/21/2023', ..., '8/21/2023', '3/31/2023', '1/24/2024', '6/7/2023', '2/1/2024']\n",
       "Length: 366\n",
       "Categories (366, object): ['1/1/2024', '1/10/2024', '1/11/2024', '1/12/2024', ..., '9/6/2023', '9/7/2023', '9/8/2023', '9/9/2023']"
      ]
     },
     "execution_count": 1048,
     "metadata": {},
     "output_type": "execute_result"
    }
   ],
   "source": [
    "df_Retail_verificarDate['Date'].unique()"
   ]
  },
  {
   "cell_type": "code",
   "execution_count": 1049,
   "metadata": {},
   "outputs": [
    {
     "name": "stdout",
     "output_type": "stream",
     "text": [
      "Number of rows: 281164\n"
     ]
    }
   ],
   "source": [
    "#Verfico que solo hay datos para el 2023 y 2024\n",
    "df_Retail_verificarDate['Date'] = pd.to_datetime(df_Retail_verificarDate['Date'], errors='coerce')\n",
    "df_Retail_verificarDate['Extracted_Year'] = df_Retail_verificarDate['Date'].dt.year\n",
    "df_Retail_verificarDate['Year_Match'] = df_Retail_verificarDate['Extracted_Year'] == df_Retail_verificarDate['Year']\n",
    "\n",
    "num_rows = df_Retail_verificarDate.shape[0]\n",
    "print(f\"Number of rows: {num_rows}\")"
   ]
  },
  {
   "cell_type": "code",
   "execution_count": 1050,
   "metadata": {},
   "outputs": [
    {
     "data": {
      "text/plain": [
       "np.int64(0)"
      ]
     },
     "execution_count": 1050,
     "metadata": {},
     "output_type": "execute_result"
    }
   ],
   "source": [
    "df_Retail_verificarDate['Date'].isna().sum()"
   ]
  },
  {
   "cell_type": "markdown",
   "metadata": {},
   "source": [
    "Year"
   ]
  },
  {
   "cell_type": "code",
   "execution_count": 1051,
   "metadata": {},
   "outputs": [],
   "source": [
    "df_Retail_verificarYear=df_Retail_copy_unique.copy()"
   ]
  },
  {
   "cell_type": "code",
   "execution_count": 1052,
   "metadata": {},
   "outputs": [
    {
     "name": "stdout",
     "output_type": "stream",
     "text": [
      "Number of rows for 2023: 234835\n",
      "Number of rows for 2024: 46329\n"
     ]
    }
   ],
   "source": [
    "df_2023 = df_Retail_verificarYear[df_Retail_verificarYear['Year'] == 2023]\n",
    "df_2024 = df_Retail_verificarYear[df_Retail_verificarYear['Year'] == 2024]\n",
    "\n",
    "# Contar el número de columnas para cada año\n",
    "num_rows_2023 = df_2023.shape[0]\n",
    "num_rows_2024 = df_2024.shape[0]\n",
    "\n",
    "print(f\"Number of rows for 2023: {num_rows_2023}\")\n",
    "print(f\"Number of rows for 2024: {num_rows_2024}\")"
   ]
  },
  {
   "cell_type": "markdown",
   "metadata": {},
   "source": [
    "Hay pocos datos para el 2024, realizar comparaciones entre year no es logico por lo que elimino la columna"
   ]
  },
  {
   "cell_type": "code",
   "execution_count": 1053,
   "metadata": {},
   "outputs": [],
   "source": [
    "df_Retail_copy_unique = df_Retail_copy_unique.drop(columns=['Year'])"
   ]
  },
  {
   "cell_type": "markdown",
   "metadata": {},
   "source": [
    "\tMonth"
   ]
  },
  {
   "cell_type": "code",
   "execution_count": 1054,
   "metadata": {},
   "outputs": [],
   "source": [
    "df_Retail_verificarMonth=df_Retail_copy_unique.copy()"
   ]
  },
  {
   "cell_type": "code",
   "execution_count": 1055,
   "metadata": {},
   "outputs": [
    {
     "name": "stdout",
     "output_type": "stream",
     "text": [
      "Index(['April', 'August', 'December', 'February', 'January', 'July', 'June',\n",
      "       'March', 'May', 'November', 'October', 'September'],\n",
      "      dtype='object')\n"
     ]
    }
   ],
   "source": [
    "unique_months = df_Retail_verificarMonth['Month'].cat.categories\n",
    "print(unique_months)"
   ]
  },
  {
   "cell_type": "code",
   "execution_count": 1056,
   "metadata": {},
   "outputs": [
    {
     "name": "stdout",
     "output_type": "stream",
     "text": [
      "El mes: April es correcto\n",
      "El mes: August es correcto\n",
      "El mes: December es correcto\n",
      "El mes: February es correcto\n",
      "El mes: January es correcto\n",
      "El mes: July es correcto\n",
      "El mes: June es correcto\n",
      "El mes: March es correcto\n",
      "El mes: May es correcto\n",
      "El mes: November es correcto\n",
      "El mes: October es correcto\n",
      "El mes: September es correcto\n"
     ]
    }
   ],
   "source": [
    "def verificarMeses(months):\n",
    "    correct_months = ['April', 'August', 'December', 'February', 'January', 'July', 'June',\n",
    "                      'March', 'May', 'November', 'October', 'September']\n",
    "\n",
    "    # Iniciar el resultado con un mensaje predeterminado\n",
    "    resultado = f\"El mes: {months} es correcto\" \n",
    "\n",
    "    # Verificar cada mes en unique_months\n",
    "    for mes in unique_months:\n",
    "        if mes not in correct_months:\n",
    "            resultado = f\"Mes incorrecto encontrado: {mes}\"\n",
    "            break  # Salir del bucle si se encuentra un mes incorrecto\n",
    "\n",
    "    return resultado\n",
    "\n",
    "for mesUnico in unique_months:\n",
    "  print(verificarMeses(mesUnico))"
   ]
  },
  {
   "cell_type": "markdown",
   "metadata": {},
   "source": [
    "Time ---> Tiempo en el que se hizo la compra. El formato es hh:mm:ss"
   ]
  },
  {
   "cell_type": "code",
   "execution_count": 1057,
   "metadata": {},
   "outputs": [],
   "source": [
    "df_Retail_verificarTime=df_Retail_copy_unique.copy()"
   ]
  },
  {
   "cell_type": "code",
   "execution_count": 1058,
   "metadata": {},
   "outputs": [
    {
     "data": {
      "text/plain": [
       "1    8:42:04\n",
       "2    4:06:29\n",
       "Name: Time, dtype: category\n",
       "Categories (83105, object): ['0:00:00', '0:00:01', '0:00:02', '0:00:03', ..., '9:59:56', '9:59:57', '9:59:58', '9:59:59']"
      ]
     },
     "execution_count": 1058,
     "metadata": {},
     "output_type": "execute_result"
    }
   ],
   "source": [
    "df_Retail_verificarTime['Time'].head(2)"
   ]
  },
  {
   "cell_type": "code",
   "execution_count": 1059,
   "metadata": {},
   "outputs": [
    {
     "name": "stdout",
     "output_type": "stream",
     "text": [
      "Todos los valores tienen el formato correcto: True\n"
     ]
    }
   ],
   "source": [
    "time_pattern = re.compile(r'^\\d{1,2}:\\d{2}:\\d{2}$')\n",
    "\n",
    "# Función para verificar el formato de la hora\n",
    "def verificar_formato_hora(time_str):\n",
    "    return bool(time_pattern.match(time_str))\n",
    "\n",
    "# Aplicar la función a la columna 'Time'\n",
    "df_Retail_verificarTime['Formato Correcto'] = df_Retail_verificarTime['Time'].astype(str).apply(verificar_formato_hora)\n",
    "\n",
    "# Verificar si todos los valores tienen el formato correcto\n",
    "todos_correctos = df_Retail_verificarTime['Formato Correcto'].all()\n",
    "\n",
    "print(f\"Todos los valores tienen el formato correcto: {todos_correctos}\")"
   ]
  },
  {
   "cell_type": "markdown",
   "metadata": {},
   "source": [
    "Total_Purchases --> Cantidad de artículos comprados por el cliente"
   ]
  },
  {
   "cell_type": "code",
   "execution_count": 1060,
   "metadata": {},
   "outputs": [],
   "source": [
    "df_Retail_verificarTotal_Purchases=df_Retail_copy_unique.copy()"
   ]
  },
  {
   "cell_type": "code",
   "execution_count": 1061,
   "metadata": {},
   "outputs": [
    {
     "data": {
      "text/plain": [
       "dtype('float64')"
      ]
     },
     "execution_count": 1061,
     "metadata": {},
     "output_type": "execute_result"
    }
   ],
   "source": [
    "df_Retail_verificarTotal_Purchases['Total_Purchases'].dtype"
   ]
  },
  {
   "cell_type": "markdown",
   "metadata": {},
   "source": [
    "Verificar normalidad de los datos"
   ]
  },
  {
   "cell_type": "code",
   "execution_count": 1062,
   "metadata": {},
   "outputs": [
    {
     "data": {
      "image/png": "[encoded data removed]",
      "text/plain": [
       "<Figure size 640x480 with 1 Axes>"
      ]
     },
     "metadata": {},
     "output_type": "display_data"
    }
   ],
   "source": [
    "sns.histplot(df_Retail_verificarTotal_Purchases['Total_Purchases'], kde=True)\n",
    "plt.title('Histograma de Total_Purchases')\n",
    "plt.xlabel('Total_Purchases')\n",
    "plt.ylabel('Frecuencia')\n",
    "plt.show()"
   ]
  },
  {
   "cell_type": "markdown",
   "metadata": {},
   "source": [
    "La variable Total_Purchases es normal, el rango va entre 1 a 10 cantidades compradas"
   ]
  },
  {
   "cell_type": "markdown",
   "metadata": {},
   "source": [
    "Amount --> Total gastado en una compra. La elimino porque la columna Total_Amount es un producto entre "
   ]
  },
  {
   "cell_type": "code",
   "execution_count": 1063,
   "metadata": {},
   "outputs": [],
   "source": [
    "df_Retail_copy_unique = df_Retail_copy_unique.drop(columns=['Amount'])"
   ]
  },
  {
   "cell_type": "markdown",
   "metadata": {},
   "source": [
    "Total_Amount --> Total amount spent by the customer (calculated as Amount * Total_Purchases)."
   ]
  },
  {
   "cell_type": "code",
   "execution_count": 1064,
   "metadata": {},
   "outputs": [],
   "source": [
    "df_Retail_verificar_TotalAmount=df_Retail_copy_unique.copy()"
   ]
  },
  {
   "cell_type": "code",
   "execution_count": 1065,
   "metadata": {},
   "outputs": [
    {
     "data": {
      "image/png": "[encoded data removed]",
      "text/plain": [
       "<Figure size 640x480 with 1 Axes>"
      ]
     },
     "metadata": {},
     "output_type": "display_data"
    }
   ],
   "source": [
    "sns.histplot(df_Retail_verificar_TotalAmount['Total_Amount'], kde=True)\n",
    "plt.title('Histograma de Total_Amount')\n",
    "plt.xlabel('Total_Amount')\n",
    "plt.ylabel('Frecuencia')\n",
    "plt.show()"
   ]
  },
  {
   "cell_type": "markdown",
   "metadata": {},
   "source": [
    "El histograma sugiere que los valores en la columna 'Total_Amount' están distribuidos de manera no uniforme, como se puede apreciar en el histograma la variable no presenta una distribución normal. Esto es un problema para realizar comparaciones estadísticas, por lo que es necesario normalizarla."
   ]
  },
  {
   "cell_type": "markdown",
   "metadata": {},
   "source": [
    "En el siguiente grafico se puede observar si la variable presenta o no una distribucion normal. La linea roja es una linea teórica donde los datos siguen una distribución normal. Si los puntos de la variable a estudiar se alinean aproximadamente a lo largo de la recta roja entonces se puede decir que es normal."
   ]
  },
  {
   "cell_type": "code",
   "execution_count": 1066,
   "metadata": {},
   "outputs": [
    {
     "data": {
      "image/png": "[encoded data removed]",
      "text/plain": [
       "<Figure size 640x480 with 1 Axes>"
      ]
     },
     "metadata": {},
     "output_type": "display_data"
    }
   ],
   "source": [
    "import scipy.stats as stats\n",
    "stats.probplot(df_Retail_verificar_TotalAmount['Total_Amount'], dist=\"norm\", plot=plt)\n",
    "plt.title('Diagrama Q-Q')\n",
    "plt.show()"
   ]
  },
  {
   "cell_type": "markdown",
   "metadata": {},
   "source": [
    "Como se puede apreciar, los puntos se desvían significativamente de la línea roja, especialmente en los extremos, lo que sugiere que los datos de 'Total_Amount' no siguen una distribución normal."
   ]
  },
  {
   "cell_type": "code",
   "execution_count": 1067,
   "metadata": {},
   "outputs": [
    {
     "data": {
      "text/plain": [
       "<seaborn.axisgrid.FacetGrid at 0x138ebd626b0>"
      ]
     },
     "execution_count": 1067,
     "metadata": {},
     "output_type": "execute_result"
    },
    {
     "data": {
      "image/png": "[encoded data removed]",
      "text/plain": [
       "<Figure size 500x500 with 1 Axes>"
      ]
     },
     "metadata": {},
     "output_type": "display_data"
    }
   ],
   "source": [
    "sns.displot(np.log(df_Retail_verificar_TotalAmount['Total_Amount']), kde = True)"
   ]
  },
  {
   "cell_type": "code",
   "execution_count": 1105,
   "metadata": {},
   "outputs": [],
   "source": [
    "df_Retail_copy_unique['Total_Amount_log'] = np.log(df_Retail_copy_unique['Total_Amount'])\n",
    "df_Retail_norm = df_Retail_copy_unique.drop(columns=['Total_Amount'])"
   ]
  },
  {
   "cell_type": "code",
   "execution_count": 1106,
   "metadata": {},
   "outputs": [
    {
     "data": {
      "image/png": "[encoded data removed]",
      "text/plain": [
       "<Figure size 640x480 with 1 Axes>"
      ]
     },
     "metadata": {},
     "output_type": "display_data"
    }
   ],
   "source": [
    "stats.probplot(df_Retail_copy_unique['Total_Amount_log'], dist=\"norm\", plot=plt)\n",
    "plt.title('Diagrama Q-Q')\n",
    "plt.show()"
   ]
  },
  {
   "cell_type": "markdown",
   "metadata": {},
   "source": [
    "Verificando la variable luego de la normalizacion, se observa que el problema persiste. Esto puede deberse a la presencia de valores atipicos. A continuacion se estudian estos."
   ]
  },
  {
   "cell_type": "markdown",
   "metadata": {},
   "source": [
    "Outliers"
   ]
  },
  {
   "cell_type": "code",
   "execution_count": 1107,
   "metadata": {},
   "outputs": [
    {
     "data": {
      "image/png": "[encoded data removed]",
      "text/plain": [
       "<Figure size 640x480 with 1 Axes>"
      ]
     },
     "metadata": {},
     "output_type": "display_data"
    }
   ],
   "source": [
    "sns.boxplot(y=df_Retail_norm['Total_Amount_log'])\n",
    "plt.title('Box Plot de Total_Amount_log')\n",
    "plt.ylabel('Total_Amount_log')\n",
    "plt.show()"
   ]
  },
  {
   "cell_type": "markdown",
   "metadata": {},
   "source": [
    "Como se puede ver en el grafico, hay evidencia de valores atipicos. Sin embargo, es posible que estos tengan sentido para el analisis, por lo que optare por dejarlos y estudiar (en el EDA) en mayor profundidad si es conveniente sacarlos o dejarlos."
   ]
  },
  {
   "cell_type": "markdown",
   "metadata": {},
   "source": [
    "Product_Category -->  Category of the purchased product."
   ]
  },
  {
   "cell_type": "code",
   "execution_count": 1071,
   "metadata": {},
   "outputs": [],
   "source": [
    "df_Retail_verificar_ProductCategory=df_Retail_norm.copy()"
   ]
  },
  {
   "cell_type": "code",
   "execution_count": 1072,
   "metadata": {},
   "outputs": [
    {
     "data": {
      "text/plain": [
       "['Electronics', 'Books', 'Home Decor', 'Grocery', 'Clothing']\n",
       "Categories (5, object): ['Books', 'Clothing', 'Electronics', 'Grocery', 'Home Decor']"
      ]
     },
     "execution_count": 1072,
     "metadata": {},
     "output_type": "execute_result"
    }
   ],
   "source": [
    "df_Retail_verificar_ProductCategory['Product_Category'].unique()"
   ]
  },
  {
   "cell_type": "markdown",
   "metadata": {},
   "source": [
    "Se observan 5 tipo de categorias"
   ]
  },
  {
   "cell_type": "markdown",
   "metadata": {},
   "source": [
    "Product_Brand --> Brand of the purchased product."
   ]
  },
  {
   "cell_type": "code",
   "execution_count": 1073,
   "metadata": {},
   "outputs": [],
   "source": [
    "df_Retail_verificar_ProductBrand=df_Retail_norm.copy()"
   ]
  },
  {
   "cell_type": "code",
   "execution_count": 1074,
   "metadata": {},
   "outputs": [
    {
     "name": "stdout",
     "output_type": "stream",
     "text": [
      "Index(['Adidas', 'Apple', 'Bed Bath & Beyond', 'BlueStar', 'Coca-Cola',\n",
      "       'HarperCollins', 'Home Depot', 'IKEA', 'Mitsubhisi', 'Nestle', 'Nike',\n",
      "       'Penguin Books', 'Pepsi', 'Random House', 'Samsung', 'Sony',\n",
      "       'Whirepool', 'Zara'],\n",
      "      dtype='object')\n"
     ]
    }
   ],
   "source": [
    "unique_ProductBrand = df_Retail_verificar_ProductBrand['Product_Brand'].cat.categories\n",
    "print(unique_ProductBrand)"
   ]
  },
  {
   "cell_type": "markdown",
   "metadata": {},
   "source": [
    "Se observan 18 marcas"
   ]
  },
  {
   "cell_type": "markdown",
   "metadata": {},
   "source": [
    "Product_Type --> Type of the purchased product."
   ]
  },
  {
   "cell_type": "code",
   "execution_count": 1075,
   "metadata": {},
   "outputs": [],
   "source": [
    "df_Retail_verificar_ProductType=df_Retail_norm.copy()"
   ]
  },
  {
   "cell_type": "code",
   "execution_count": 1076,
   "metadata": {},
   "outputs": [
    {
     "name": "stdout",
     "output_type": "stream",
     "text": [
      "Index(['Bathroom', 'Bedding', 'BlueStar AC', 'Children's', 'Chocolate',\n",
      "       'Coffee', 'Decorations', 'Dress', 'Fiction', 'Fridge', 'Furniture',\n",
      "       'Headphones', 'Jacket', 'Jeans', 'Juice', 'Kitchen', 'Laptop',\n",
      "       'Lighting', 'Literature', 'Mitsubishi 1.5 Ton 3 Star Split AC',\n",
      "       'Non-Fiction', 'Shirt', 'Shoes', 'Shorts', 'Smartphone', 'Snacks',\n",
      "       'Soft Drink', 'T-shirt', 'Tablet', 'Television', 'Thriller', 'Tools',\n",
      "       'Water'],\n",
      "      dtype='object')\n"
     ]
    }
   ],
   "source": [
    "unique_ProductType = df_Retail_verificar_ProductType['Product_Type'].cat.categories\n",
    "print(unique_ProductType)"
   ]
  },
  {
   "cell_type": "markdown",
   "metadata": {},
   "source": [
    "Feedback --> Feedback provided by the customer on the purchase."
   ]
  },
  {
   "cell_type": "code",
   "execution_count": 1077,
   "metadata": {},
   "outputs": [],
   "source": [
    "df_Retail_verificar_Feedback=df_Retail_norm.copy()"
   ]
  },
  {
   "cell_type": "code",
   "execution_count": 1078,
   "metadata": {},
   "outputs": [
    {
     "name": "stdout",
     "output_type": "stream",
     "text": [
      "Index(['Average', 'Bad', 'Excellent', 'Good'], dtype='object')\n"
     ]
    }
   ],
   "source": [
    "unique_Feedback = df_Retail_verificar_Feedback['Feedback'].cat.categories\n",
    "print(unique_Feedback)"
   ]
  },
  {
   "cell_type": "markdown",
   "metadata": {},
   "source": [
    "Shipping_Method --> Method used for shipping the product."
   ]
  },
  {
   "cell_type": "code",
   "execution_count": 1079,
   "metadata": {},
   "outputs": [],
   "source": [
    "df_Retail_verificar_ShippingMethod=df_Retail_norm.copy()"
   ]
  },
  {
   "cell_type": "code",
   "execution_count": 1080,
   "metadata": {},
   "outputs": [
    {
     "name": "stdout",
     "output_type": "stream",
     "text": [
      "Index(['Express', 'Same-Day', 'Standard'], dtype='object')\n"
     ]
    }
   ],
   "source": [
    "unique_Shipping_Method = df_Retail_verificar_ShippingMethod['Shipping_Method'].cat.categories\n",
    "print(unique_Shipping_Method)"
   ]
  },
  {
   "cell_type": "markdown",
   "metadata": {},
   "source": [
    "Payment_Method--> Method used for payment."
   ]
  },
  {
   "cell_type": "code",
   "execution_count": 1081,
   "metadata": {},
   "outputs": [],
   "source": [
    "df_Retail_verificar_Payment_Method=df_Retail_norm.copy()"
   ]
  },
  {
   "cell_type": "code",
   "execution_count": 1082,
   "metadata": {},
   "outputs": [
    {
     "name": "stdout",
     "output_type": "stream",
     "text": [
      "Index(['Cash', 'Credit Card', 'Debit Card', 'PayPal'], dtype='object')\n"
     ]
    }
   ],
   "source": [
    "unique_Payment_Method = df_Retail_verificar_Payment_Method['Payment_Method'].cat.categories\n",
    "print(unique_Payment_Method)"
   ]
  },
  {
   "cell_type": "markdown",
   "metadata": {},
   "source": [
    "Order_Status --> Status of the order (e.g., Pending, Processing, Shipped, Delivered)."
   ]
  },
  {
   "cell_type": "code",
   "execution_count": 1083,
   "metadata": {},
   "outputs": [],
   "source": [
    "df_Retail_verificar_Order_Status=df_Retail_norm.copy()"
   ]
  },
  {
   "cell_type": "code",
   "execution_count": 1084,
   "metadata": {},
   "outputs": [
    {
     "name": "stdout",
     "output_type": "stream",
     "text": [
      "Index(['Delivered', 'Pending', 'Processing', 'Shipped'], dtype='object')\n"
     ]
    }
   ],
   "source": [
    "unique_Order_Status = df_Retail_verificar_Order_Status['Order_Status'].cat.categories\n",
    "print(unique_Order_Status)"
   ]
  },
  {
   "cell_type": "markdown",
   "metadata": {},
   "source": [
    "Ratings --> ratings given by customers on different products."
   ]
  },
  {
   "cell_type": "code",
   "execution_count": 1085,
   "metadata": {},
   "outputs": [],
   "source": [
    "df_Retail_verificar_Ratings=df_Retail_norm.copy()"
   ]
  },
  {
   "cell_type": "code",
   "execution_count": 1086,
   "metadata": {},
   "outputs": [
    {
     "data": {
      "text/plain": [
       "array([4., 2., 1., 3., 5.])"
      ]
     },
     "execution_count": 1086,
     "metadata": {},
     "output_type": "execute_result"
    }
   ],
   "source": [
    "df_Retail_verificar_Ratings['Ratings'].unique()"
   ]
  },
  {
   "cell_type": "code",
   "execution_count": 1087,
   "metadata": {},
   "outputs": [],
   "source": [
    "df_Retail_norm['Ratings'] = df_Retail_norm['Ratings'].astype(int)\n",
    "df_Retail_norm['Transaction_ID'] = df_Retail_norm['Transaction_ID'].astype('category')\n",
    "df_Retail_norm['Customer_ID'] = df_Retail_norm['Customer_ID'].astype('category')\n",
    "df_Retail_norm['Zipcode'] = df_Retail_norm['Zipcode'].astype('category')\n",
    "\n"
   ]
  },
  {
   "cell_type": "code",
   "execution_count": 1088,
   "metadata": {},
   "outputs": [
    {
     "data": {
      "text/plain": [
       "array([4, 2, 1, 3, 5])"
      ]
     },
     "execution_count": 1088,
     "metadata": {},
     "output_type": "execute_result"
    }
   ],
   "source": [
    "df_Retail_norm['Ratings'].unique()"
   ]
  },
  {
   "cell_type": "markdown",
   "metadata": {},
   "source": [
    "Products"
   ]
  },
  {
   "cell_type": "code",
   "execution_count": 1089,
   "metadata": {},
   "outputs": [],
   "source": [
    "df_Retail_verificar_products=df_Retail_norm.copy()"
   ]
  },
  {
   "cell_type": "code",
   "execution_count": 1090,
   "metadata": {},
   "outputs": [
    {
     "name": "stdout",
     "output_type": "stream",
     "text": [
      "Index(['4K TV', 'A-line dress', 'Acer Iconia Tab', 'Acer Swift', 'Action',\n",
      "       'Adventure', 'Affogato', 'Air conditioner', 'Alkaline water',\n",
      "       'Amazon Fire Tablet',\n",
      "       ...\n",
      "       'White chocolate', 'Wide-leg jeans', 'Windbreaker', 'Window AC',\n",
      "       'Wireless headphones', 'Wrap dress', 'Wrench', 'Xiaomi Mi', 'iPad',\n",
      "       'iPhone'],\n",
      "      dtype='object', length=318)\n"
     ]
    }
   ],
   "source": [
    "unique_Payment_Products = df_Retail_verificar_products['products'].cat.categories\n",
    "print(unique_Payment_Products)"
   ]
  },
  {
   "cell_type": "markdown",
   "metadata": {},
   "source": [
    "##EDA"
   ]
  },
  {
   "cell_type": "code",
   "execution_count": 1091,
   "metadata": {},
   "outputs": [
    {
     "data": {
      "text/html": [
       "<div>\n",
       "<style scoped>\n",
       "    .dataframe tbody tr th:only-of-type {\n",
       "        vertical-align: middle;\n",
       "    }\n",
       "\n",
       "    .dataframe tbody tr th {\n",
       "        vertical-align: top;\n",
       "    }\n",
       "\n",
       "    .dataframe thead th {\n",
       "        text-align: right;\n",
       "    }\n",
       "</style>\n",
       "<table border=\"1\" class=\"dataframe\">\n",
       "  <thead>\n",
       "    <tr style=\"text-align: right;\">\n",
       "      <th></th>\n",
       "      <th>Transaction_ID</th>\n",
       "      <th>Customer_ID</th>\n",
       "      <th>Address</th>\n",
       "      <th>City</th>\n",
       "      <th>State</th>\n",
       "      <th>Zipcode</th>\n",
       "      <th>Country</th>\n",
       "      <th>Age</th>\n",
       "      <th>Gender</th>\n",
       "      <th>Income</th>\n",
       "      <th>Customer_Segment</th>\n",
       "      <th>Date</th>\n",
       "      <th>Month</th>\n",
       "      <th>Time</th>\n",
       "      <th>Total_Purchases</th>\n",
       "      <th>Product_Category</th>\n",
       "      <th>Product_Brand</th>\n",
       "      <th>Product_Type</th>\n",
       "      <th>Feedback</th>\n",
       "      <th>Shipping_Method</th>\n",
       "      <th>Payment_Method</th>\n",
       "      <th>Order_Status</th>\n",
       "      <th>Ratings</th>\n",
       "      <th>products</th>\n",
       "      <th>Total_Amount_log</th>\n",
       "    </tr>\n",
       "  </thead>\n",
       "  <tbody>\n",
       "    <tr>\n",
       "      <th>1</th>\n",
       "      <td>2174773.0</td>\n",
       "      <td>69749.0</td>\n",
       "      <td>82072 Dawn Centers</td>\n",
       "      <td>Nottingham</td>\n",
       "      <td>England</td>\n",
       "      <td>99071.0</td>\n",
       "      <td>United Kingdom</td>\n",
       "      <td>19</td>\n",
       "      <td>Female</td>\n",
       "      <td>Low</td>\n",
       "      <td>Premium</td>\n",
       "      <td>12/31/2023</td>\n",
       "      <td>December</td>\n",
       "      <td>8:42:04</td>\n",
       "      <td>2.0</td>\n",
       "      <td>Electronics</td>\n",
       "      <td>Samsung</td>\n",
       "      <td>Tablet</td>\n",
       "      <td>Excellent</td>\n",
       "      <td>Standard</td>\n",
       "      <td>Credit Card</td>\n",
       "      <td>Processing</td>\n",
       "      <td>4</td>\n",
       "      <td>Lenovo Tab</td>\n",
       "      <td>6.692964</td>\n",
       "    </tr>\n",
       "    <tr>\n",
       "      <th>2</th>\n",
       "      <td>6679610.0</td>\n",
       "      <td>30192.0</td>\n",
       "      <td>4133 Young Canyon</td>\n",
       "      <td>Geelong</td>\n",
       "      <td>New South Wales</td>\n",
       "      <td>75929.0</td>\n",
       "      <td>Australia</td>\n",
       "      <td>48</td>\n",
       "      <td>Male</td>\n",
       "      <td>Low</td>\n",
       "      <td>Regular</td>\n",
       "      <td>4/26/2023</td>\n",
       "      <td>April</td>\n",
       "      <td>4:06:29</td>\n",
       "      <td>3.0</td>\n",
       "      <td>Books</td>\n",
       "      <td>Penguin Books</td>\n",
       "      <td>Children's</td>\n",
       "      <td>Average</td>\n",
       "      <td>Same-Day</td>\n",
       "      <td>Credit Card</td>\n",
       "      <td>Processing</td>\n",
       "      <td>2</td>\n",
       "      <td>Sports equipment</td>\n",
       "      <td>6.969255</td>\n",
       "    </tr>\n",
       "    <tr>\n",
       "      <th>3</th>\n",
       "      <td>7232460.0</td>\n",
       "      <td>62101.0</td>\n",
       "      <td>8148 Thomas Creek Suite 100</td>\n",
       "      <td>Edmonton</td>\n",
       "      <td>Ontario</td>\n",
       "      <td>88420.0</td>\n",
       "      <td>Canada</td>\n",
       "      <td>56</td>\n",
       "      <td>Male</td>\n",
       "      <td>High</td>\n",
       "      <td>Premium</td>\n",
       "      <td>5/8/2023</td>\n",
       "      <td>May</td>\n",
       "      <td>14:55:17</td>\n",
       "      <td>7.0</td>\n",
       "      <td>Home Decor</td>\n",
       "      <td>Home Depot</td>\n",
       "      <td>Tools</td>\n",
       "      <td>Excellent</td>\n",
       "      <td>Standard</td>\n",
       "      <td>PayPal</td>\n",
       "      <td>Processing</td>\n",
       "      <td>4</td>\n",
       "      <td>Utility knife</td>\n",
       "      <td>7.810697</td>\n",
       "    </tr>\n",
       "  </tbody>\n",
       "</table>\n",
       "</div>"
      ],
      "text/plain": [
       "  Transaction_ID Customer_ID                      Address        City  \\\n",
       "1      2174773.0     69749.0           82072 Dawn Centers  Nottingham   \n",
       "2      6679610.0     30192.0            4133 Young Canyon     Geelong   \n",
       "3      7232460.0     62101.0  8148 Thomas Creek Suite 100    Edmonton   \n",
       "\n",
       "             State  Zipcode         Country  Age  Gender Income  \\\n",
       "1          England  99071.0  United Kingdom   19  Female    Low   \n",
       "2  New South Wales  75929.0       Australia   48    Male    Low   \n",
       "3          Ontario  88420.0          Canada   56    Male   High   \n",
       "\n",
       "  Customer_Segment        Date     Month      Time  Total_Purchases  \\\n",
       "1          Premium  12/31/2023  December   8:42:04              2.0   \n",
       "2          Regular   4/26/2023     April   4:06:29              3.0   \n",
       "3          Premium    5/8/2023       May  14:55:17              7.0   \n",
       "\n",
       "  Product_Category  Product_Brand Product_Type   Feedback Shipping_Method  \\\n",
       "1      Electronics        Samsung       Tablet  Excellent        Standard   \n",
       "2            Books  Penguin Books   Children's    Average        Same-Day   \n",
       "3       Home Decor     Home Depot        Tools  Excellent        Standard   \n",
       "\n",
       "  Payment_Method Order_Status  Ratings          products  Total_Amount_log  \n",
       "1    Credit Card   Processing        4        Lenovo Tab          6.692964  \n",
       "2    Credit Card   Processing        2  Sports equipment          6.969255  \n",
       "3         PayPal   Processing        4     Utility knife          7.810697  "
      ]
     },
     "execution_count": 1091,
     "metadata": {},
     "output_type": "execute_result"
    }
   ],
   "source": [
    "df_Retail_norm.head(3)"
   ]
  },
  {
   "cell_type": "code",
   "execution_count": 1092,
   "metadata": {},
   "outputs": [
    {
     "name": "stderr",
     "output_type": "stream",
     "text": [
      "C:\\Users\\mariana\\AppData\\Local\\Temp\\ipykernel_24208\\731842923.py:1: FutureWarning: The default of observed=False is deprecated and will be changed to True in a future version of pandas. Pass observed=False to retain current behavior or observed=True to adopt the future default and silence this warning.\n",
      "  transacciones = df_Retail_norm.groupby('Transaction_ID').size().reset_index(name='cantidad_productos_transaction')\n"
     ]
    },
    {
     "data": {
      "text/html": [
       "<div>\n",
       "<style scoped>\n",
       "    .dataframe tbody tr th:only-of-type {\n",
       "        vertical-align: middle;\n",
       "    }\n",
       "\n",
       "    .dataframe tbody tr th {\n",
       "        vertical-align: top;\n",
       "    }\n",
       "\n",
       "    .dataframe thead th {\n",
       "        text-align: right;\n",
       "    }\n",
       "</style>\n",
       "<table border=\"1\" class=\"dataframe\">\n",
       "  <thead>\n",
       "    <tr style=\"text-align: right;\">\n",
       "      <th></th>\n",
       "      <th>Transaction_ID</th>\n",
       "      <th>Customer_ID</th>\n",
       "      <th>Address</th>\n",
       "      <th>City</th>\n",
       "      <th>State</th>\n",
       "      <th>Zipcode</th>\n",
       "      <th>Country</th>\n",
       "      <th>Age</th>\n",
       "      <th>Gender</th>\n",
       "      <th>Income</th>\n",
       "      <th>Customer_Segment</th>\n",
       "      <th>Date</th>\n",
       "      <th>Month</th>\n",
       "      <th>Time</th>\n",
       "      <th>Total_Purchases</th>\n",
       "      <th>Product_Category</th>\n",
       "      <th>Product_Brand</th>\n",
       "      <th>Product_Type</th>\n",
       "      <th>Feedback</th>\n",
       "      <th>Shipping_Method</th>\n",
       "      <th>Payment_Method</th>\n",
       "      <th>Order_Status</th>\n",
       "      <th>Ratings</th>\n",
       "      <th>products</th>\n",
       "      <th>Total_Amount_log</th>\n",
       "      <th>cantidad_productos_transaction</th>\n",
       "    </tr>\n",
       "  </thead>\n",
       "  <tbody>\n",
       "    <tr>\n",
       "      <th>0</th>\n",
       "      <td>2174773.0</td>\n",
       "      <td>69749.0</td>\n",
       "      <td>82072 Dawn Centers</td>\n",
       "      <td>Nottingham</td>\n",
       "      <td>England</td>\n",
       "      <td>99071.0</td>\n",
       "      <td>United Kingdom</td>\n",
       "      <td>19</td>\n",
       "      <td>Female</td>\n",
       "      <td>Low</td>\n",
       "      <td>Premium</td>\n",
       "      <td>12/31/2023</td>\n",
       "      <td>December</td>\n",
       "      <td>8:42:04</td>\n",
       "      <td>2.0</td>\n",
       "      <td>Electronics</td>\n",
       "      <td>Samsung</td>\n",
       "      <td>Tablet</td>\n",
       "      <td>Excellent</td>\n",
       "      <td>Standard</td>\n",
       "      <td>Credit Card</td>\n",
       "      <td>Processing</td>\n",
       "      <td>4</td>\n",
       "      <td>Lenovo Tab</td>\n",
       "      <td>6.692964</td>\n",
       "      <td>1</td>\n",
       "    </tr>\n",
       "    <tr>\n",
       "      <th>1</th>\n",
       "      <td>6679610.0</td>\n",
       "      <td>30192.0</td>\n",
       "      <td>4133 Young Canyon</td>\n",
       "      <td>Geelong</td>\n",
       "      <td>New South Wales</td>\n",
       "      <td>75929.0</td>\n",
       "      <td>Australia</td>\n",
       "      <td>48</td>\n",
       "      <td>Male</td>\n",
       "      <td>Low</td>\n",
       "      <td>Regular</td>\n",
       "      <td>4/26/2023</td>\n",
       "      <td>April</td>\n",
       "      <td>4:06:29</td>\n",
       "      <td>3.0</td>\n",
       "      <td>Books</td>\n",
       "      <td>Penguin Books</td>\n",
       "      <td>Children's</td>\n",
       "      <td>Average</td>\n",
       "      <td>Same-Day</td>\n",
       "      <td>Credit Card</td>\n",
       "      <td>Processing</td>\n",
       "      <td>2</td>\n",
       "      <td>Sports equipment</td>\n",
       "      <td>6.969255</td>\n",
       "      <td>1</td>\n",
       "    </tr>\n",
       "    <tr>\n",
       "      <th>2</th>\n",
       "      <td>7232460.0</td>\n",
       "      <td>62101.0</td>\n",
       "      <td>8148 Thomas Creek Suite 100</td>\n",
       "      <td>Edmonton</td>\n",
       "      <td>Ontario</td>\n",
       "      <td>88420.0</td>\n",
       "      <td>Canada</td>\n",
       "      <td>56</td>\n",
       "      <td>Male</td>\n",
       "      <td>High</td>\n",
       "      <td>Premium</td>\n",
       "      <td>5/8/2023</td>\n",
       "      <td>May</td>\n",
       "      <td>14:55:17</td>\n",
       "      <td>7.0</td>\n",
       "      <td>Home Decor</td>\n",
       "      <td>Home Depot</td>\n",
       "      <td>Tools</td>\n",
       "      <td>Excellent</td>\n",
       "      <td>Standard</td>\n",
       "      <td>PayPal</td>\n",
       "      <td>Processing</td>\n",
       "      <td>4</td>\n",
       "      <td>Utility knife</td>\n",
       "      <td>7.810697</td>\n",
       "      <td>1</td>\n",
       "    </tr>\n",
       "  </tbody>\n",
       "</table>\n",
       "</div>"
      ],
      "text/plain": [
       "  Transaction_ID Customer_ID                      Address        City  \\\n",
       "0      2174773.0     69749.0           82072 Dawn Centers  Nottingham   \n",
       "1      6679610.0     30192.0            4133 Young Canyon     Geelong   \n",
       "2      7232460.0     62101.0  8148 Thomas Creek Suite 100    Edmonton   \n",
       "\n",
       "             State  Zipcode         Country  Age  Gender Income  \\\n",
       "0          England  99071.0  United Kingdom   19  Female    Low   \n",
       "1  New South Wales  75929.0       Australia   48    Male    Low   \n",
       "2          Ontario  88420.0          Canada   56    Male   High   \n",
       "\n",
       "  Customer_Segment        Date     Month      Time  Total_Purchases  \\\n",
       "0          Premium  12/31/2023  December   8:42:04              2.0   \n",
       "1          Regular   4/26/2023     April   4:06:29              3.0   \n",
       "2          Premium    5/8/2023       May  14:55:17              7.0   \n",
       "\n",
       "  Product_Category  Product_Brand Product_Type   Feedback Shipping_Method  \\\n",
       "0      Electronics        Samsung       Tablet  Excellent        Standard   \n",
       "1            Books  Penguin Books   Children's    Average        Same-Day   \n",
       "2       Home Decor     Home Depot        Tools  Excellent        Standard   \n",
       "\n",
       "  Payment_Method Order_Status  Ratings          products  Total_Amount_log  \\\n",
       "0    Credit Card   Processing        4        Lenovo Tab          6.692964   \n",
       "1    Credit Card   Processing        2  Sports equipment          6.969255   \n",
       "2         PayPal   Processing        4     Utility knife          7.810697   \n",
       "\n",
       "   cantidad_productos_transaction  \n",
       "0                               1  \n",
       "1                               1  \n",
       "2                               1  "
      ]
     },
     "execution_count": 1092,
     "metadata": {},
     "output_type": "execute_result"
    }
   ],
   "source": [
    "transacciones = df_Retail_norm.groupby('Transaction_ID').size().reset_index(name='cantidad_productos_transaction') #DISTINTOS. PORQUE LA CANTIDAD DE PRODUCTOS COMPRADOS ES Total_Purchases\n",
    "df_Retail_norm = df_Retail_norm.merge(transacciones, on='Transaction_ID', how='left')\n",
    "\n",
    "df_Retail_norm.head(3)"
   ]
  },
  {
   "cell_type": "code",
   "execution_count": 1093,
   "metadata": {},
   "outputs": [],
   "source": [
    "df_Retail_norm_filtro=df_Retail_norm.copy()"
   ]
  },
  {
   "cell_type": "code",
   "execution_count": 1094,
   "metadata": {},
   "outputs": [
    {
     "data": {
      "text/html": [
       "<div>\n",
       "<style scoped>\n",
       "    .dataframe tbody tr th:only-of-type {\n",
       "        vertical-align: middle;\n",
       "    }\n",
       "\n",
       "    .dataframe tbody tr th {\n",
       "        vertical-align: top;\n",
       "    }\n",
       "\n",
       "    .dataframe thead th {\n",
       "        text-align: right;\n",
       "    }\n",
       "</style>\n",
       "<table border=\"1\" class=\"dataframe\">\n",
       "  <thead>\n",
       "    <tr style=\"text-align: right;\">\n",
       "      <th></th>\n",
       "      <th>Transaction_ID</th>\n",
       "      <th>Customer_ID</th>\n",
       "      <th>Address</th>\n",
       "      <th>City</th>\n",
       "      <th>State</th>\n",
       "      <th>Zipcode</th>\n",
       "      <th>Country</th>\n",
       "      <th>Age</th>\n",
       "      <th>Gender</th>\n",
       "      <th>Income</th>\n",
       "      <th>Customer_Segment</th>\n",
       "      <th>Date</th>\n",
       "      <th>Month</th>\n",
       "      <th>Time</th>\n",
       "      <th>Total_Purchases</th>\n",
       "      <th>Product_Category</th>\n",
       "      <th>Product_Brand</th>\n",
       "      <th>Product_Type</th>\n",
       "      <th>Feedback</th>\n",
       "      <th>Shipping_Method</th>\n",
       "      <th>Payment_Method</th>\n",
       "      <th>Order_Status</th>\n",
       "      <th>Ratings</th>\n",
       "      <th>products</th>\n",
       "      <th>Total_Amount_log</th>\n",
       "      <th>cantidad_productos_transaction</th>\n",
       "    </tr>\n",
       "  </thead>\n",
       "  <tbody>\n",
       "  </tbody>\n",
       "</table>\n",
       "</div>"
      ],
      "text/plain": [
       "Empty DataFrame\n",
       "Columns: [Transaction_ID, Customer_ID, Address, City, State, Zipcode, Country, Age, Gender, Income, Customer_Segment, Date, Month, Time, Total_Purchases, Product_Category, Product_Brand, Product_Type, Feedback, Shipping_Method, Payment_Method, Order_Status, Ratings, products, Total_Amount_log, cantidad_productos_transaction]\n",
       "Index: []"
      ]
     },
     "execution_count": 1094,
     "metadata": {},
     "output_type": "execute_result"
    }
   ],
   "source": [
    "df_Retail_copy_unique_filtro2 = df_Retail_norm_filtro[df_Retail_norm_filtro['cantidad_productos_transaction'] > 2]\n",
    "df_Retail_copy_unique_filtro2.head(3)"
   ]
  },
  {
   "cell_type": "code",
   "execution_count": 1095,
   "metadata": {},
   "outputs": [
    {
     "data": {
      "text/html": [
       "<div>\n",
       "<style scoped>\n",
       "    .dataframe tbody tr th:only-of-type {\n",
       "        vertical-align: middle;\n",
       "    }\n",
       "\n",
       "    .dataframe tbody tr th {\n",
       "        vertical-align: top;\n",
       "    }\n",
       "\n",
       "    .dataframe thead th {\n",
       "        text-align: right;\n",
       "    }\n",
       "</style>\n",
       "<table border=\"1\" class=\"dataframe\">\n",
       "  <thead>\n",
       "    <tr style=\"text-align: right;\">\n",
       "      <th></th>\n",
       "      <th>Transaction_ID</th>\n",
       "      <th>Customer_ID</th>\n",
       "      <th>Address</th>\n",
       "      <th>City</th>\n",
       "      <th>State</th>\n",
       "      <th>Zipcode</th>\n",
       "      <th>Country</th>\n",
       "      <th>Age</th>\n",
       "      <th>Gender</th>\n",
       "      <th>Income</th>\n",
       "      <th>Customer_Segment</th>\n",
       "      <th>Date</th>\n",
       "      <th>Month</th>\n",
       "      <th>Time</th>\n",
       "      <th>Total_Purchases</th>\n",
       "      <th>Product_Category</th>\n",
       "      <th>Product_Brand</th>\n",
       "      <th>Product_Type</th>\n",
       "      <th>Feedback</th>\n",
       "      <th>Shipping_Method</th>\n",
       "      <th>Payment_Method</th>\n",
       "      <th>Order_Status</th>\n",
       "      <th>Ratings</th>\n",
       "      <th>products</th>\n",
       "      <th>Total_Amount_log</th>\n",
       "      <th>cantidad_productos_transaction</th>\n",
       "    </tr>\n",
       "  </thead>\n",
       "  <tbody>\n",
       "    <tr>\n",
       "      <th>169939</th>\n",
       "      <td>4676558.0</td>\n",
       "      <td>44964.0</td>\n",
       "      <td>96415 Kevin Dam</td>\n",
       "      <td>Canberra</td>\n",
       "      <td>New South Wales</td>\n",
       "      <td>21168.0</td>\n",
       "      <td>Australia</td>\n",
       "      <td>28</td>\n",
       "      <td>Female</td>\n",
       "      <td>Medium</td>\n",
       "      <td>New</td>\n",
       "      <td>2/20/2024</td>\n",
       "      <td>February</td>\n",
       "      <td>12:24:37</td>\n",
       "      <td>7.0</td>\n",
       "      <td>Home Decor</td>\n",
       "      <td>Bed Bath &amp; Beyond</td>\n",
       "      <td>Kitchen</td>\n",
       "      <td>Average</td>\n",
       "      <td>Same-Day</td>\n",
       "      <td>Cash</td>\n",
       "      <td>Delivered</td>\n",
       "      <td>2</td>\n",
       "      <td>Food processor</td>\n",
       "      <td>8.105344</td>\n",
       "      <td>2</td>\n",
       "    </tr>\n",
       "    <tr>\n",
       "      <th>281142</th>\n",
       "      <td>4676558.0</td>\n",
       "      <td>44964.0</td>\n",
       "      <td>96415 Kevin Dam</td>\n",
       "      <td>Canberra</td>\n",
       "      <td>New South Wales</td>\n",
       "      <td>21168.0</td>\n",
       "      <td>Australia</td>\n",
       "      <td>28</td>\n",
       "      <td>Female</td>\n",
       "      <td>Medium</td>\n",
       "      <td>New</td>\n",
       "      <td>2/20/2024</td>\n",
       "      <td>February</td>\n",
       "      <td>12:24:37</td>\n",
       "      <td>7.0</td>\n",
       "      <td>Home Decor</td>\n",
       "      <td>Bed Bath &amp; Beyond</td>\n",
       "      <td>Kitchen</td>\n",
       "      <td>Average</td>\n",
       "      <td>Same-Day</td>\n",
       "      <td>Cash</td>\n",
       "      <td>Delivered</td>\n",
       "      <td>2</td>\n",
       "      <td>Toaster</td>\n",
       "      <td>8.105344</td>\n",
       "      <td>2</td>\n",
       "    </tr>\n",
       "  </tbody>\n",
       "</table>\n",
       "</div>"
      ],
      "text/plain": [
       "       Transaction_ID Customer_ID          Address      City            State  \\\n",
       "169939      4676558.0     44964.0  96415 Kevin Dam  Canberra  New South Wales   \n",
       "281142      4676558.0     44964.0  96415 Kevin Dam  Canberra  New South Wales   \n",
       "\n",
       "        Zipcode    Country  Age  Gender  Income Customer_Segment       Date  \\\n",
       "169939  21168.0  Australia   28  Female  Medium              New  2/20/2024   \n",
       "281142  21168.0  Australia   28  Female  Medium              New  2/20/2024   \n",
       "\n",
       "           Month      Time  Total_Purchases Product_Category  \\\n",
       "169939  February  12:24:37              7.0       Home Decor   \n",
       "281142  February  12:24:37              7.0       Home Decor   \n",
       "\n",
       "            Product_Brand Product_Type Feedback Shipping_Method  \\\n",
       "169939  Bed Bath & Beyond      Kitchen  Average        Same-Day   \n",
       "281142  Bed Bath & Beyond      Kitchen  Average        Same-Day   \n",
       "\n",
       "       Payment_Method Order_Status  Ratings        products  Total_Amount_log  \\\n",
       "169939           Cash    Delivered        2  Food processor          8.105344   \n",
       "281142           Cash    Delivered        2         Toaster          8.105344   \n",
       "\n",
       "        cantidad_productos_transaction  \n",
       "169939                               2  \n",
       "281142                               2  "
      ]
     },
     "execution_count": 1095,
     "metadata": {},
     "output_type": "execute_result"
    }
   ],
   "source": [
    "df_Retail_copy_unique_4676558 = df_Retail_norm_filtro[df_Retail_norm_filtro['Transaction_ID'] == 4676558.0]\n",
    "df_Retail_copy_unique_4676558.head(3)"
   ]
  },
  {
   "cell_type": "markdown",
   "metadata": {},
   "source": [
    "Cuando se evalúa cuánto gastan los individuos por compra, se observa que no hay grandes fluctuaciones. El total varia entre 0 y 500, y la frecuencia es constante. Sin embargo, esto podria no ser muy indicativo de la realidad ya que no es lo mismo que se gaste lo 500 en una compra con un solo producto que en una con multiples productos. Para ello se estudia a continuacion el Amount promedio."
   ]
  },
  {
   "cell_type": "code",
   "execution_count": 1096,
   "metadata": {},
   "outputs": [
    {
     "name": "stdout",
     "output_type": "stream",
     "text": [
      "<class 'pandas.core.frame.DataFrame'>\n",
      "RangeIndex: 281164 entries, 0 to 281163\n",
      "Data columns (total 26 columns):\n",
      " #   Column                          Non-Null Count   Dtype   \n",
      "---  ------                          --------------   -----   \n",
      " 0   Transaction_ID                  281164 non-null  category\n",
      " 1   Customer_ID                     281164 non-null  category\n",
      " 2   Address                         281164 non-null  category\n",
      " 3   City                            281164 non-null  category\n",
      " 4   State                           281164 non-null  category\n",
      " 5   Zipcode                         281164 non-null  category\n",
      " 6   Country                         281164 non-null  category\n",
      " 7   Age                             281164 non-null  int64   \n",
      " 8   Gender                          281164 non-null  category\n",
      " 9   Income                          281164 non-null  category\n",
      " 10  Customer_Segment                281164 non-null  category\n",
      " 11  Date                            281164 non-null  category\n",
      " 12  Month                           281164 non-null  category\n",
      " 13  Time                            281164 non-null  category\n",
      " 14  Total_Purchases                 281164 non-null  float64 \n",
      " 15  Product_Category                281164 non-null  category\n",
      " 16  Product_Brand                   281164 non-null  category\n",
      " 17  Product_Type                    281164 non-null  category\n",
      " 18  Feedback                        281164 non-null  category\n",
      " 19  Shipping_Method                 281164 non-null  category\n",
      " 20  Payment_Method                  281164 non-null  category\n",
      " 21  Order_Status                    281164 non-null  category\n",
      " 22  Ratings                         281164 non-null  int64   \n",
      " 23  products                        281164 non-null  category\n",
      " 24  Total_Amount_log                281164 non-null  float64 \n",
      " 25  cantidad_productos_transaction  281164 non-null  int64   \n",
      "dtypes: category(21), float64(2), int64(3)\n",
      "memory usage: 49.7 MB\n"
     ]
    }
   ],
   "source": [
    "df_Retail_norm.info()"
   ]
  },
  {
   "cell_type": "code",
   "execution_count": 1100,
   "metadata": {},
   "outputs": [
    {
     "data": {
      "text/html": [
       "<div>\n",
       "<style scoped>\n",
       "    .dataframe tbody tr th:only-of-type {\n",
       "        vertical-align: middle;\n",
       "    }\n",
       "\n",
       "    .dataframe tbody tr th {\n",
       "        vertical-align: top;\n",
       "    }\n",
       "\n",
       "    .dataframe thead th {\n",
       "        text-align: right;\n",
       "    }\n",
       "</style>\n",
       "<table border=\"1\" class=\"dataframe\">\n",
       "  <thead>\n",
       "    <tr style=\"text-align: right;\">\n",
       "      <th></th>\n",
       "      <th>Age</th>\n",
       "      <th>Total_Purchases</th>\n",
       "      <th>Ratings</th>\n",
       "      <th>Total_Amount_log</th>\n",
       "      <th>cantidad_productos_transaction</th>\n",
       "    </tr>\n",
       "  </thead>\n",
       "  <tbody>\n",
       "    <tr>\n",
       "      <th>count</th>\n",
       "      <td>281164.000000</td>\n",
       "      <td>281164.000000</td>\n",
       "      <td>281164.000000</td>\n",
       "      <td>281164.000000</td>\n",
       "      <td>281164.000000</td>\n",
       "    </tr>\n",
       "    <tr>\n",
       "      <th>mean</th>\n",
       "      <td>35.404995</td>\n",
       "      <td>5.364076</td>\n",
       "      <td>3.165263</td>\n",
       "      <td>6.775598</td>\n",
       "      <td>1.000633</td>\n",
       "    </tr>\n",
       "    <tr>\n",
       "      <th>std</th>\n",
       "      <td>14.999750</td>\n",
       "      <td>2.868637</td>\n",
       "      <td>1.319448</td>\n",
       "      <td>1.082562</td>\n",
       "      <td>0.025153</td>\n",
       "    </tr>\n",
       "    <tr>\n",
       "      <th>min</th>\n",
       "      <td>18.000000</td>\n",
       "      <td>1.000000</td>\n",
       "      <td>1.000000</td>\n",
       "      <td>2.302585</td>\n",
       "      <td>1.000000</td>\n",
       "    </tr>\n",
       "    <tr>\n",
       "      <th>5%</th>\n",
       "      <td>19.000000</td>\n",
       "      <td>1.000000</td>\n",
       "      <td>1.000000</td>\n",
       "      <td>4.745801</td>\n",
       "      <td>1.000000</td>\n",
       "    </tr>\n",
       "    <tr>\n",
       "      <th>25%</th>\n",
       "      <td>22.000000</td>\n",
       "      <td>3.000000</td>\n",
       "      <td>2.000000</td>\n",
       "      <td>6.085501</td>\n",
       "      <td>1.000000</td>\n",
       "    </tr>\n",
       "    <tr>\n",
       "      <th>50%</th>\n",
       "      <td>32.000000</td>\n",
       "      <td>5.000000</td>\n",
       "      <td>3.000000</td>\n",
       "      <td>6.949171</td>\n",
       "      <td>1.000000</td>\n",
       "    </tr>\n",
       "    <tr>\n",
       "      <th>75%</th>\n",
       "      <td>46.000000</td>\n",
       "      <td>8.000000</td>\n",
       "      <td>4.000000</td>\n",
       "      <td>7.616495</td>\n",
       "      <td>1.000000</td>\n",
       "    </tr>\n",
       "    <tr>\n",
       "      <th>95%</th>\n",
       "      <td>65.000000</td>\n",
       "      <td>10.000000</td>\n",
       "      <td>5.000000</td>\n",
       "      <td>8.213167</td>\n",
       "      <td>1.000000</td>\n",
       "    </tr>\n",
       "    <tr>\n",
       "      <th>99%</th>\n",
       "      <td>69.000000</td>\n",
       "      <td>10.000000</td>\n",
       "      <td>5.000000</td>\n",
       "      <td>8.408715</td>\n",
       "      <td>1.000000</td>\n",
       "    </tr>\n",
       "    <tr>\n",
       "      <th>max</th>\n",
       "      <td>70.000000</td>\n",
       "      <td>10.000000</td>\n",
       "      <td>5.000000</td>\n",
       "      <td>8.517119</td>\n",
       "      <td>2.000000</td>\n",
       "    </tr>\n",
       "  </tbody>\n",
       "</table>\n",
       "</div>"
      ],
      "text/plain": [
       "                 Age  Total_Purchases        Ratings  Total_Amount_log  \\\n",
       "count  281164.000000    281164.000000  281164.000000     281164.000000   \n",
       "mean       35.404995         5.364076       3.165263          6.775598   \n",
       "std        14.999750         2.868637       1.319448          1.082562   \n",
       "min        18.000000         1.000000       1.000000          2.302585   \n",
       "5%         19.000000         1.000000       1.000000          4.745801   \n",
       "25%        22.000000         3.000000       2.000000          6.085501   \n",
       "50%        32.000000         5.000000       3.000000          6.949171   \n",
       "75%        46.000000         8.000000       4.000000          7.616495   \n",
       "95%        65.000000        10.000000       5.000000          8.213167   \n",
       "99%        69.000000        10.000000       5.000000          8.408715   \n",
       "max        70.000000        10.000000       5.000000          8.517119   \n",
       "\n",
       "       cantidad_productos_transaction  \n",
       "count                   281164.000000  \n",
       "mean                         1.000633  \n",
       "std                          0.025153  \n",
       "min                          1.000000  \n",
       "5%                           1.000000  \n",
       "25%                          1.000000  \n",
       "50%                          1.000000  \n",
       "75%                          1.000000  \n",
       "95%                          1.000000  \n",
       "99%                          1.000000  \n",
       "max                          2.000000  "
      ]
     },
     "execution_count": 1100,
     "metadata": {},
     "output_type": "execute_result"
    }
   ],
   "source": [
    "df_Retail_norm.describe(percentiles=[.05,.5,.25,.75,.95,.99])\n"
   ]
  },
  {
   "cell_type": "markdown",
   "metadata": {},
   "source": [
    "La edad promedio es de 35 años, siendo 18 la minima y 70 la maxima. el 50% de los clientes tienen menos de 32 años y se aprecia un salto a partir del cuartil 95; es decir, que los clientes son en su mayoria personas jovenes.\n",
    "La cantidad de compras realizadas por los usuarios varia entre 1 y 10. Siendo 5.36 el promedio.\n",
    "El total gastado por compra varia entre 10 y 500. Siendo 255,16 el promedio y 255,40 la mediana."
   ]
  },
  {
   "cell_type": "markdown",
   "metadata": {},
   "source": [
    "Como las personas se repiten, si quiero estudiar estadisticamente la edad de estas, tengo que hacer un drop de duplicados de Customer_ID. Commo todos los datos son en el mismo a;o, la edad de la persona va a ser la misma para todas sus compras, por lo que no me preocupa cual registro me quedo"
   ]
  },
  {
   "cell_type": "code",
   "execution_count": 2,
   "metadata": {},
   "outputs": [
    {
     "name": "stdout",
     "output_type": "stream",
     "text": [
      "6\n",
      "-7\n"
     ]
    }
   ],
   "source": [
    "from test_import import test\n",
    "\n",
    "\n",
    "print(test.suma(5,1))\n",
    "print(test.resta(1,8))\n",
    "\n",
    "\n"
   ]
  },
  {
   "cell_type": "code",
   "execution_count": 2,
   "metadata": {},
   "outputs": [
    {
     "name": "stdout",
     "output_type": "stream",
     "text": [
      "36\n"
     ]
    }
   ],
   "source": [
    "from test_import import test2\n",
    "\n",
    "print(test2.multi(6))\n"
   ]
  },
  {
   "cell_type": "code",
   "execution_count": 1,
   "metadata": {},
   "outputs": [
    {
     "data": {
      "image/png": "[encoded data removed]",
      "text/plain": [
       "<Figure size 640x480 with 1 Axes>"
      ]
     },
     "metadata": {},
     "output_type": "display_data"
    }
   ],
   "source": [
    "from test_import import plots\n",
    "\n",
    "plots.grafico()"
   ]
  }
 ],
 "metadata": {
  "kernelspec": {
   "display_name": "Python 3",
   "language": "python",
   "name": "python3"
  },
  "language_info": {
   "codemirror_mode": {
    "name": "ipython",
    "version": 3
   },
   "file_extension": ".py",
   "mimetype": "text/x-python",
   "name": "python",
   "nbconvert_exporter": "python",
   "pygments_lexer": "ipython3",
   "version": "3.10.14"
  }
 },
 "nbformat": 4,
 "nbformat_minor": 2
}
